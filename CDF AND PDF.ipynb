{
 "cells": [
  {
   "cell_type": "markdown",
   "id": "a93d1f09",
   "metadata": {},
   "source": [
    "## Distributions used for categorical data"
   ]
  },
  {
   "cell_type": "code",
   "execution_count": 1,
   "id": "002c8567",
   "metadata": {},
   "outputs": [],
   "source": [
    "import numpy as pd\n",
    "import pandas as pd\n",
    "import matplotlib.pyplot as plt\n",
    "import seaborn as sns"
   ]
  },
  {
   "cell_type": "markdown",
   "id": "a4be3c85",
   "metadata": {},
   "source": [
    "- frequency \n",
    "- Relative Frequency\n",
    "- cummulative frequency"
   ]
  },
  {
   "cell_type": "code",
   "execution_count": 2,
   "id": "e7f6ce8b",
   "metadata": {},
   "outputs": [],
   "source": [
    "data = pd.DataFrame({'company':['Audi','BMW','BENZ'], 'Frequency':[124,98,113]})"
   ]
  },
  {
   "cell_type": "code",
   "execution_count": 3,
   "id": "3fd470ab",
   "metadata": {},
   "outputs": [
    {
     "data": {
      "text/html": [
       "<div>\n",
       "<style scoped>\n",
       "    .dataframe tbody tr th:only-of-type {\n",
       "        vertical-align: middle;\n",
       "    }\n",
       "\n",
       "    .dataframe tbody tr th {\n",
       "        vertical-align: top;\n",
       "    }\n",
       "\n",
       "    .dataframe thead th {\n",
       "        text-align: right;\n",
       "    }\n",
       "</style>\n",
       "<table border=\"1\" class=\"dataframe\">\n",
       "  <thead>\n",
       "    <tr style=\"text-align: right;\">\n",
       "      <th></th>\n",
       "      <th>company</th>\n",
       "      <th>Frequency</th>\n",
       "    </tr>\n",
       "  </thead>\n",
       "  <tbody>\n",
       "    <tr>\n",
       "      <th>0</th>\n",
       "      <td>Audi</td>\n",
       "      <td>124</td>\n",
       "    </tr>\n",
       "    <tr>\n",
       "      <th>1</th>\n",
       "      <td>BMW</td>\n",
       "      <td>98</td>\n",
       "    </tr>\n",
       "    <tr>\n",
       "      <th>2</th>\n",
       "      <td>BENZ</td>\n",
       "      <td>113</td>\n",
       "    </tr>\n",
       "  </tbody>\n",
       "</table>\n",
       "</div>"
      ],
      "text/plain": [
       "  company  Frequency\n",
       "0    Audi        124\n",
       "1     BMW         98\n",
       "2    BENZ        113"
      ]
     },
     "execution_count": 3,
     "metadata": {},
     "output_type": "execute_result"
    }
   ],
   "source": [
    "data"
   ]
  },
  {
   "cell_type": "code",
   "execution_count": 4,
   "id": "923324c4",
   "metadata": {},
   "outputs": [
    {
     "data": {
      "image/png": "[encoded data removed]",
      "text/plain": [
       "<Figure size 432x288 with 1 Axes>"
      ]
     },
     "metadata": {
      "needs_background": "light"
     },
     "output_type": "display_data"
    }
   ],
   "source": [
    "## Frequency distribution \n",
    "ax = sns.barplot(x = data['company'], y = data['Frequency'])"
   ]
  },
  {
   "cell_type": "code",
   "execution_count": 5,
   "id": "28b503c1",
   "metadata": {},
   "outputs": [
    {
     "data": {
      "image/png": "[encoded data removed]",
      "text/plain": [
       "<Figure size 432x288 with 1 Axes>"
      ]
     },
     "metadata": {},
     "output_type": "display_data"
    }
   ],
   "source": [
    "## Frequency distribution \n",
    "sns.set_theme(style = 'whitegrid')\n",
    "ax = sns.barplot(x = data['company'], y = data['Frequency'])"
   ]
  },
  {
   "cell_type": "markdown",
   "id": "86dd5049",
   "metadata": {},
   "source": [
    "## Relative frequency \n"
   ]
  },
  {
   "cell_type": "code",
   "execution_count": 6,
   "id": "b75ab25f",
   "metadata": {},
   "outputs": [
    {
     "data": {
      "text/html": [
       "<div>\n",
       "<style scoped>\n",
       "    .dataframe tbody tr th:only-of-type {\n",
       "        vertical-align: middle;\n",
       "    }\n",
       "\n",
       "    .dataframe tbody tr th {\n",
       "        vertical-align: top;\n",
       "    }\n",
       "\n",
       "    .dataframe thead th {\n",
       "        text-align: right;\n",
       "    }\n",
       "</style>\n",
       "<table border=\"1\" class=\"dataframe\">\n",
       "  <thead>\n",
       "    <tr style=\"text-align: right;\">\n",
       "      <th></th>\n",
       "      <th>company</th>\n",
       "      <th>Frequency</th>\n",
       "    </tr>\n",
       "  </thead>\n",
       "  <tbody>\n",
       "    <tr>\n",
       "      <th>0</th>\n",
       "      <td>Audi</td>\n",
       "      <td>124</td>\n",
       "    </tr>\n",
       "    <tr>\n",
       "      <th>1</th>\n",
       "      <td>BMW</td>\n",
       "      <td>98</td>\n",
       "    </tr>\n",
       "    <tr>\n",
       "      <th>2</th>\n",
       "      <td>BENZ</td>\n",
       "      <td>113</td>\n",
       "    </tr>\n",
       "  </tbody>\n",
       "</table>\n",
       "</div>"
      ],
      "text/plain": [
       "  company  Frequency\n",
       "0    Audi        124\n",
       "1     BMW         98\n",
       "2    BENZ        113"
      ]
     },
     "execution_count": 6,
     "metadata": {},
     "output_type": "execute_result"
    }
   ],
   "source": [
    "data"
   ]
  },
  {
   "cell_type": "code",
   "execution_count": 7,
   "id": "d05199a1",
   "metadata": {},
   "outputs": [
    {
     "data": {
      "text/plain": [
       "335"
      ]
     },
     "execution_count": 7,
     "metadata": {},
     "output_type": "execute_result"
    }
   ],
   "source": [
    "data['Frequency'].sum()"
   ]
  },
  {
   "cell_type": "code",
   "execution_count": 8,
   "id": "4aa2e8f1",
   "metadata": {},
   "outputs": [
    {
     "data": {
      "text/plain": [
       "0.3701492537313433"
      ]
     },
     "execution_count": 8,
     "metadata": {},
     "output_type": "execute_result"
    }
   ],
   "source": [
    "124/335"
   ]
  },
  {
   "cell_type": "code",
   "execution_count": 9,
   "id": "49fe4460",
   "metadata": {},
   "outputs": [
    {
     "data": {
      "text/plain": [
       "0.3373134328358209"
      ]
     },
     "execution_count": 9,
     "metadata": {},
     "output_type": "execute_result"
    }
   ],
   "source": [
    "113/335"
   ]
  },
  {
   "cell_type": "code",
   "execution_count": 10,
   "id": "d781bc9e",
   "metadata": {},
   "outputs": [
    {
     "data": {
      "text/plain": [
       "0.29253731343283584"
      ]
     },
     "execution_count": 10,
     "metadata": {},
     "output_type": "execute_result"
    }
   ],
   "source": [
    "98/335"
   ]
  },
  {
   "cell_type": "code",
   "execution_count": 13,
   "id": "34479b2b",
   "metadata": {},
   "outputs": [
    {
     "data": {
      "text/plain": [
       "1.0"
      ]
     },
     "execution_count": 13,
     "metadata": {},
     "output_type": "execute_result"
    }
   ],
   "source": [
    "0.3701492537313433+0.3373134328358209+0.29253731343283584"
   ]
  },
  {
   "cell_type": "code",
   "execution_count": 16,
   "id": "3bd996cd",
   "metadata": {},
   "outputs": [
    {
     "data": {
      "image/png": "[encoded data removed]",
      "text/plain": [
       "<Figure size 576x432 with 1 Axes>"
      ]
     },
     "metadata": {},
     "output_type": "display_data"
    }
   ],
   "source": [
    "plt.figure(figsize =(8,6))\n",
    "sns.set_theme(style = 'whitegrid')\n",
    "x = [124/335,98/335,113/335]\n",
    "plt.pie(x, labels = ['Audi','BMW','Benz'],autopct='%1.1f%%')\n",
    "plt.show()"
   ]
  },
  {
   "cell_type": "markdown",
   "id": "c61b241f",
   "metadata": {},
   "source": [
    "## CDF [Commulative Distribution frequency]"
   ]
  },
  {
   "cell_type": "markdown",
   "id": "6d3f6572",
   "metadata": {},
   "source": [
    "## pareto diagram -->combination of frequency and relative frequency"
   ]
  },
  {
   "cell_type": "markdown",
   "id": "f2fc36bf",
   "metadata": {},
   "source": [
    "## Rules to create pareto diagram\n",
    "- create DataFrame \n",
    "- sort DataFrame by values descending \n",
    "- add column to display cummulative percentages"
   ]
  },
  {
   "cell_type": "code",
   "execution_count": 17,
   "id": "1be9bf73",
   "metadata": {},
   "outputs": [
    {
     "data": {
      "text/html": [
       "<div>\n",
       "<style scoped>\n",
       "    .dataframe tbody tr th:only-of-type {\n",
       "        vertical-align: middle;\n",
       "    }\n",
       "\n",
       "    .dataframe tbody tr th {\n",
       "        vertical-align: top;\n",
       "    }\n",
       "\n",
       "    .dataframe thead th {\n",
       "        text-align: right;\n",
       "    }\n",
       "</style>\n",
       "<table border=\"1\" class=\"dataframe\">\n",
       "  <thead>\n",
       "    <tr style=\"text-align: right;\">\n",
       "      <th></th>\n",
       "      <th>company</th>\n",
       "      <th>Frequency</th>\n",
       "    </tr>\n",
       "  </thead>\n",
       "  <tbody>\n",
       "    <tr>\n",
       "      <th>0</th>\n",
       "      <td>Audi</td>\n",
       "      <td>124</td>\n",
       "    </tr>\n",
       "    <tr>\n",
       "      <th>2</th>\n",
       "      <td>BENZ</td>\n",
       "      <td>113</td>\n",
       "    </tr>\n",
       "    <tr>\n",
       "      <th>1</th>\n",
       "      <td>BMW</td>\n",
       "      <td>98</td>\n",
       "    </tr>\n",
       "  </tbody>\n",
       "</table>\n",
       "</div>"
      ],
      "text/plain": [
       "  company  Frequency\n",
       "0    Audi        124\n",
       "2    BENZ        113\n",
       "1     BMW         98"
      ]
     },
     "execution_count": 17,
     "metadata": {},
     "output_type": "execute_result"
    }
   ],
   "source": [
    "## sort values\n",
    "\n",
    "data = data.sort_values(by = 'Frequency', ascending =False)\n",
    "data"
   ]
  },
  {
   "cell_type": "code",
   "execution_count": 25,
   "id": "eb45cbd0",
   "metadata": {},
   "outputs": [
    {
     "data": {
      "text/html": [
       "<div>\n",
       "<style scoped>\n",
       "    .dataframe tbody tr th:only-of-type {\n",
       "        vertical-align: middle;\n",
       "    }\n",
       "\n",
       "    .dataframe tbody tr th {\n",
       "        vertical-align: top;\n",
       "    }\n",
       "\n",
       "    .dataframe thead th {\n",
       "        text-align: right;\n",
       "    }\n",
       "</style>\n",
       "<table border=\"1\" class=\"dataframe\">\n",
       "  <thead>\n",
       "    <tr style=\"text-align: right;\">\n",
       "      <th></th>\n",
       "      <th>company</th>\n",
       "      <th>Frequency</th>\n",
       "      <th>Relative_freuency</th>\n",
       "    </tr>\n",
       "  </thead>\n",
       "  <tbody>\n",
       "    <tr>\n",
       "      <th>0</th>\n",
       "      <td>Audi</td>\n",
       "      <td>124</td>\n",
       "      <td>0.370149</td>\n",
       "    </tr>\n",
       "    <tr>\n",
       "      <th>2</th>\n",
       "      <td>BENZ</td>\n",
       "      <td>113</td>\n",
       "      <td>0.337313</td>\n",
       "    </tr>\n",
       "    <tr>\n",
       "      <th>1</th>\n",
       "      <td>BMW</td>\n",
       "      <td>98</td>\n",
       "      <td>0.292537</td>\n",
       "    </tr>\n",
       "  </tbody>\n",
       "</table>\n",
       "</div>"
      ],
      "text/plain": [
       "  company  Frequency  Relative_freuency\n",
       "0    Audi        124           0.370149\n",
       "2    BENZ        113           0.337313\n",
       "1     BMW         98           0.292537"
      ]
     },
     "execution_count": 25,
     "metadata": {},
     "output_type": "execute_result"
    }
   ],
   "source": [
    "data ['Relative_freuency']= [0.3701492537313433,0.3373134328358209,0.29253731343283584]\n",
    "data"
   ]
  },
  {
   "cell_type": "code",
   "execution_count": 18,
   "id": "75948ec7",
   "metadata": {},
   "outputs": [
    {
     "data": {
      "text/plain": [
       "0.3701492537313433"
      ]
     },
     "execution_count": 18,
     "metadata": {},
     "output_type": "execute_result"
    }
   ],
   "source": [
    "124 /335"
   ]
  },
  {
   "cell_type": "code",
   "execution_count": 19,
   "id": "1e3c9203",
   "metadata": {},
   "outputs": [
    {
     "data": {
      "text/plain": [
       "0.3373134328358209"
      ]
     },
     "execution_count": 19,
     "metadata": {},
     "output_type": "execute_result"
    }
   ],
   "source": [
    "113/335"
   ]
  },
  {
   "cell_type": "code",
   "execution_count": 20,
   "id": "88c001cb",
   "metadata": {},
   "outputs": [
    {
     "data": {
      "text/plain": [
       "0.7074626865671642"
      ]
     },
     "execution_count": 20,
     "metadata": {},
     "output_type": "execute_result"
    }
   ],
   "source": [
    "0.3701492537313433+0.3373134328358209"
   ]
  },
  {
   "cell_type": "code",
   "execution_count": 22,
   "id": "58ab59a6",
   "metadata": {},
   "outputs": [
    {
     "data": {
      "text/plain": [
       "0.29253731343283584"
      ]
     },
     "execution_count": 22,
     "metadata": {},
     "output_type": "execute_result"
    }
   ],
   "source": [
    "98/335"
   ]
  },
  {
   "cell_type": "code",
   "execution_count": 23,
   "id": "6cf31a84",
   "metadata": {},
   "outputs": [
    {
     "data": {
      "text/plain": [
       "1.0"
      ]
     },
     "execution_count": 23,
     "metadata": {},
     "output_type": "execute_result"
    }
   ],
   "source": [
    "0.7074626865671642+0.29253731343283584"
   ]
  },
  {
   "cell_type": "code",
   "execution_count": 27,
   "id": "e67f00ca",
   "metadata": {},
   "outputs": [],
   "source": [
    "data['cummulative_frequency'] = data['Frequency'].cumsum()/ data ['Frequency'].sum() *100"
   ]
  },
  {
   "cell_type": "code",
   "execution_count": 28,
   "id": "1b735ecf",
   "metadata": {},
   "outputs": [
    {
     "data": {
      "text/html": [
       "<div>\n",
       "<style scoped>\n",
       "    .dataframe tbody tr th:only-of-type {\n",
       "        vertical-align: middle;\n",
       "    }\n",
       "\n",
       "    .dataframe tbody tr th {\n",
       "        vertical-align: top;\n",
       "    }\n",
       "\n",
       "    .dataframe thead th {\n",
       "        text-align: right;\n",
       "    }\n",
       "</style>\n",
       "<table border=\"1\" class=\"dataframe\">\n",
       "  <thead>\n",
       "    <tr style=\"text-align: right;\">\n",
       "      <th></th>\n",
       "      <th>company</th>\n",
       "      <th>Frequency</th>\n",
       "      <th>Relative_freuency</th>\n",
       "      <th>cummulative_frequency</th>\n",
       "    </tr>\n",
       "  </thead>\n",
       "  <tbody>\n",
       "    <tr>\n",
       "      <th>0</th>\n",
       "      <td>Audi</td>\n",
       "      <td>124</td>\n",
       "      <td>0.370149</td>\n",
       "      <td>37.014925</td>\n",
       "    </tr>\n",
       "    <tr>\n",
       "      <th>2</th>\n",
       "      <td>BENZ</td>\n",
       "      <td>113</td>\n",
       "      <td>0.337313</td>\n",
       "      <td>70.746269</td>\n",
       "    </tr>\n",
       "    <tr>\n",
       "      <th>1</th>\n",
       "      <td>BMW</td>\n",
       "      <td>98</td>\n",
       "      <td>0.292537</td>\n",
       "      <td>100.000000</td>\n",
       "    </tr>\n",
       "  </tbody>\n",
       "</table>\n",
       "</div>"
      ],
      "text/plain": [
       "  company  Frequency  Relative_freuency  cummulative_frequency\n",
       "0    Audi        124           0.370149              37.014925\n",
       "2    BENZ        113           0.337313              70.746269\n",
       "1     BMW         98           0.292537             100.000000"
      ]
     },
     "execution_count": 28,
     "metadata": {},
     "output_type": "execute_result"
    }
   ],
   "source": [
    "data"
   ]
  },
  {
   "cell_type": "code",
   "execution_count": 33,
   "id": "25b5c089",
   "metadata": {},
   "outputs": [
    {
     "data": {
      "text/plain": [
       "Text(0, 0.5, 'frequency')"
      ]
     },
     "execution_count": 33,
     "metadata": {},
     "output_type": "execute_result"
    },
    {
     "data": {
      "image/png": "[encoded data removed]",
      "text/plain": [
       "<Figure size 360x360 with 1 Axes>"
      ]
     },
     "metadata": {},
     "output_type": "display_data"
    }
   ],
   "source": [
    "fig = plt.figure(figsize = (5,5))\n",
    "ax = fig.add_subplot(1,1,1)\n",
    "ax.bar(data['company'],data['Frequency'])\n",
    "ax.set_title('pareto diagram')\n",
    "ax.set_xlabel('companies')\n",
    "ax.set_ylabel('frequency')"
   ]
  },
  {
   "cell_type": "code",
   "execution_count": 40,
   "id": "2fc3f631",
   "metadata": {},
   "outputs": [],
   "source": [
    "from matplotlib.ticker import PercentFormatter"
   ]
  },
  {
   "cell_type": "code",
   "execution_count": 41,
   "id": "890bc154",
   "metadata": {},
   "outputs": [
    {
     "data": {
      "image/png": "[encoded data removed]",
      "text/plain": [
       "<Figure size 360x360 with 2 Axes>"
      ]
     },
     "metadata": {},
     "output_type": "display_data"
    }
   ],
   "source": [
    "fig = plt.figure(figsize = (5,5))\n",
    "ax = fig.add_subplot(1,1,1)\n",
    "ax.bar(data['company'],data['Frequency'])\n",
    "ax.set_title('pareto diagram')\n",
    "ax.set_xlabel('companies')\n",
    "ax.set_ylabel('frequency')\n",
    "\n",
    "## right side y_axis\n",
    "ax2 = ax.twinx()\n",
    "ax2.set_ylabel('cummulative_frequency')\n",
    "ax2.plot(data['company'],data ['cummulative_frequency'],color ='r',marker ='*',ms=5)\n",
    "ax2.yaxis.set_major_formatter(PercentFormatter())\n",
    "plt.show()\n"
   ]
  },
  {
   "cell_type": "code",
   "execution_count": null,
   "id": "687b5393",
   "metadata": {},
   "outputs": [],
   "source": []
  },
  {
   "cell_type": "code",
   "execution_count": null,
   "id": "93481413",
   "metadata": {},
   "outputs": [],
   "source": []
  }
 ],
 "metadata": {
  "kernelspec": {
   "display_name": "Python 3 (ipykernel)",
   "language": "python",
   "name": "python3"
  },
  "language_info": {
   "codemirror_mode": {
    "name": "ipython",
    "version": 3
   },
   "file_extension": ".py",
   "mimetype": "text/x-python",
   "name": "python",
   "nbconvert_exporter": "python",
   "pygments_lexer": "ipython3",
   "version": "3.9.12"
  }
 },
 "nbformat": 4,
 "nbformat_minor": 5
}
