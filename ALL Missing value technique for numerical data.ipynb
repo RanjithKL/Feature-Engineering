{
 "cells": [
  {
   "cell_type": "markdown",
   "id": "3b558e8b",
   "metadata": {},
   "source": [
    "# ways to solve missing values [numerical data]\n",
    "mean , median ,mode technique,\n",
    "constant technique,\n",
    "Arbitary value technique,\n",
    "end of distribution,\n",
    "Random sample technique,"
   ]
  },
  {
   "cell_type": "code",
   "execution_count": 1,
   "id": "aeb0c440",
   "metadata": {},
   "outputs": [],
   "source": [
    "import numpy as np\n",
    "import pandas as pd\n",
    "import matplotlib.pyplot as plt\n",
    "import seaborn as sns\n",
    "import stat\n",
    "import sklearn"
   ]
  },
  {
   "cell_type": "code",
   "execution_count": 2,
   "id": "3bc2e62f",
   "metadata": {},
   "outputs": [],
   "source": [
    "df = pd.read_csv('./titanic.csv', usecols=['Age','Fare','Survived'])"
   ]
  },
  {
   "cell_type": "code",
   "execution_count": 3,
   "id": "f640e6a2",
   "metadata": {},
   "outputs": [
    {
     "data": {
      "text/html": [
       "<div>\n",
       "<style scoped>\n",
       "    .dataframe tbody tr th:only-of-type {\n",
       "        vertical-align: middle;\n",
       "    }\n",
       "\n",
       "    .dataframe tbody tr th {\n",
       "        vertical-align: top;\n",
       "    }\n",
       "\n",
       "    .dataframe thead th {\n",
       "        text-align: right;\n",
       "    }\n",
       "</style>\n",
       "<table border=\"1\" class=\"dataframe\">\n",
       "  <thead>\n",
       "    <tr style=\"text-align: right;\">\n",
       "      <th></th>\n",
       "      <th>Survived</th>\n",
       "      <th>Age</th>\n",
       "      <th>Fare</th>\n",
       "    </tr>\n",
       "  </thead>\n",
       "  <tbody>\n",
       "    <tr>\n",
       "      <th>0</th>\n",
       "      <td>0</td>\n",
       "      <td>34.5</td>\n",
       "      <td>7.8292</td>\n",
       "    </tr>\n",
       "    <tr>\n",
       "      <th>1</th>\n",
       "      <td>1</td>\n",
       "      <td>47.0</td>\n",
       "      <td>7.0000</td>\n",
       "    </tr>\n",
       "    <tr>\n",
       "      <th>2</th>\n",
       "      <td>0</td>\n",
       "      <td>62.0</td>\n",
       "      <td>9.6875</td>\n",
       "    </tr>\n",
       "    <tr>\n",
       "      <th>3</th>\n",
       "      <td>0</td>\n",
       "      <td>27.0</td>\n",
       "      <td>8.6625</td>\n",
       "    </tr>\n",
       "    <tr>\n",
       "      <th>4</th>\n",
       "      <td>1</td>\n",
       "      <td>22.0</td>\n",
       "      <td>12.2875</td>\n",
       "    </tr>\n",
       "    <tr>\n",
       "      <th>5</th>\n",
       "      <td>0</td>\n",
       "      <td>14.0</td>\n",
       "      <td>9.2250</td>\n",
       "    </tr>\n",
       "    <tr>\n",
       "      <th>6</th>\n",
       "      <td>1</td>\n",
       "      <td>30.0</td>\n",
       "      <td>7.6292</td>\n",
       "    </tr>\n",
       "    <tr>\n",
       "      <th>7</th>\n",
       "      <td>0</td>\n",
       "      <td>26.0</td>\n",
       "      <td>29.0000</td>\n",
       "    </tr>\n",
       "    <tr>\n",
       "      <th>8</th>\n",
       "      <td>1</td>\n",
       "      <td>18.0</td>\n",
       "      <td>7.2292</td>\n",
       "    </tr>\n",
       "    <tr>\n",
       "      <th>9</th>\n",
       "      <td>0</td>\n",
       "      <td>21.0</td>\n",
       "      <td>24.1500</td>\n",
       "    </tr>\n",
       "  </tbody>\n",
       "</table>\n",
       "</div>"
      ],
      "text/plain": [
       "   Survived   Age     Fare\n",
       "0         0  34.5   7.8292\n",
       "1         1  47.0   7.0000\n",
       "2         0  62.0   9.6875\n",
       "3         0  27.0   8.6625\n",
       "4         1  22.0  12.2875\n",
       "5         0  14.0   9.2250\n",
       "6         1  30.0   7.6292\n",
       "7         0  26.0  29.0000\n",
       "8         1  18.0   7.2292\n",
       "9         0  21.0  24.1500"
      ]
     },
     "execution_count": 3,
     "metadata": {},
     "output_type": "execute_result"
    }
   ],
   "source": [
    "df.head(10)"
   ]
  },
  {
   "cell_type": "code",
   "execution_count": 4,
   "id": "48724d6e",
   "metadata": {},
   "outputs": [],
   "source": [
    "## checking null values"
   ]
  },
  {
   "cell_type": "code",
   "execution_count": 5,
   "id": "fe9ad747",
   "metadata": {},
   "outputs": [
    {
     "data": {
      "text/plain": [
       "Survived     0\n",
       "Age         86\n",
       "Fare         1\n",
       "dtype: int64"
      ]
     },
     "execution_count": 5,
     "metadata": {},
     "output_type": "execute_result"
    }
   ],
   "source": [
    "df.isnull().sum()"
   ]
  },
  {
   "cell_type": "code",
   "execution_count": 6,
   "id": "672ba90a",
   "metadata": {},
   "outputs": [
    {
     "data": {
      "text/plain": [
       "dtype('float64')"
      ]
     },
     "execution_count": 6,
     "metadata": {},
     "output_type": "execute_result"
    }
   ],
   "source": [
    "df['Age'].dtype"
   ]
  },
  {
   "cell_type": "code",
   "execution_count": 7,
   "id": "c2ea46db",
   "metadata": {},
   "outputs": [
    {
     "data": {
      "text/plain": [
       "dtype('float64')"
      ]
     },
     "execution_count": 7,
     "metadata": {},
     "output_type": "execute_result"
    }
   ],
   "source": [
    "df['Fare'].dtype"
   ]
  },
  {
   "cell_type": "code",
   "execution_count": 8,
   "id": "fb8960af",
   "metadata": {},
   "outputs": [
    {
     "data": {
      "text/plain": [
       "(418, 3)"
      ]
     },
     "execution_count": 8,
     "metadata": {},
     "output_type": "execute_result"
    }
   ],
   "source": [
    "df.shape"
   ]
  },
  {
   "cell_type": "code",
   "execution_count": 9,
   "id": "2aaf8431",
   "metadata": {},
   "outputs": [
    {
     "data": {
      "text/plain": [
       "86"
      ]
     },
     "execution_count": 9,
     "metadata": {},
     "output_type": "execute_result"
    }
   ],
   "source": [
    "df['Age'].isnull().sum()"
   ]
  },
  {
   "cell_type": "code",
   "execution_count": 10,
   "id": "5f1f46b1",
   "metadata": {},
   "outputs": [
    {
     "data": {
      "text/plain": [
       "332"
      ]
     },
     "execution_count": 10,
     "metadata": {},
     "output_type": "execute_result"
    }
   ],
   "source": [
    "418 -86"
   ]
  },
  {
   "cell_type": "code",
   "execution_count": 11,
   "id": "8aeeaf7e",
   "metadata": {},
   "outputs": [],
   "source": [
    "## filling null values in age colunm with mean median mode technique"
   ]
  },
  {
   "cell_type": "code",
   "execution_count": 12,
   "id": "c3bd2878",
   "metadata": {},
   "outputs": [],
   "source": [
    "mean = df ['Age'].mean()\n",
    "median  = df['Age'].median()\n",
    "mode = df['Age'].mode()"
   ]
  },
  {
   "cell_type": "code",
   "execution_count": 13,
   "id": "342fa19c",
   "metadata": {},
   "outputs": [
    {
     "data": {
      "text/plain": [
       "21.0"
      ]
     },
     "execution_count": 13,
     "metadata": {},
     "output_type": "execute_result"
    }
   ],
   "source": [
    "mode = df['Age'].mode()[0]\n",
    "mode"
   ]
  },
  {
   "cell_type": "code",
   "execution_count": 14,
   "id": "02a695fc",
   "metadata": {},
   "outputs": [
    {
     "name": "stdout",
     "output_type": "stream",
     "text": [
      "the mean values for age colunm = 30.272590361445783\n",
      "the mean values for age colunm = 27.0\n",
      "the mean values for age colunm = 21.0\n"
     ]
    }
   ],
   "source": [
    "print(f'the mean values for age colunm = {mean}')\n",
    "print(f'the mean values for age colunm = {median}')\n",
    "print(f'the mean values for age colunm = {mode}')"
   ]
  },
  {
   "cell_type": "code",
   "execution_count": 15,
   "id": "46a942bb",
   "metadata": {},
   "outputs": [],
   "source": [
    "## for mean"
   ]
  },
  {
   "cell_type": "code",
   "execution_count": 16,
   "id": "01831beb",
   "metadata": {},
   "outputs": [],
   "source": [
    "def mean_replacement(df,var,mean):\n",
    "    return df[var].fillna(mean)"
   ]
  },
  {
   "cell_type": "code",
   "execution_count": 17,
   "id": "73cb9584",
   "metadata": {},
   "outputs": [],
   "source": [
    "df.loc[:,'Age_mean_replaced'] = mean_replacement(df,'Age',mean)"
   ]
  },
  {
   "cell_type": "code",
   "execution_count": 18,
   "id": "8ebe8b2b",
   "metadata": {},
   "outputs": [
    {
     "data": {
      "text/html": [
       "<div>\n",
       "<style scoped>\n",
       "    .dataframe tbody tr th:only-of-type {\n",
       "        vertical-align: middle;\n",
       "    }\n",
       "\n",
       "    .dataframe tbody tr th {\n",
       "        vertical-align: top;\n",
       "    }\n",
       "\n",
       "    .dataframe thead th {\n",
       "        text-align: right;\n",
       "    }\n",
       "</style>\n",
       "<table border=\"1\" class=\"dataframe\">\n",
       "  <thead>\n",
       "    <tr style=\"text-align: right;\">\n",
       "      <th></th>\n",
       "      <th>Survived</th>\n",
       "      <th>Age</th>\n",
       "      <th>Fare</th>\n",
       "      <th>Age_mean_replaced</th>\n",
       "    </tr>\n",
       "  </thead>\n",
       "  <tbody>\n",
       "    <tr>\n",
       "      <th>0</th>\n",
       "      <td>0</td>\n",
       "      <td>34.5</td>\n",
       "      <td>7.8292</td>\n",
       "      <td>34.5</td>\n",
       "    </tr>\n",
       "    <tr>\n",
       "      <th>1</th>\n",
       "      <td>1</td>\n",
       "      <td>47.0</td>\n",
       "      <td>7.0000</td>\n",
       "      <td>47.0</td>\n",
       "    </tr>\n",
       "    <tr>\n",
       "      <th>2</th>\n",
       "      <td>0</td>\n",
       "      <td>62.0</td>\n",
       "      <td>9.6875</td>\n",
       "      <td>62.0</td>\n",
       "    </tr>\n",
       "    <tr>\n",
       "      <th>3</th>\n",
       "      <td>0</td>\n",
       "      <td>27.0</td>\n",
       "      <td>8.6625</td>\n",
       "      <td>27.0</td>\n",
       "    </tr>\n",
       "    <tr>\n",
       "      <th>4</th>\n",
       "      <td>1</td>\n",
       "      <td>22.0</td>\n",
       "      <td>12.2875</td>\n",
       "      <td>22.0</td>\n",
       "    </tr>\n",
       "    <tr>\n",
       "      <th>5</th>\n",
       "      <td>0</td>\n",
       "      <td>14.0</td>\n",
       "      <td>9.2250</td>\n",
       "      <td>14.0</td>\n",
       "    </tr>\n",
       "    <tr>\n",
       "      <th>6</th>\n",
       "      <td>1</td>\n",
       "      <td>30.0</td>\n",
       "      <td>7.6292</td>\n",
       "      <td>30.0</td>\n",
       "    </tr>\n",
       "    <tr>\n",
       "      <th>7</th>\n",
       "      <td>0</td>\n",
       "      <td>26.0</td>\n",
       "      <td>29.0000</td>\n",
       "      <td>26.0</td>\n",
       "    </tr>\n",
       "    <tr>\n",
       "      <th>8</th>\n",
       "      <td>1</td>\n",
       "      <td>18.0</td>\n",
       "      <td>7.2292</td>\n",
       "      <td>18.0</td>\n",
       "    </tr>\n",
       "    <tr>\n",
       "      <th>9</th>\n",
       "      <td>0</td>\n",
       "      <td>21.0</td>\n",
       "      <td>24.1500</td>\n",
       "      <td>21.0</td>\n",
       "    </tr>\n",
       "  </tbody>\n",
       "</table>\n",
       "</div>"
      ],
      "text/plain": [
       "   Survived   Age     Fare  Age_mean_replaced\n",
       "0         0  34.5   7.8292               34.5\n",
       "1         1  47.0   7.0000               47.0\n",
       "2         0  62.0   9.6875               62.0\n",
       "3         0  27.0   8.6625               27.0\n",
       "4         1  22.0  12.2875               22.0\n",
       "5         0  14.0   9.2250               14.0\n",
       "6         1  30.0   7.6292               30.0\n",
       "7         0  26.0  29.0000               26.0\n",
       "8         1  18.0   7.2292               18.0\n",
       "9         0  21.0  24.1500               21.0"
      ]
     },
     "execution_count": 18,
     "metadata": {},
     "output_type": "execute_result"
    }
   ],
   "source": [
    "df.head(10)"
   ]
  },
  {
   "cell_type": "code",
   "execution_count": 19,
   "id": "afd7d6ef",
   "metadata": {},
   "outputs": [],
   "source": [
    "## for median"
   ]
  },
  {
   "cell_type": "code",
   "execution_count": 20,
   "id": "bacb0417",
   "metadata": {},
   "outputs": [],
   "source": [
    "def mean_replacement(df,var,median):\n",
    "    return df[var].fillna(median)"
   ]
  },
  {
   "cell_type": "code",
   "execution_count": 21,
   "id": "50768476",
   "metadata": {},
   "outputs": [],
   "source": [
    "df.loc[:,'Age_median_replaced'] = mean_replacement(df,'Age',median)"
   ]
  },
  {
   "cell_type": "code",
   "execution_count": 22,
   "id": "9a7edf49",
   "metadata": {},
   "outputs": [
    {
     "data": {
      "text/html": [
       "<div>\n",
       "<style scoped>\n",
       "    .dataframe tbody tr th:only-of-type {\n",
       "        vertical-align: middle;\n",
       "    }\n",
       "\n",
       "    .dataframe tbody tr th {\n",
       "        vertical-align: top;\n",
       "    }\n",
       "\n",
       "    .dataframe thead th {\n",
       "        text-align: right;\n",
       "    }\n",
       "</style>\n",
       "<table border=\"1\" class=\"dataframe\">\n",
       "  <thead>\n",
       "    <tr style=\"text-align: right;\">\n",
       "      <th></th>\n",
       "      <th>Survived</th>\n",
       "      <th>Age</th>\n",
       "      <th>Fare</th>\n",
       "      <th>Age_mean_replaced</th>\n",
       "      <th>Age_median_replaced</th>\n",
       "    </tr>\n",
       "  </thead>\n",
       "  <tbody>\n",
       "    <tr>\n",
       "      <th>413</th>\n",
       "      <td>0</td>\n",
       "      <td>NaN</td>\n",
       "      <td>8.0500</td>\n",
       "      <td>30.27259</td>\n",
       "      <td>27.0</td>\n",
       "    </tr>\n",
       "    <tr>\n",
       "      <th>414</th>\n",
       "      <td>1</td>\n",
       "      <td>39.0</td>\n",
       "      <td>108.9000</td>\n",
       "      <td>39.00000</td>\n",
       "      <td>39.0</td>\n",
       "    </tr>\n",
       "    <tr>\n",
       "      <th>415</th>\n",
       "      <td>0</td>\n",
       "      <td>38.5</td>\n",
       "      <td>7.2500</td>\n",
       "      <td>38.50000</td>\n",
       "      <td>38.5</td>\n",
       "    </tr>\n",
       "    <tr>\n",
       "      <th>416</th>\n",
       "      <td>0</td>\n",
       "      <td>NaN</td>\n",
       "      <td>8.0500</td>\n",
       "      <td>30.27259</td>\n",
       "      <td>27.0</td>\n",
       "    </tr>\n",
       "    <tr>\n",
       "      <th>417</th>\n",
       "      <td>0</td>\n",
       "      <td>NaN</td>\n",
       "      <td>22.3583</td>\n",
       "      <td>30.27259</td>\n",
       "      <td>27.0</td>\n",
       "    </tr>\n",
       "  </tbody>\n",
       "</table>\n",
       "</div>"
      ],
      "text/plain": [
       "     Survived   Age      Fare  Age_mean_replaced  Age_median_replaced\n",
       "413         0   NaN    8.0500           30.27259                 27.0\n",
       "414         1  39.0  108.9000           39.00000                 39.0\n",
       "415         0  38.5    7.2500           38.50000                 38.5\n",
       "416         0   NaN    8.0500           30.27259                 27.0\n",
       "417         0   NaN   22.3583           30.27259                 27.0"
      ]
     },
     "execution_count": 22,
     "metadata": {},
     "output_type": "execute_result"
    }
   ],
   "source": [
    "df.tail(5)"
   ]
  },
  {
   "cell_type": "code",
   "execution_count": 23,
   "id": "1985f474",
   "metadata": {},
   "outputs": [],
   "source": [
    "## for mode"
   ]
  },
  {
   "cell_type": "code",
   "execution_count": 24,
   "id": "bdbdd89b",
   "metadata": {},
   "outputs": [],
   "source": [
    "def mean_replacement(df,var,mode):\n",
    "    return df[var].fillna(mode)"
   ]
  },
  {
   "cell_type": "code",
   "execution_count": 25,
   "id": "02f977f8",
   "metadata": {},
   "outputs": [],
   "source": [
    "df.loc[:,'Age_mode_replaced'] = mean_replacement(df,'Age',mode)"
   ]
  },
  {
   "cell_type": "code",
   "execution_count": 26,
   "id": "ee3fbb04",
   "metadata": {},
   "outputs": [
    {
     "data": {
      "text/html": [
       "<div>\n",
       "<style scoped>\n",
       "    .dataframe tbody tr th:only-of-type {\n",
       "        vertical-align: middle;\n",
       "    }\n",
       "\n",
       "    .dataframe tbody tr th {\n",
       "        vertical-align: top;\n",
       "    }\n",
       "\n",
       "    .dataframe thead th {\n",
       "        text-align: right;\n",
       "    }\n",
       "</style>\n",
       "<table border=\"1\" class=\"dataframe\">\n",
       "  <thead>\n",
       "    <tr style=\"text-align: right;\">\n",
       "      <th></th>\n",
       "      <th>Survived</th>\n",
       "      <th>Age</th>\n",
       "      <th>Fare</th>\n",
       "      <th>Age_mean_replaced</th>\n",
       "      <th>Age_median_replaced</th>\n",
       "      <th>Age_mode_replaced</th>\n",
       "    </tr>\n",
       "  </thead>\n",
       "  <tbody>\n",
       "    <tr>\n",
       "      <th>413</th>\n",
       "      <td>0</td>\n",
       "      <td>NaN</td>\n",
       "      <td>8.0500</td>\n",
       "      <td>30.27259</td>\n",
       "      <td>27.0</td>\n",
       "      <td>21.0</td>\n",
       "    </tr>\n",
       "    <tr>\n",
       "      <th>414</th>\n",
       "      <td>1</td>\n",
       "      <td>39.0</td>\n",
       "      <td>108.9000</td>\n",
       "      <td>39.00000</td>\n",
       "      <td>39.0</td>\n",
       "      <td>39.0</td>\n",
       "    </tr>\n",
       "    <tr>\n",
       "      <th>415</th>\n",
       "      <td>0</td>\n",
       "      <td>38.5</td>\n",
       "      <td>7.2500</td>\n",
       "      <td>38.50000</td>\n",
       "      <td>38.5</td>\n",
       "      <td>38.5</td>\n",
       "    </tr>\n",
       "    <tr>\n",
       "      <th>416</th>\n",
       "      <td>0</td>\n",
       "      <td>NaN</td>\n",
       "      <td>8.0500</td>\n",
       "      <td>30.27259</td>\n",
       "      <td>27.0</td>\n",
       "      <td>21.0</td>\n",
       "    </tr>\n",
       "    <tr>\n",
       "      <th>417</th>\n",
       "      <td>0</td>\n",
       "      <td>NaN</td>\n",
       "      <td>22.3583</td>\n",
       "      <td>30.27259</td>\n",
       "      <td>27.0</td>\n",
       "      <td>21.0</td>\n",
       "    </tr>\n",
       "  </tbody>\n",
       "</table>\n",
       "</div>"
      ],
      "text/plain": [
       "     Survived   Age      Fare  Age_mean_replaced  Age_median_replaced  \\\n",
       "413         0   NaN    8.0500           30.27259                 27.0   \n",
       "414         1  39.0  108.9000           39.00000                 39.0   \n",
       "415         0  38.5    7.2500           38.50000                 38.5   \n",
       "416         0   NaN    8.0500           30.27259                 27.0   \n",
       "417         0   NaN   22.3583           30.27259                 27.0   \n",
       "\n",
       "     Age_mode_replaced  \n",
       "413               21.0  \n",
       "414               39.0  \n",
       "415               38.5  \n",
       "416               21.0  \n",
       "417               21.0  "
      ]
     },
     "execution_count": 26,
     "metadata": {},
     "output_type": "execute_result"
    }
   ],
   "source": [
    "df.tail(5)"
   ]
  },
  {
   "cell_type": "code",
   "execution_count": 27,
   "id": "39581971",
   "metadata": {},
   "outputs": [
    {
     "data": {
      "image/png": "[encoded data removed]",
      "text/plain": [
       "<Figure size 432x216 with 1 Axes>"
      ]
     },
     "metadata": {
      "needs_background": "light"
     },
     "output_type": "display_data"
    }
   ],
   "source": [
    "## showing the statistical analysis\n",
    "fig = plt.figure(figsize=(6,3))\n",
    "ax = fig.add_subplot(1,1,1)\n",
    "df['Age'].hist(bins = 50,ax = ax, color ='r',legend = 'Age column')\n",
    "df['Age_mean_replaced'].hist(bins =50, ax = ax, color ='b',legend = 'Age mean column')\n",
    "df['Age_median_replaced'].hist(bins = 50,ax = ax, color ='g',legend = 'Age median column')\n",
    "df['Age_mode_replaced'].hist(bins =50, ax = ax, color ='y',legend = 'Age mode column')\n",
    "plt.legend(loc =0)\n",
    "plt.show()"
   ]
  },
  {
   "cell_type": "code",
   "execution_count": 28,
   "id": "1c0adb06",
   "metadata": {},
   "outputs": [
    {
     "data": {
      "image/png": "[encoded data removed]",
      "text/plain": [
       "<Figure size 432x216 with 1 Axes>"
      ]
     },
     "metadata": {
      "needs_background": "light"
     },
     "output_type": "display_data"
    }
   ],
   "source": [
    "## showing the statistical analysis\n",
    "fig = plt.figure(figsize=(6,3))\n",
    "ax = fig.add_subplot(1,1,1)\n",
    "df['Age'].plot(kind = 'kde',ax = ax, color ='r',legend = 'Age column')\n",
    "df['Age_mean_replaced'].plot(kind ='kde', ax = ax, color ='b',legend = 'Age mean column')\n",
    "df['Age_median_replaced'].plot(kind = 'kde',ax = ax, color ='g',legend = 'Age median column')\n",
    "df['Age_mode_replaced'].plot(kind = 'kde',ax = ax, color ='y',legend = 'Age mode column')\n",
    "plt.legend(loc =0)\n",
    "plt.show()"
   ]
  },
  {
   "cell_type": "code",
   "execution_count": 29,
   "id": "792bc12c",
   "metadata": {},
   "outputs": [
    {
     "name": "stdout",
     "output_type": "stream",
     "text": [
      "the std for age var =  14.18120923562442\n",
      "the std for age mean var =  12.63453416832505\n",
      "the std for age median var = 12.703769846333287\n",
      "the std for age mode var = 13.180116249881022\n"
     ]
    }
   ],
   "source": [
    "print('the std for age var = ',df['Age'].std())\n",
    "print('the std for age mean var = ',df['Age_mean_replaced'].std())\n",
    "print('the std for age median var =',df['Age_median_replaced'].std())\n",
    "print('the std for age mode var =',df['Age_mode_replaced'].std()) "
   ]
  },
  {
   "cell_type": "markdown",
   "id": "67803c60",
   "metadata": {},
   "source": [
    "constant value technique"
   ]
  },
  {
   "cell_type": "code",
   "execution_count": 30,
   "id": "94fb9b39",
   "metadata": {},
   "outputs": [
    {
     "data": {
      "text/html": [
       "<div>\n",
       "<style scoped>\n",
       "    .dataframe tbody tr th:only-of-type {\n",
       "        vertical-align: middle;\n",
       "    }\n",
       "\n",
       "    .dataframe tbody tr th {\n",
       "        vertical-align: top;\n",
       "    }\n",
       "\n",
       "    .dataframe thead th {\n",
       "        text-align: right;\n",
       "    }\n",
       "</style>\n",
       "<table border=\"1\" class=\"dataframe\">\n",
       "  <thead>\n",
       "    <tr style=\"text-align: right;\">\n",
       "      <th></th>\n",
       "      <th>Survived</th>\n",
       "      <th>Age</th>\n",
       "      <th>Fare</th>\n",
       "      <th>Age_mean_replaced</th>\n",
       "      <th>Age_median_replaced</th>\n",
       "      <th>Age_mode_replaced</th>\n",
       "    </tr>\n",
       "  </thead>\n",
       "  <tbody>\n",
       "    <tr>\n",
       "      <th>0</th>\n",
       "      <td>0</td>\n",
       "      <td>34.5</td>\n",
       "      <td>7.8292</td>\n",
       "      <td>34.5</td>\n",
       "      <td>34.5</td>\n",
       "      <td>34.5</td>\n",
       "    </tr>\n",
       "    <tr>\n",
       "      <th>1</th>\n",
       "      <td>1</td>\n",
       "      <td>47.0</td>\n",
       "      <td>7.0000</td>\n",
       "      <td>47.0</td>\n",
       "      <td>47.0</td>\n",
       "      <td>47.0</td>\n",
       "    </tr>\n",
       "    <tr>\n",
       "      <th>2</th>\n",
       "      <td>0</td>\n",
       "      <td>62.0</td>\n",
       "      <td>9.6875</td>\n",
       "      <td>62.0</td>\n",
       "      <td>62.0</td>\n",
       "      <td>62.0</td>\n",
       "    </tr>\n",
       "    <tr>\n",
       "      <th>3</th>\n",
       "      <td>0</td>\n",
       "      <td>27.0</td>\n",
       "      <td>8.6625</td>\n",
       "      <td>27.0</td>\n",
       "      <td>27.0</td>\n",
       "      <td>27.0</td>\n",
       "    </tr>\n",
       "    <tr>\n",
       "      <th>4</th>\n",
       "      <td>1</td>\n",
       "      <td>22.0</td>\n",
       "      <td>12.2875</td>\n",
       "      <td>22.0</td>\n",
       "      <td>22.0</td>\n",
       "      <td>22.0</td>\n",
       "    </tr>\n",
       "  </tbody>\n",
       "</table>\n",
       "</div>"
      ],
      "text/plain": [
       "   Survived   Age     Fare  Age_mean_replaced  Age_median_replaced  \\\n",
       "0         0  34.5   7.8292               34.5                 34.5   \n",
       "1         1  47.0   7.0000               47.0                 47.0   \n",
       "2         0  62.0   9.6875               62.0                 62.0   \n",
       "3         0  27.0   8.6625               27.0                 27.0   \n",
       "4         1  22.0  12.2875               22.0                 22.0   \n",
       "\n",
       "   Age_mode_replaced  \n",
       "0               34.5  \n",
       "1               47.0  \n",
       "2               62.0  \n",
       "3               27.0  \n",
       "4               22.0  "
      ]
     },
     "execution_count": 30,
     "metadata": {},
     "output_type": "execute_result"
    }
   ],
   "source": [
    "df.head()"
   ]
  },
  {
   "cell_type": "code",
   "execution_count": 31,
   "id": "157b2a59",
   "metadata": {},
   "outputs": [],
   "source": [
    "df['Age_const_var'] =np.where(df['Age'].isnull(),1,0)"
   ]
  },
  {
   "cell_type": "code",
   "execution_count": 32,
   "id": "6b1e1e55",
   "metadata": {},
   "outputs": [
    {
     "data": {
      "text/html": [
       "<div>\n",
       "<style scoped>\n",
       "    .dataframe tbody tr th:only-of-type {\n",
       "        vertical-align: middle;\n",
       "    }\n",
       "\n",
       "    .dataframe tbody tr th {\n",
       "        vertical-align: top;\n",
       "    }\n",
       "\n",
       "    .dataframe thead th {\n",
       "        text-align: right;\n",
       "    }\n",
       "</style>\n",
       "<table border=\"1\" class=\"dataframe\">\n",
       "  <thead>\n",
       "    <tr style=\"text-align: right;\">\n",
       "      <th></th>\n",
       "      <th>Survived</th>\n",
       "      <th>Age</th>\n",
       "      <th>Fare</th>\n",
       "      <th>Age_mean_replaced</th>\n",
       "      <th>Age_median_replaced</th>\n",
       "      <th>Age_mode_replaced</th>\n",
       "      <th>Age_const_var</th>\n",
       "    </tr>\n",
       "  </thead>\n",
       "  <tbody>\n",
       "    <tr>\n",
       "      <th>0</th>\n",
       "      <td>0</td>\n",
       "      <td>34.5</td>\n",
       "      <td>7.8292</td>\n",
       "      <td>34.5</td>\n",
       "      <td>34.5</td>\n",
       "      <td>34.5</td>\n",
       "      <td>0</td>\n",
       "    </tr>\n",
       "    <tr>\n",
       "      <th>1</th>\n",
       "      <td>1</td>\n",
       "      <td>47.0</td>\n",
       "      <td>7.0000</td>\n",
       "      <td>47.0</td>\n",
       "      <td>47.0</td>\n",
       "      <td>47.0</td>\n",
       "      <td>0</td>\n",
       "    </tr>\n",
       "    <tr>\n",
       "      <th>2</th>\n",
       "      <td>0</td>\n",
       "      <td>62.0</td>\n",
       "      <td>9.6875</td>\n",
       "      <td>62.0</td>\n",
       "      <td>62.0</td>\n",
       "      <td>62.0</td>\n",
       "      <td>0</td>\n",
       "    </tr>\n",
       "    <tr>\n",
       "      <th>3</th>\n",
       "      <td>0</td>\n",
       "      <td>27.0</td>\n",
       "      <td>8.6625</td>\n",
       "      <td>27.0</td>\n",
       "      <td>27.0</td>\n",
       "      <td>27.0</td>\n",
       "      <td>0</td>\n",
       "    </tr>\n",
       "    <tr>\n",
       "      <th>4</th>\n",
       "      <td>1</td>\n",
       "      <td>22.0</td>\n",
       "      <td>12.2875</td>\n",
       "      <td>22.0</td>\n",
       "      <td>22.0</td>\n",
       "      <td>22.0</td>\n",
       "      <td>0</td>\n",
       "    </tr>\n",
       "  </tbody>\n",
       "</table>\n",
       "</div>"
      ],
      "text/plain": [
       "   Survived   Age     Fare  Age_mean_replaced  Age_median_replaced  \\\n",
       "0         0  34.5   7.8292               34.5                 34.5   \n",
       "1         1  47.0   7.0000               47.0                 47.0   \n",
       "2         0  62.0   9.6875               62.0                 62.0   \n",
       "3         0  27.0   8.6625               27.0                 27.0   \n",
       "4         1  22.0  12.2875               22.0                 22.0   \n",
       "\n",
       "   Age_mode_replaced  Age_const_var  \n",
       "0               34.5              0  \n",
       "1               47.0              0  \n",
       "2               62.0              0  \n",
       "3               27.0              0  \n",
       "4               22.0              0  "
      ]
     },
     "execution_count": 32,
     "metadata": {},
     "output_type": "execute_result"
    }
   ],
   "source": [
    "df.head()"
   ]
  },
  {
   "cell_type": "code",
   "execution_count": 33,
   "id": "58760c2f",
   "metadata": {},
   "outputs": [
    {
     "data": {
      "text/html": [
       "<div>\n",
       "<style scoped>\n",
       "    .dataframe tbody tr th:only-of-type {\n",
       "        vertical-align: middle;\n",
       "    }\n",
       "\n",
       "    .dataframe tbody tr th {\n",
       "        vertical-align: top;\n",
       "    }\n",
       "\n",
       "    .dataframe thead th {\n",
       "        text-align: right;\n",
       "    }\n",
       "</style>\n",
       "<table border=\"1\" class=\"dataframe\">\n",
       "  <thead>\n",
       "    <tr style=\"text-align: right;\">\n",
       "      <th></th>\n",
       "      <th>Survived</th>\n",
       "      <th>Age</th>\n",
       "      <th>Fare</th>\n",
       "      <th>Age_mean_replaced</th>\n",
       "      <th>Age_median_replaced</th>\n",
       "      <th>Age_mode_replaced</th>\n",
       "      <th>Age_const_var</th>\n",
       "    </tr>\n",
       "  </thead>\n",
       "  <tbody>\n",
       "    <tr>\n",
       "      <th>413</th>\n",
       "      <td>0</td>\n",
       "      <td>NaN</td>\n",
       "      <td>8.0500</td>\n",
       "      <td>30.27259</td>\n",
       "      <td>27.0</td>\n",
       "      <td>21.0</td>\n",
       "      <td>1</td>\n",
       "    </tr>\n",
       "    <tr>\n",
       "      <th>414</th>\n",
       "      <td>1</td>\n",
       "      <td>39.0</td>\n",
       "      <td>108.9000</td>\n",
       "      <td>39.00000</td>\n",
       "      <td>39.0</td>\n",
       "      <td>39.0</td>\n",
       "      <td>0</td>\n",
       "    </tr>\n",
       "    <tr>\n",
       "      <th>415</th>\n",
       "      <td>0</td>\n",
       "      <td>38.5</td>\n",
       "      <td>7.2500</td>\n",
       "      <td>38.50000</td>\n",
       "      <td>38.5</td>\n",
       "      <td>38.5</td>\n",
       "      <td>0</td>\n",
       "    </tr>\n",
       "    <tr>\n",
       "      <th>416</th>\n",
       "      <td>0</td>\n",
       "      <td>NaN</td>\n",
       "      <td>8.0500</td>\n",
       "      <td>30.27259</td>\n",
       "      <td>27.0</td>\n",
       "      <td>21.0</td>\n",
       "      <td>1</td>\n",
       "    </tr>\n",
       "    <tr>\n",
       "      <th>417</th>\n",
       "      <td>0</td>\n",
       "      <td>NaN</td>\n",
       "      <td>22.3583</td>\n",
       "      <td>30.27259</td>\n",
       "      <td>27.0</td>\n",
       "      <td>21.0</td>\n",
       "      <td>1</td>\n",
       "    </tr>\n",
       "  </tbody>\n",
       "</table>\n",
       "</div>"
      ],
      "text/plain": [
       "     Survived   Age      Fare  Age_mean_replaced  Age_median_replaced  \\\n",
       "413         0   NaN    8.0500           30.27259                 27.0   \n",
       "414         1  39.0  108.9000           39.00000                 39.0   \n",
       "415         0  38.5    7.2500           38.50000                 38.5   \n",
       "416         0   NaN    8.0500           30.27259                 27.0   \n",
       "417         0   NaN   22.3583           30.27259                 27.0   \n",
       "\n",
       "     Age_mode_replaced  Age_const_var  \n",
       "413               21.0              1  \n",
       "414               39.0              0  \n",
       "415               38.5              0  \n",
       "416               21.0              1  \n",
       "417               21.0              1  "
      ]
     },
     "execution_count": 33,
     "metadata": {},
     "output_type": "execute_result"
    }
   ],
   "source": [
    "df.tail()"
   ]
  },
  {
   "cell_type": "code",
   "execution_count": 34,
   "id": "dea0427d",
   "metadata": {},
   "outputs": [
    {
     "data": {
      "image/png": "[encoded data removed]",
      "text/plain": [
       "<Figure size 432x216 with 1 Axes>"
      ]
     },
     "metadata": {
      "needs_background": "light"
     },
     "output_type": "display_data"
    }
   ],
   "source": [
    "## showing the statistical analysis\n",
    "fig = plt.figure(figsize=(6,3))\n",
    "ax = fig.add_subplot(1,1,1)\n",
    "df['Age'].plot(kind = 'kde',ax = ax, color ='r',legend = 'Age column')\n",
    "df['Age_mean_replaced'].plot(kind ='kde', ax = ax, color ='b',legend = 'Age mean column')\n",
    "df['Age_median_replaced'].plot(kind = 'kde',ax = ax, color ='g',legend = 'Age median column')\n",
    "df['Age_mode_replaced'].plot(kind = 'kde',ax = ax, color ='y',legend = 'Age mode column')\n",
    "df['Age_const_var'].plot(kind = 'kde',ax = ax, color ='y',legend = 'Age mode column')\n",
    "plt.legend(loc =0)\n",
    "plt.show()"
   ]
  },
  {
   "cell_type": "code",
   "execution_count": 35,
   "id": "dd0ebb4d",
   "metadata": {},
   "outputs": [
    {
     "name": "stdout",
     "output_type": "stream",
     "text": [
      "the std for age var =  14.18120923562442\n",
      "the std for age mean var =  12.63453416832505\n",
      "the std for age median var = 12.703769846333287\n",
      "the std for age mode var = 13.180116249881022\n",
      "the std for age const var = 0.40472692660801274\n"
     ]
    }
   ],
   "source": [
    "print('the std for age var = ',df['Age'].std())\n",
    "print('the std for age mean var = ',df['Age_mean_replaced'].std())\n",
    "print('the std for age median var =',df['Age_median_replaced'].std())\n",
    "print('the std for age mode var =',df['Age_mode_replaced'].std()) \n",
    "print('the std for age const var =',df['Age_const_var'].std()) "
   ]
  },
  {
   "cell_type": "markdown",
   "id": "72279654",
   "metadata": {},
   "source": [
    "## Arbiratry technique"
   ]
  },
  {
   "cell_type": "code",
   "execution_count": 36,
   "id": "d5c634b3",
   "metadata": {},
   "outputs": [
    {
     "data": {
      "text/html": [
       "<div>\n",
       "<style scoped>\n",
       "    .dataframe tbody tr th:only-of-type {\n",
       "        vertical-align: middle;\n",
       "    }\n",
       "\n",
       "    .dataframe tbody tr th {\n",
       "        vertical-align: top;\n",
       "    }\n",
       "\n",
       "    .dataframe thead th {\n",
       "        text-align: right;\n",
       "    }\n",
       "</style>\n",
       "<table border=\"1\" class=\"dataframe\">\n",
       "  <thead>\n",
       "    <tr style=\"text-align: right;\">\n",
       "      <th></th>\n",
       "      <th>Survived</th>\n",
       "      <th>Age</th>\n",
       "      <th>Fare</th>\n",
       "      <th>Age_mean_replaced</th>\n",
       "      <th>Age_median_replaced</th>\n",
       "      <th>Age_mode_replaced</th>\n",
       "      <th>Age_const_var</th>\n",
       "    </tr>\n",
       "  </thead>\n",
       "  <tbody>\n",
       "    <tr>\n",
       "      <th>0</th>\n",
       "      <td>0</td>\n",
       "      <td>34.5</td>\n",
       "      <td>7.8292</td>\n",
       "      <td>34.5</td>\n",
       "      <td>34.5</td>\n",
       "      <td>34.5</td>\n",
       "      <td>0</td>\n",
       "    </tr>\n",
       "    <tr>\n",
       "      <th>1</th>\n",
       "      <td>1</td>\n",
       "      <td>47.0</td>\n",
       "      <td>7.0000</td>\n",
       "      <td>47.0</td>\n",
       "      <td>47.0</td>\n",
       "      <td>47.0</td>\n",
       "      <td>0</td>\n",
       "    </tr>\n",
       "    <tr>\n",
       "      <th>2</th>\n",
       "      <td>0</td>\n",
       "      <td>62.0</td>\n",
       "      <td>9.6875</td>\n",
       "      <td>62.0</td>\n",
       "      <td>62.0</td>\n",
       "      <td>62.0</td>\n",
       "      <td>0</td>\n",
       "    </tr>\n",
       "    <tr>\n",
       "      <th>3</th>\n",
       "      <td>0</td>\n",
       "      <td>27.0</td>\n",
       "      <td>8.6625</td>\n",
       "      <td>27.0</td>\n",
       "      <td>27.0</td>\n",
       "      <td>27.0</td>\n",
       "      <td>0</td>\n",
       "    </tr>\n",
       "    <tr>\n",
       "      <th>4</th>\n",
       "      <td>1</td>\n",
       "      <td>22.0</td>\n",
       "      <td>12.2875</td>\n",
       "      <td>22.0</td>\n",
       "      <td>22.0</td>\n",
       "      <td>22.0</td>\n",
       "      <td>0</td>\n",
       "    </tr>\n",
       "  </tbody>\n",
       "</table>\n",
       "</div>"
      ],
      "text/plain": [
       "   Survived   Age     Fare  Age_mean_replaced  Age_median_replaced  \\\n",
       "0         0  34.5   7.8292               34.5                 34.5   \n",
       "1         1  47.0   7.0000               47.0                 47.0   \n",
       "2         0  62.0   9.6875               62.0                 62.0   \n",
       "3         0  27.0   8.6625               27.0                 27.0   \n",
       "4         1  22.0  12.2875               22.0                 22.0   \n",
       "\n",
       "   Age_mode_replaced  Age_const_var  \n",
       "0               34.5              0  \n",
       "1               47.0              0  \n",
       "2               62.0              0  \n",
       "3               27.0              0  \n",
       "4               22.0              0  "
      ]
     },
     "execution_count": 36,
     "metadata": {},
     "output_type": "execute_result"
    }
   ],
   "source": [
    "df.head()"
   ]
  },
  {
   "cell_type": "code",
   "execution_count": 37,
   "id": "db779447",
   "metadata": {},
   "outputs": [],
   "source": [
    "## mostly used values are 1,999,-1,1000"
   ]
  },
  {
   "cell_type": "code",
   "execution_count": 38,
   "id": "4dc7f735",
   "metadata": {},
   "outputs": [],
   "source": [
    "df['Arbitary_value_var'] =df['Age'].fillna(999)"
   ]
  },
  {
   "cell_type": "code",
   "execution_count": 39,
   "id": "ef02c046",
   "metadata": {},
   "outputs": [
    {
     "data": {
      "text/html": [
       "<div>\n",
       "<style scoped>\n",
       "    .dataframe tbody tr th:only-of-type {\n",
       "        vertical-align: middle;\n",
       "    }\n",
       "\n",
       "    .dataframe tbody tr th {\n",
       "        vertical-align: top;\n",
       "    }\n",
       "\n",
       "    .dataframe thead th {\n",
       "        text-align: right;\n",
       "    }\n",
       "</style>\n",
       "<table border=\"1\" class=\"dataframe\">\n",
       "  <thead>\n",
       "    <tr style=\"text-align: right;\">\n",
       "      <th></th>\n",
       "      <th>Survived</th>\n",
       "      <th>Age</th>\n",
       "      <th>Fare</th>\n",
       "      <th>Age_mean_replaced</th>\n",
       "      <th>Age_median_replaced</th>\n",
       "      <th>Age_mode_replaced</th>\n",
       "      <th>Age_const_var</th>\n",
       "      <th>Arbitary_value_var</th>\n",
       "    </tr>\n",
       "  </thead>\n",
       "  <tbody>\n",
       "    <tr>\n",
       "      <th>413</th>\n",
       "      <td>0</td>\n",
       "      <td>NaN</td>\n",
       "      <td>8.0500</td>\n",
       "      <td>30.27259</td>\n",
       "      <td>27.0</td>\n",
       "      <td>21.0</td>\n",
       "      <td>1</td>\n",
       "      <td>999.0</td>\n",
       "    </tr>\n",
       "    <tr>\n",
       "      <th>414</th>\n",
       "      <td>1</td>\n",
       "      <td>39.0</td>\n",
       "      <td>108.9000</td>\n",
       "      <td>39.00000</td>\n",
       "      <td>39.0</td>\n",
       "      <td>39.0</td>\n",
       "      <td>0</td>\n",
       "      <td>39.0</td>\n",
       "    </tr>\n",
       "    <tr>\n",
       "      <th>415</th>\n",
       "      <td>0</td>\n",
       "      <td>38.5</td>\n",
       "      <td>7.2500</td>\n",
       "      <td>38.50000</td>\n",
       "      <td>38.5</td>\n",
       "      <td>38.5</td>\n",
       "      <td>0</td>\n",
       "      <td>38.5</td>\n",
       "    </tr>\n",
       "    <tr>\n",
       "      <th>416</th>\n",
       "      <td>0</td>\n",
       "      <td>NaN</td>\n",
       "      <td>8.0500</td>\n",
       "      <td>30.27259</td>\n",
       "      <td>27.0</td>\n",
       "      <td>21.0</td>\n",
       "      <td>1</td>\n",
       "      <td>999.0</td>\n",
       "    </tr>\n",
       "    <tr>\n",
       "      <th>417</th>\n",
       "      <td>0</td>\n",
       "      <td>NaN</td>\n",
       "      <td>22.3583</td>\n",
       "      <td>30.27259</td>\n",
       "      <td>27.0</td>\n",
       "      <td>21.0</td>\n",
       "      <td>1</td>\n",
       "      <td>999.0</td>\n",
       "    </tr>\n",
       "  </tbody>\n",
       "</table>\n",
       "</div>"
      ],
      "text/plain": [
       "     Survived   Age      Fare  Age_mean_replaced  Age_median_replaced  \\\n",
       "413         0   NaN    8.0500           30.27259                 27.0   \n",
       "414         1  39.0  108.9000           39.00000                 39.0   \n",
       "415         0  38.5    7.2500           38.50000                 38.5   \n",
       "416         0   NaN    8.0500           30.27259                 27.0   \n",
       "417         0   NaN   22.3583           30.27259                 27.0   \n",
       "\n",
       "     Age_mode_replaced  Age_const_var  Arbitary_value_var  \n",
       "413               21.0              1               999.0  \n",
       "414               39.0              0                39.0  \n",
       "415               38.5              0                38.5  \n",
       "416               21.0              1               999.0  \n",
       "417               21.0              1               999.0  "
      ]
     },
     "execution_count": 39,
     "metadata": {},
     "output_type": "execute_result"
    }
   ],
   "source": [
    "df.tail()"
   ]
  },
  {
   "cell_type": "code",
   "execution_count": 40,
   "id": "6dbca376",
   "metadata": {},
   "outputs": [
    {
     "data": {
      "image/png": "[encoded data removed]",
      "text/plain": [
       "<Figure size 432x216 with 1 Axes>"
      ]
     },
     "metadata": {
      "needs_background": "light"
     },
     "output_type": "display_data"
    }
   ],
   "source": [
    "## showing the statistical analysis\n",
    "fig = plt.figure(figsize=(6,3))\n",
    "ax = fig.add_subplot(1,1,1)\n",
    "df['Age'].plot(kind = 'kde',ax = ax, color ='r',legend = 'Age column')\n",
    "df['Age_mean_replaced'].plot(kind ='kde', ax = ax, color ='b',legend = 'Age mean column')\n",
    "df['Age_median_replaced'].plot(kind = 'kde',ax = ax, color ='g',legend = 'Age median column')\n",
    "df['Age_mode_replaced'].plot(kind = 'kde',ax = ax, color ='y',legend = 'Age mode column')\n",
    "\n",
    "df['Arbitary_value_var'].plot(kind = 'kde',ax = ax, color ='y',legend = 'Age arbitary column')\n",
    "plt.legend(loc =0)\n",
    "plt.show()"
   ]
  },
  {
   "cell_type": "code",
   "execution_count": 41,
   "id": "a2b6ec83",
   "metadata": {},
   "outputs": [
    {
     "name": "stdout",
     "output_type": "stream",
     "text": [
      "the std for age var =  14.18120923562442\n",
      "the std for age mean var =  12.63453416832505\n",
      "the std for age median var = 12.703769846333287\n",
      "the std for age mode var = 13.180116249881022\n",
      "the std for age const var = 0.40472692660801274\n"
     ]
    }
   ],
   "source": [
    "print('the std for age var = ',df['Age'].std())\n",
    "print('the std for age mean var = ',df['Age_mean_replaced'].std())\n",
    "print('the std for age median var =',df['Age_median_replaced'].std())\n",
    "print('the std for age mode var =',df['Age_mode_replaced'].std()) \n",
    "print('the std for age const var =',df['Age_const_var'].std()) \n"
   ]
  },
  {
   "cell_type": "markdown",
   "id": "d9750a12",
   "metadata": {},
   "source": [
    "## End of distribution"
   ]
  },
  {
   "cell_type": "code",
   "execution_count": 42,
   "id": "497cdc0d",
   "metadata": {},
   "outputs": [
    {
     "data": {
      "text/plain": [
       "<AxesSubplot:>"
      ]
     },
     "execution_count": 42,
     "metadata": {},
     "output_type": "execute_result"
    },
    {
     "data": {
      "image/png": "[encoded data removed]",
      "text/plain": [
       "<Figure size 432x288 with 1 Axes>"
      ]
     },
     "metadata": {
      "needs_background": "light"
     },
     "output_type": "display_data"
    }
   ],
   "source": [
    "df['Age'].hist(bins = 50)"
   ]
  },
  {
   "cell_type": "code",
   "execution_count": 43,
   "id": "54eb76ae",
   "metadata": {},
   "outputs": [
    {
     "data": {
      "text/plain": [
       "72.81621806831905"
      ]
     },
     "execution_count": 43,
     "metadata": {},
     "output_type": "execute_result"
    }
   ],
   "source": [
    "value = df['Age'].mean()+ 3* df['Age'].std()\n",
    "value"
   ]
  },
  {
   "cell_type": "code",
   "execution_count": 44,
   "id": "154735f3",
   "metadata": {},
   "outputs": [],
   "source": [
    "df['Eod techniqe'] = df['Age'].fillna(value)"
   ]
  },
  {
   "cell_type": "code",
   "execution_count": 45,
   "id": "d4f4abb5",
   "metadata": {},
   "outputs": [
    {
     "data": {
      "text/html": [
       "<div>\n",
       "<style scoped>\n",
       "    .dataframe tbody tr th:only-of-type {\n",
       "        vertical-align: middle;\n",
       "    }\n",
       "\n",
       "    .dataframe tbody tr th {\n",
       "        vertical-align: top;\n",
       "    }\n",
       "\n",
       "    .dataframe thead th {\n",
       "        text-align: right;\n",
       "    }\n",
       "</style>\n",
       "<table border=\"1\" class=\"dataframe\">\n",
       "  <thead>\n",
       "    <tr style=\"text-align: right;\">\n",
       "      <th></th>\n",
       "      <th>Survived</th>\n",
       "      <th>Age</th>\n",
       "      <th>Fare</th>\n",
       "      <th>Age_mean_replaced</th>\n",
       "      <th>Age_median_replaced</th>\n",
       "      <th>Age_mode_replaced</th>\n",
       "      <th>Age_const_var</th>\n",
       "      <th>Arbitary_value_var</th>\n",
       "      <th>Eod techniqe</th>\n",
       "    </tr>\n",
       "  </thead>\n",
       "  <tbody>\n",
       "    <tr>\n",
       "      <th>413</th>\n",
       "      <td>0</td>\n",
       "      <td>NaN</td>\n",
       "      <td>8.0500</td>\n",
       "      <td>30.27259</td>\n",
       "      <td>27.0</td>\n",
       "      <td>21.0</td>\n",
       "      <td>1</td>\n",
       "      <td>999.0</td>\n",
       "      <td>72.816218</td>\n",
       "    </tr>\n",
       "    <tr>\n",
       "      <th>414</th>\n",
       "      <td>1</td>\n",
       "      <td>39.0</td>\n",
       "      <td>108.9000</td>\n",
       "      <td>39.00000</td>\n",
       "      <td>39.0</td>\n",
       "      <td>39.0</td>\n",
       "      <td>0</td>\n",
       "      <td>39.0</td>\n",
       "      <td>39.000000</td>\n",
       "    </tr>\n",
       "    <tr>\n",
       "      <th>415</th>\n",
       "      <td>0</td>\n",
       "      <td>38.5</td>\n",
       "      <td>7.2500</td>\n",
       "      <td>38.50000</td>\n",
       "      <td>38.5</td>\n",
       "      <td>38.5</td>\n",
       "      <td>0</td>\n",
       "      <td>38.5</td>\n",
       "      <td>38.500000</td>\n",
       "    </tr>\n",
       "    <tr>\n",
       "      <th>416</th>\n",
       "      <td>0</td>\n",
       "      <td>NaN</td>\n",
       "      <td>8.0500</td>\n",
       "      <td>30.27259</td>\n",
       "      <td>27.0</td>\n",
       "      <td>21.0</td>\n",
       "      <td>1</td>\n",
       "      <td>999.0</td>\n",
       "      <td>72.816218</td>\n",
       "    </tr>\n",
       "    <tr>\n",
       "      <th>417</th>\n",
       "      <td>0</td>\n",
       "      <td>NaN</td>\n",
       "      <td>22.3583</td>\n",
       "      <td>30.27259</td>\n",
       "      <td>27.0</td>\n",
       "      <td>21.0</td>\n",
       "      <td>1</td>\n",
       "      <td>999.0</td>\n",
       "      <td>72.816218</td>\n",
       "    </tr>\n",
       "  </tbody>\n",
       "</table>\n",
       "</div>"
      ],
      "text/plain": [
       "     Survived   Age      Fare  Age_mean_replaced  Age_median_replaced  \\\n",
       "413         0   NaN    8.0500           30.27259                 27.0   \n",
       "414         1  39.0  108.9000           39.00000                 39.0   \n",
       "415         0  38.5    7.2500           38.50000                 38.5   \n",
       "416         0   NaN    8.0500           30.27259                 27.0   \n",
       "417         0   NaN   22.3583           30.27259                 27.0   \n",
       "\n",
       "     Age_mode_replaced  Age_const_var  Arbitary_value_var  Eod techniqe  \n",
       "413               21.0              1               999.0     72.816218  \n",
       "414               39.0              0                39.0     39.000000  \n",
       "415               38.5              0                38.5     38.500000  \n",
       "416               21.0              1               999.0     72.816218  \n",
       "417               21.0              1               999.0     72.816218  "
      ]
     },
     "execution_count": 45,
     "metadata": {},
     "output_type": "execute_result"
    }
   ],
   "source": [
    "df.tail()"
   ]
  },
  {
   "cell_type": "code",
   "execution_count": 46,
   "id": "64827e49",
   "metadata": {},
   "outputs": [
    {
     "data": {
      "image/png": "[encoded data removed]",
      "text/plain": [
       "<Figure size 432x216 with 1 Axes>"
      ]
     },
     "metadata": {
      "needs_background": "light"
     },
     "output_type": "display_data"
    }
   ],
   "source": [
    "fig = plt.figure(figsize=(6,3))\n",
    "ax = fig.add_subplot(1,1,1)\n",
    "df['Age'].plot(kind = 'kde',ax = ax, color ='r',legend = 'Age column')\n",
    "df['Age_mean_replaced'].plot(kind ='kde', ax = ax, color ='b',legend = 'Age mean column')\n",
    "df['Age_median_replaced'].plot(kind = 'kde',ax = ax, color ='g',legend = 'Age median column')\n",
    "df['Age_mode_replaced'].plot(kind = 'kde',ax = ax, color ='y',legend = 'Age mode column')\n",
    "df['Eod techniqe'].plot(kind = 'kde',ax=ax,color='r',legend ='Age Eod techniqe')\n",
    "df['Arbitary_value_var'].plot(kind = 'kde',ax = ax, color ='y',legend = 'Age arbitary column')\n",
    "plt.legend(loc =0)\n",
    "plt.show()"
   ]
  },
  {
   "cell_type": "code",
   "execution_count": 47,
   "id": "2c2f562c",
   "metadata": {},
   "outputs": [
    {
     "name": "stdout",
     "output_type": "stream",
     "text": [
      "the std for age var =  14.18120923562442\n",
      "the std for age mean var =  12.63453416832505\n",
      "the std for age median var = 12.703769846333287\n",
      "the std for age mode var = 13.180116249881022\n",
      "the std for age const var = 0.40472692660801274\n",
      "the std for age Eod technique = 21.356731395560693\n",
      "the std for age Arbitary_value_var 392.2735895604572\n"
     ]
    }
   ],
   "source": [
    "print('the std for age var = ',df['Age'].std())\n",
    "print('the std for age mean var = ',df['Age_mean_replaced'].std())\n",
    "print('the std for age median var =',df['Age_median_replaced'].std())\n",
    "print('the std for age mode var =',df['Age_mode_replaced'].std()) \n",
    "print('the std for age const var =',df['Age_const_var'].std()) \n",
    "print('the std for age Eod technique =',df['Eod techniqe'].std())\n",
    "print('the std for age Arbitary_value_var',df['Arbitary_value_var'].std())"
   ]
  },
  {
   "cell_type": "markdown",
   "id": "af91a42b",
   "metadata": {},
   "source": [
    "## Random sample technique"
   ]
  },
  {
   "cell_type": "code",
   "execution_count": 48,
   "id": "a2e14cf5",
   "metadata": {},
   "outputs": [
    {
     "data": {
      "text/plain": [
       "126    22.0\n",
       "197    18.0\n",
       "40     39.0\n",
       "Name: Age, dtype: float64"
      ]
     },
     "execution_count": 48,
     "metadata": {},
     "output_type": "execute_result"
    }
   ],
   "source": [
    "df['Age'].dropna().sample(3)"
   ]
  },
  {
   "cell_type": "code",
   "execution_count": 49,
   "id": "e647ee0d",
   "metadata": {},
   "outputs": [
    {
     "data": {
      "text/plain": [
       "12     23.0\n",
       "191     NaN\n",
       "336    32.0\n",
       "350    45.0\n",
       "279    22.0\n",
       "Name: Age, dtype: float64"
      ]
     },
     "execution_count": 49,
     "metadata": {},
     "output_type": "execute_result"
    }
   ],
   "source": [
    "df['Age'].sample(5)"
   ]
  },
  {
   "cell_type": "code",
   "execution_count": 50,
   "id": "e5eeadaa",
   "metadata": {},
   "outputs": [],
   "source": [
    "s= df['Age'].dropna().sample(86)"
   ]
  },
  {
   "cell_type": "code",
   "execution_count": 51,
   "id": "e29c6602",
   "metadata": {},
   "outputs": [
    {
     "data": {
      "text/plain": [
       "174    40.0\n",
       "343    58.0\n",
       "52     20.0\n",
       "125    17.0\n",
       "379     5.0\n",
       "       ... \n",
       "415    38.5\n",
       "311    22.0\n",
       "72     29.0\n",
       "13     63.0\n",
       "80      6.0\n",
       "Name: Age, Length: 86, dtype: float64"
      ]
     },
     "execution_count": 51,
     "metadata": {},
     "output_type": "execute_result"
    }
   ],
   "source": [
    "s"
   ]
  },
  {
   "cell_type": "code",
   "execution_count": 52,
   "id": "46b9b825",
   "metadata": {},
   "outputs": [
    {
     "data": {
      "text/plain": [
       "Int64Index([174, 343,  52, 125, 379,  61, 207, 197, 230, 235, 144, 104, 287,\n",
       "             99, 204, 229, 175, 134, 236, 176, 180, 250, 137,  53,   7, 210,\n",
       "             79, 279, 356,  55, 296, 165,  34, 345, 300, 120, 126, 394, 293,\n",
       "            307, 391, 202, 213, 154,   8, 221,   2, 390, 364, 242,  86, 281,\n",
       "            164,  73, 337, 387,  74, 351,  97, 113, 354, 381,  63,  43, 397,\n",
       "            247, 324, 334, 393, 388, 152, 376,  75, 179, 238, 261, 181, 398,\n",
       "            136, 269,  35, 415, 311,  72,  13,  80],\n",
       "           dtype='int64')"
      ]
     },
     "execution_count": 52,
     "metadata": {},
     "output_type": "execute_result"
    }
   ],
   "source": [
    "s.index ## this index is for randamly collected value"
   ]
  },
  {
   "cell_type": "code",
   "execution_count": 53,
   "id": "639c9cf2",
   "metadata": {},
   "outputs": [
    {
     "data": {
      "text/plain": [
       "Int64Index([ 10,  22,  29,  33,  36,  39,  41,  47,  54,  58,  65,  76,  83,\n",
       "             84,  85,  88,  91,  93, 102, 107, 108, 111, 116, 121, 124, 127,\n",
       "            132, 133, 146, 148, 151, 160, 163, 168, 170, 173, 183, 188, 191,\n",
       "            199, 200, 205, 211, 216, 219, 225, 227, 233, 243, 244, 249, 255,\n",
       "            256, 265, 266, 267, 268, 271, 273, 274, 282, 286, 288, 289, 290,\n",
       "            292, 297, 301, 304, 312, 332, 339, 342, 344, 357, 358, 365, 366,\n",
       "            380, 382, 384, 408, 410, 413, 416, 417],\n",
       "           dtype='int64')"
      ]
     },
     "execution_count": 53,
     "metadata": {},
     "output_type": "execute_result"
    }
   ],
   "source": [
    "## collecting index for null values\n",
    "\n",
    "df[df['Age'].isnull()].index"
   ]
  },
  {
   "cell_type": "code",
   "execution_count": 54,
   "id": "aa80bff4",
   "metadata": {},
   "outputs": [
    {
     "data": {
      "text/plain": [
       "nan"
      ]
     },
     "execution_count": 54,
     "metadata": {},
     "output_type": "execute_result"
    }
   ],
   "source": [
    "df['Age'][22]"
   ]
  },
  {
   "cell_type": "code",
   "execution_count": 55,
   "id": "83bb1927",
   "metadata": {},
   "outputs": [],
   "source": [
    "x = df[df['Age'].isnull()].head(1)"
   ]
  },
  {
   "cell_type": "code",
   "execution_count": 56,
   "id": "9e8cbf62",
   "metadata": {},
   "outputs": [
    {
     "data": {
      "text/html": [
       "<div>\n",
       "<style scoped>\n",
       "    .dataframe tbody tr th:only-of-type {\n",
       "        vertical-align: middle;\n",
       "    }\n",
       "\n",
       "    .dataframe tbody tr th {\n",
       "        vertical-align: top;\n",
       "    }\n",
       "\n",
       "    .dataframe thead th {\n",
       "        text-align: right;\n",
       "    }\n",
       "</style>\n",
       "<table border=\"1\" class=\"dataframe\">\n",
       "  <thead>\n",
       "    <tr style=\"text-align: right;\">\n",
       "      <th></th>\n",
       "      <th>Survived</th>\n",
       "      <th>Age</th>\n",
       "      <th>Fare</th>\n",
       "      <th>Age_mean_replaced</th>\n",
       "      <th>Age_median_replaced</th>\n",
       "      <th>Age_mode_replaced</th>\n",
       "      <th>Age_const_var</th>\n",
       "      <th>Arbitary_value_var</th>\n",
       "      <th>Eod techniqe</th>\n",
       "    </tr>\n",
       "  </thead>\n",
       "  <tbody>\n",
       "    <tr>\n",
       "      <th>10</th>\n",
       "      <td>0</td>\n",
       "      <td>NaN</td>\n",
       "      <td>7.8958</td>\n",
       "      <td>30.27259</td>\n",
       "      <td>27.0</td>\n",
       "      <td>21.0</td>\n",
       "      <td>1</td>\n",
       "      <td>999.0</td>\n",
       "      <td>72.816218</td>\n",
       "    </tr>\n",
       "  </tbody>\n",
       "</table>\n",
       "</div>"
      ],
      "text/plain": [
       "    Survived  Age    Fare  Age_mean_replaced  Age_median_replaced  \\\n",
       "10         0  NaN  7.8958           30.27259                 27.0   \n",
       "\n",
       "    Age_mode_replaced  Age_const_var  Arbitary_value_var  Eod techniqe  \n",
       "10               21.0              1               999.0     72.816218  "
      ]
     },
     "execution_count": 56,
     "metadata": {},
     "output_type": "execute_result"
    }
   ],
   "source": [
    "x"
   ]
  },
  {
   "cell_type": "code",
   "execution_count": 57,
   "id": "ee8f76b2",
   "metadata": {},
   "outputs": [
    {
     "data": {
      "text/plain": [
       "27    22.5\n",
       "Name: Age, dtype: float64"
      ]
     },
     "execution_count": 57,
     "metadata": {},
     "output_type": "execute_result"
    }
   ],
   "source": [
    "s = df['Age'].dropna().sample(1 ,random_state = 42)\n",
    "s"
   ]
  },
  {
   "cell_type": "code",
   "execution_count": 58,
   "id": "6d5e9c3b",
   "metadata": {},
   "outputs": [
    {
     "data": {
      "text/plain": [
       "Int64Index([27], dtype='int64')"
      ]
     },
     "execution_count": 58,
     "metadata": {},
     "output_type": "execute_result"
    }
   ],
   "source": [
    "s.index "
   ]
  },
  {
   "cell_type": "code",
   "execution_count": 59,
   "id": "e3bbc467",
   "metadata": {},
   "outputs": [],
   "source": [
    "s.index = [10]"
   ]
  },
  {
   "cell_type": "code",
   "execution_count": 60,
   "id": "0c338563",
   "metadata": {},
   "outputs": [
    {
     "data": {
      "text/plain": [
       "Int64Index([10], dtype='int64')"
      ]
     },
     "execution_count": 60,
     "metadata": {},
     "output_type": "execute_result"
    }
   ],
   "source": [
    "s.index"
   ]
  },
  {
   "cell_type": "code",
   "execution_count": 61,
   "id": "1558fcfb",
   "metadata": {},
   "outputs": [],
   "source": [
    "df['samll_value'] = s"
   ]
  },
  {
   "cell_type": "code",
   "execution_count": 62,
   "id": "0e7ab2a9",
   "metadata": {},
   "outputs": [],
   "source": [
    "x = df[df['Age'].isnull()].head(1)"
   ]
  },
  {
   "cell_type": "code",
   "execution_count": 63,
   "id": "318e7281",
   "metadata": {},
   "outputs": [
    {
     "data": {
      "text/html": [
       "<div>\n",
       "<style scoped>\n",
       "    .dataframe tbody tr th:only-of-type {\n",
       "        vertical-align: middle;\n",
       "    }\n",
       "\n",
       "    .dataframe tbody tr th {\n",
       "        vertical-align: top;\n",
       "    }\n",
       "\n",
       "    .dataframe thead th {\n",
       "        text-align: right;\n",
       "    }\n",
       "</style>\n",
       "<table border=\"1\" class=\"dataframe\">\n",
       "  <thead>\n",
       "    <tr style=\"text-align: right;\">\n",
       "      <th></th>\n",
       "      <th>Survived</th>\n",
       "      <th>Age</th>\n",
       "      <th>Fare</th>\n",
       "      <th>Age_mean_replaced</th>\n",
       "      <th>Age_median_replaced</th>\n",
       "      <th>Age_mode_replaced</th>\n",
       "      <th>Age_const_var</th>\n",
       "      <th>Arbitary_value_var</th>\n",
       "      <th>Eod techniqe</th>\n",
       "      <th>samll_value</th>\n",
       "    </tr>\n",
       "  </thead>\n",
       "  <tbody>\n",
       "    <tr>\n",
       "      <th>10</th>\n",
       "      <td>0</td>\n",
       "      <td>NaN</td>\n",
       "      <td>7.8958</td>\n",
       "      <td>30.27259</td>\n",
       "      <td>27.0</td>\n",
       "      <td>21.0</td>\n",
       "      <td>1</td>\n",
       "      <td>999.0</td>\n",
       "      <td>72.816218</td>\n",
       "      <td>22.5</td>\n",
       "    </tr>\n",
       "  </tbody>\n",
       "</table>\n",
       "</div>"
      ],
      "text/plain": [
       "    Survived  Age    Fare  Age_mean_replaced  Age_median_replaced  \\\n",
       "10         0  NaN  7.8958           30.27259                 27.0   \n",
       "\n",
       "    Age_mode_replaced  Age_const_var  Arbitary_value_var  Eod techniqe  \\\n",
       "10               21.0              1               999.0     72.816218   \n",
       "\n",
       "    samll_value  \n",
       "10         22.5  "
      ]
     },
     "execution_count": 63,
     "metadata": {},
     "output_type": "execute_result"
    }
   ],
   "source": [
    "x"
   ]
  },
  {
   "cell_type": "code",
   "execution_count": 64,
   "id": "28d4c0cb",
   "metadata": {},
   "outputs": [],
   "source": [
    "def random_sample_technique(df,var):\n",
    "    df[var+'_random_replaced'] =df[var].copy()\n",
    "    s = df[var].dropna().sample(df[var].isnull().sum(), random_state =42)\n",
    "    s.index = df[df['Age'].isnull()].index\n",
    "    df.loc[df['Age'].isnull(),'Age_random_replaced'] =s"
   ]
  },
  {
   "cell_type": "code",
   "execution_count": 65,
   "id": "c981c654",
   "metadata": {},
   "outputs": [],
   "source": [
    "random_sample_technique(df,'Age')"
   ]
  },
  {
   "cell_type": "code",
   "execution_count": 66,
   "id": "b4bcc3d2",
   "metadata": {},
   "outputs": [
    {
     "data": {
      "text/html": [
       "<div>\n",
       "<style scoped>\n",
       "    .dataframe tbody tr th:only-of-type {\n",
       "        vertical-align: middle;\n",
       "    }\n",
       "\n",
       "    .dataframe tbody tr th {\n",
       "        vertical-align: top;\n",
       "    }\n",
       "\n",
       "    .dataframe thead th {\n",
       "        text-align: right;\n",
       "    }\n",
       "</style>\n",
       "<table border=\"1\" class=\"dataframe\">\n",
       "  <thead>\n",
       "    <tr style=\"text-align: right;\">\n",
       "      <th></th>\n",
       "      <th>Survived</th>\n",
       "      <th>Age</th>\n",
       "      <th>Fare</th>\n",
       "      <th>Age_mean_replaced</th>\n",
       "      <th>Age_median_replaced</th>\n",
       "      <th>Age_mode_replaced</th>\n",
       "      <th>Age_const_var</th>\n",
       "      <th>Arbitary_value_var</th>\n",
       "      <th>Eod techniqe</th>\n",
       "      <th>samll_value</th>\n",
       "      <th>Age_random_replaced</th>\n",
       "    </tr>\n",
       "  </thead>\n",
       "  <tbody>\n",
       "    <tr>\n",
       "      <th>413</th>\n",
       "      <td>0</td>\n",
       "      <td>NaN</td>\n",
       "      <td>8.0500</td>\n",
       "      <td>30.27259</td>\n",
       "      <td>27.0</td>\n",
       "      <td>21.0</td>\n",
       "      <td>1</td>\n",
       "      <td>999.0</td>\n",
       "      <td>72.816218</td>\n",
       "      <td>NaN</td>\n",
       "      <td>36.0</td>\n",
       "    </tr>\n",
       "    <tr>\n",
       "      <th>414</th>\n",
       "      <td>1</td>\n",
       "      <td>39.0</td>\n",
       "      <td>108.9000</td>\n",
       "      <td>39.00000</td>\n",
       "      <td>39.0</td>\n",
       "      <td>39.0</td>\n",
       "      <td>0</td>\n",
       "      <td>39.0</td>\n",
       "      <td>39.000000</td>\n",
       "      <td>NaN</td>\n",
       "      <td>39.0</td>\n",
       "    </tr>\n",
       "    <tr>\n",
       "      <th>415</th>\n",
       "      <td>0</td>\n",
       "      <td>38.5</td>\n",
       "      <td>7.2500</td>\n",
       "      <td>38.50000</td>\n",
       "      <td>38.5</td>\n",
       "      <td>38.5</td>\n",
       "      <td>0</td>\n",
       "      <td>38.5</td>\n",
       "      <td>38.500000</td>\n",
       "      <td>NaN</td>\n",
       "      <td>38.5</td>\n",
       "    </tr>\n",
       "    <tr>\n",
       "      <th>416</th>\n",
       "      <td>0</td>\n",
       "      <td>NaN</td>\n",
       "      <td>8.0500</td>\n",
       "      <td>30.27259</td>\n",
       "      <td>27.0</td>\n",
       "      <td>21.0</td>\n",
       "      <td>1</td>\n",
       "      <td>999.0</td>\n",
       "      <td>72.816218</td>\n",
       "      <td>NaN</td>\n",
       "      <td>47.0</td>\n",
       "    </tr>\n",
       "    <tr>\n",
       "      <th>417</th>\n",
       "      <td>0</td>\n",
       "      <td>NaN</td>\n",
       "      <td>22.3583</td>\n",
       "      <td>30.27259</td>\n",
       "      <td>27.0</td>\n",
       "      <td>21.0</td>\n",
       "      <td>1</td>\n",
       "      <td>999.0</td>\n",
       "      <td>72.816218</td>\n",
       "      <td>NaN</td>\n",
       "      <td>48.0</td>\n",
       "    </tr>\n",
       "  </tbody>\n",
       "</table>\n",
       "</div>"
      ],
      "text/plain": [
       "     Survived   Age      Fare  Age_mean_replaced  Age_median_replaced  \\\n",
       "413         0   NaN    8.0500           30.27259                 27.0   \n",
       "414         1  39.0  108.9000           39.00000                 39.0   \n",
       "415         0  38.5    7.2500           38.50000                 38.5   \n",
       "416         0   NaN    8.0500           30.27259                 27.0   \n",
       "417         0   NaN   22.3583           30.27259                 27.0   \n",
       "\n",
       "     Age_mode_replaced  Age_const_var  Arbitary_value_var  Eod techniqe  \\\n",
       "413               21.0              1               999.0     72.816218   \n",
       "414               39.0              0                39.0     39.000000   \n",
       "415               38.5              0                38.5     38.500000   \n",
       "416               21.0              1               999.0     72.816218   \n",
       "417               21.0              1               999.0     72.816218   \n",
       "\n",
       "     samll_value  Age_random_replaced  \n",
       "413          NaN                 36.0  \n",
       "414          NaN                 39.0  \n",
       "415          NaN                 38.5  \n",
       "416          NaN                 47.0  \n",
       "417          NaN                 48.0  "
      ]
     },
     "execution_count": 66,
     "metadata": {},
     "output_type": "execute_result"
    }
   ],
   "source": [
    "df.tail()"
   ]
  },
  {
   "cell_type": "code",
   "execution_count": 67,
   "id": "d203327b",
   "metadata": {},
   "outputs": [
    {
     "data": {
      "image/png": "[encoded data removed]",
      "text/plain": [
       "<Figure size 432x216 with 1 Axes>"
      ]
     },
     "metadata": {
      "needs_background": "light"
     },
     "output_type": "display_data"
    }
   ],
   "source": [
    "## showing the statistical analysis\n",
    "fig = plt.figure(figsize=(6,3))\n",
    "ax = fig.add_subplot(1,1,1)\n",
    "df['Age'].plot(kind = 'kde',ax = ax, color ='r',legend = 'Age column')\n",
    "#df['Age_mean_replaced'].plot(kind ='kde', ax = ax, color ='b',legend = 'Age mean column')\n",
    "#df['Age_median_replaced'].plot(kind = 'kde',ax = ax, color ='g',legend = 'Age median column')\n",
    "#df['Age_mode_replaced'].plot(kind = 'kde',ax = ax, color ='y',legend = 'Age mode column')\n",
    "#df['Age_const_var'].plot(kind = 'kde',ax = ax, color ='y',legend = 'Age mode column')\n",
    "df['Age_random_replaced'].plot(kind = 'kde',ax = ax, color = 'y',legend = 'Age random colunm')\n",
    "plt.legend(loc =0)\n",
    "plt.show()"
   ]
  },
  {
   "cell_type": "code",
   "execution_count": 72,
   "id": "52cbfa83",
   "metadata": {},
   "outputs": [
    {
     "name": "stdout",
     "output_type": "stream",
     "text": [
      "the std for age var =  14.18120923562442\n",
      "the std for age const var =  14.316950260832423\n"
     ]
    }
   ],
   "source": [
    "print('the std for age var = ',df['Age'].std())\n",
    "#print('the std for age mean var = ',df['Age_mean_replaced'].std())\n",
    "#print('the std for age median var =',df['Age_median_replaced'].std())\n",
    "#print('the std for age mode var =',df['Age_mode_replaced'].std()) \n",
    "#print('the std for age const var =',df['Age_const_var'].std()) \n",
    "#print('the std for age Eod technique =',df['Eod techniqe'].std())\n",
    "#print('the std for age Arbitary_value_var',df['Arbitary_value_var'].std())\n",
    "print('the std for age const var = ',df['Age_random_replaced'].std())"
   ]
  },
  {
   "cell_type": "code",
   "execution_count": null,
   "id": "89ca054b",
   "metadata": {},
   "outputs": [],
   "source": []
  }
 ],
 "metadata": {
  "kernelspec": {
   "display_name": "Python 3 (ipykernel)",
   "language": "python",
   "name": "python3"
  },
  "language_info": {
   "codemirror_mode": {
    "name": "ipython",
    "version": 3
   },
   "file_extension": ".py",
   "mimetype": "text/x-python",
   "name": "python",
   "nbconvert_exporter": "python",
   "pygments_lexer": "ipython3",
   "version": "3.9.12"
  }
 },
 "nbformat": 4,
 "nbformat_minor": 5
}
