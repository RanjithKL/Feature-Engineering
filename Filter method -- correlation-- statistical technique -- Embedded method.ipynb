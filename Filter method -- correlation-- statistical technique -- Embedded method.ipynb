{
 "cells": [
  {
   "cell_type": "markdown",
   "id": "607eee92",
   "metadata": {},
   "source": [
    "## Filtering the feature [used in every project]\n",
    "\n",
    "- constant removal technique VAR =0\n",
    "- quasi contant removal technique VAR =0.1\n",
    "- duplicate removal technique"
   ]
  },
  {
   "cell_type": "code",
   "execution_count": 1,
   "id": "b88154d6",
   "metadata": {},
   "outputs": [],
   "source": [
    "import sklearn"
   ]
  },
  {
   "cell_type": "code",
   "execution_count": 2,
   "id": "8854a149",
   "metadata": {},
   "outputs": [
    {
     "name": "stdout",
     "output_type": "stream",
     "text": [
      "1.0.2\n"
     ]
    }
   ],
   "source": [
    "print(sklearn.__version__)"
   ]
  },
  {
   "cell_type": "markdown",
   "id": "18dc6f82",
   "metadata": {},
   "source": [
    "### constant removal"
   ]
  },
  {
   "cell_type": "markdown",
   "id": "9e7d5b41",
   "metadata": {},
   "source": [
    "# removing the column which has variance completely zero"
   ]
  },
  {
   "cell_type": "code",
   "execution_count": 3,
   "id": "4cc4e8a0",
   "metadata": {},
   "outputs": [],
   "source": [
    "import numpy as np\n",
    "import pandas as pd\n",
    "import matplotlib.pyplot as plt\n",
    "import seaborn as sns"
   ]
  },
  {
   "cell_type": "code",
   "execution_count": 4,
   "id": "2f1c41cf",
   "metadata": {},
   "outputs": [],
   "source": [
    "df = pd.read_csv('./dataset_1.csv')"
   ]
  },
  {
   "cell_type": "code",
   "execution_count": 5,
   "id": "bcad2782",
   "metadata": {},
   "outputs": [
    {
     "data": {
      "text/html": [
       "<div>\n",
       "<style scoped>\n",
       "    .dataframe tbody tr th:only-of-type {\n",
       "        vertical-align: middle;\n",
       "    }\n",
       "\n",
       "    .dataframe tbody tr th {\n",
       "        vertical-align: top;\n",
       "    }\n",
       "\n",
       "    .dataframe thead th {\n",
       "        text-align: right;\n",
       "    }\n",
       "</style>\n",
       "<table border=\"1\" class=\"dataframe\">\n",
       "  <thead>\n",
       "    <tr style=\"text-align: right;\">\n",
       "      <th></th>\n",
       "      <th>var_1</th>\n",
       "      <th>var_2</th>\n",
       "      <th>var_3</th>\n",
       "      <th>var_4</th>\n",
       "      <th>var_5</th>\n",
       "      <th>var_6</th>\n",
       "      <th>var_7</th>\n",
       "      <th>var_8</th>\n",
       "      <th>var_9</th>\n",
       "      <th>var_10</th>\n",
       "      <th>...</th>\n",
       "      <th>var_292</th>\n",
       "      <th>var_293</th>\n",
       "      <th>var_294</th>\n",
       "      <th>var_295</th>\n",
       "      <th>var_296</th>\n",
       "      <th>var_297</th>\n",
       "      <th>var_298</th>\n",
       "      <th>var_299</th>\n",
       "      <th>var_300</th>\n",
       "      <th>target</th>\n",
       "    </tr>\n",
       "  </thead>\n",
       "  <tbody>\n",
       "    <tr>\n",
       "      <th>0</th>\n",
       "      <td>0</td>\n",
       "      <td>0</td>\n",
       "      <td>0.0</td>\n",
       "      <td>0.00</td>\n",
       "      <td>0.0</td>\n",
       "      <td>0</td>\n",
       "      <td>0</td>\n",
       "      <td>0</td>\n",
       "      <td>0</td>\n",
       "      <td>0</td>\n",
       "      <td>...</td>\n",
       "      <td>0.0</td>\n",
       "      <td>0</td>\n",
       "      <td>0</td>\n",
       "      <td>0</td>\n",
       "      <td>0</td>\n",
       "      <td>0</td>\n",
       "      <td>0</td>\n",
       "      <td>0.0</td>\n",
       "      <td>0.0000</td>\n",
       "      <td>0</td>\n",
       "    </tr>\n",
       "    <tr>\n",
       "      <th>1</th>\n",
       "      <td>0</td>\n",
       "      <td>0</td>\n",
       "      <td>0.0</td>\n",
       "      <td>3.00</td>\n",
       "      <td>0.0</td>\n",
       "      <td>0</td>\n",
       "      <td>0</td>\n",
       "      <td>0</td>\n",
       "      <td>0</td>\n",
       "      <td>0</td>\n",
       "      <td>...</td>\n",
       "      <td>0.0</td>\n",
       "      <td>0</td>\n",
       "      <td>0</td>\n",
       "      <td>0</td>\n",
       "      <td>0</td>\n",
       "      <td>0</td>\n",
       "      <td>0</td>\n",
       "      <td>0.0</td>\n",
       "      <td>0.0000</td>\n",
       "      <td>0</td>\n",
       "    </tr>\n",
       "    <tr>\n",
       "      <th>2</th>\n",
       "      <td>0</td>\n",
       "      <td>0</td>\n",
       "      <td>0.0</td>\n",
       "      <td>5.88</td>\n",
       "      <td>0.0</td>\n",
       "      <td>0</td>\n",
       "      <td>0</td>\n",
       "      <td>0</td>\n",
       "      <td>0</td>\n",
       "      <td>0</td>\n",
       "      <td>...</td>\n",
       "      <td>0.0</td>\n",
       "      <td>0</td>\n",
       "      <td>0</td>\n",
       "      <td>3</td>\n",
       "      <td>0</td>\n",
       "      <td>0</td>\n",
       "      <td>0</td>\n",
       "      <td>0.0</td>\n",
       "      <td>67772.7216</td>\n",
       "      <td>0</td>\n",
       "    </tr>\n",
       "    <tr>\n",
       "      <th>3</th>\n",
       "      <td>0</td>\n",
       "      <td>0</td>\n",
       "      <td>0.0</td>\n",
       "      <td>14.10</td>\n",
       "      <td>0.0</td>\n",
       "      <td>0</td>\n",
       "      <td>0</td>\n",
       "      <td>0</td>\n",
       "      <td>0</td>\n",
       "      <td>0</td>\n",
       "      <td>...</td>\n",
       "      <td>0.0</td>\n",
       "      <td>0</td>\n",
       "      <td>0</td>\n",
       "      <td>0</td>\n",
       "      <td>0</td>\n",
       "      <td>0</td>\n",
       "      <td>0</td>\n",
       "      <td>0.0</td>\n",
       "      <td>0.0000</td>\n",
       "      <td>0</td>\n",
       "    </tr>\n",
       "    <tr>\n",
       "      <th>4</th>\n",
       "      <td>0</td>\n",
       "      <td>0</td>\n",
       "      <td>0.0</td>\n",
       "      <td>5.76</td>\n",
       "      <td>0.0</td>\n",
       "      <td>0</td>\n",
       "      <td>0</td>\n",
       "      <td>0</td>\n",
       "      <td>0</td>\n",
       "      <td>0</td>\n",
       "      <td>...</td>\n",
       "      <td>0.0</td>\n",
       "      <td>0</td>\n",
       "      <td>0</td>\n",
       "      <td>0</td>\n",
       "      <td>0</td>\n",
       "      <td>0</td>\n",
       "      <td>0</td>\n",
       "      <td>0.0</td>\n",
       "      <td>0.0000</td>\n",
       "      <td>0</td>\n",
       "    </tr>\n",
       "    <tr>\n",
       "      <th>5</th>\n",
       "      <td>0</td>\n",
       "      <td>0</td>\n",
       "      <td>0.0</td>\n",
       "      <td>8.46</td>\n",
       "      <td>0.0</td>\n",
       "      <td>0</td>\n",
       "      <td>0</td>\n",
       "      <td>0</td>\n",
       "      <td>0</td>\n",
       "      <td>0</td>\n",
       "      <td>...</td>\n",
       "      <td>0.0</td>\n",
       "      <td>0</td>\n",
       "      <td>0</td>\n",
       "      <td>0</td>\n",
       "      <td>0</td>\n",
       "      <td>0</td>\n",
       "      <td>0</td>\n",
       "      <td>0.0</td>\n",
       "      <td>0.0000</td>\n",
       "      <td>0</td>\n",
       "    </tr>\n",
       "    <tr>\n",
       "      <th>6</th>\n",
       "      <td>0</td>\n",
       "      <td>0</td>\n",
       "      <td>0.0</td>\n",
       "      <td>8.82</td>\n",
       "      <td>0.0</td>\n",
       "      <td>0</td>\n",
       "      <td>0</td>\n",
       "      <td>0</td>\n",
       "      <td>0</td>\n",
       "      <td>0</td>\n",
       "      <td>...</td>\n",
       "      <td>0.0</td>\n",
       "      <td>0</td>\n",
       "      <td>0</td>\n",
       "      <td>0</td>\n",
       "      <td>0</td>\n",
       "      <td>0</td>\n",
       "      <td>0</td>\n",
       "      <td>0.0</td>\n",
       "      <td>0.0000</td>\n",
       "      <td>0</td>\n",
       "    </tr>\n",
       "    <tr>\n",
       "      <th>7</th>\n",
       "      <td>0</td>\n",
       "      <td>0</td>\n",
       "      <td>0.0</td>\n",
       "      <td>5.94</td>\n",
       "      <td>0.0</td>\n",
       "      <td>0</td>\n",
       "      <td>0</td>\n",
       "      <td>0</td>\n",
       "      <td>0</td>\n",
       "      <td>0</td>\n",
       "      <td>...</td>\n",
       "      <td>0.0</td>\n",
       "      <td>0</td>\n",
       "      <td>0</td>\n",
       "      <td>0</td>\n",
       "      <td>0</td>\n",
       "      <td>0</td>\n",
       "      <td>0</td>\n",
       "      <td>0.0</td>\n",
       "      <td>0.0000</td>\n",
       "      <td>0</td>\n",
       "    </tr>\n",
       "    <tr>\n",
       "      <th>8</th>\n",
       "      <td>0</td>\n",
       "      <td>0</td>\n",
       "      <td>0.0</td>\n",
       "      <td>2.97</td>\n",
       "      <td>0.0</td>\n",
       "      <td>0</td>\n",
       "      <td>0</td>\n",
       "      <td>0</td>\n",
       "      <td>0</td>\n",
       "      <td>0</td>\n",
       "      <td>...</td>\n",
       "      <td>0.0</td>\n",
       "      <td>0</td>\n",
       "      <td>0</td>\n",
       "      <td>0</td>\n",
       "      <td>0</td>\n",
       "      <td>0</td>\n",
       "      <td>0</td>\n",
       "      <td>0.0</td>\n",
       "      <td>0.0000</td>\n",
       "      <td>1</td>\n",
       "    </tr>\n",
       "    <tr>\n",
       "      <th>9</th>\n",
       "      <td>0</td>\n",
       "      <td>0</td>\n",
       "      <td>0.0</td>\n",
       "      <td>0.00</td>\n",
       "      <td>0.0</td>\n",
       "      <td>0</td>\n",
       "      <td>0</td>\n",
       "      <td>0</td>\n",
       "      <td>0</td>\n",
       "      <td>0</td>\n",
       "      <td>...</td>\n",
       "      <td>0.0</td>\n",
       "      <td>0</td>\n",
       "      <td>0</td>\n",
       "      <td>0</td>\n",
       "      <td>0</td>\n",
       "      <td>0</td>\n",
       "      <td>0</td>\n",
       "      <td>0.0</td>\n",
       "      <td>0.0000</td>\n",
       "      <td>0</td>\n",
       "    </tr>\n",
       "  </tbody>\n",
       "</table>\n",
       "<p>10 rows × 301 columns</p>\n",
       "</div>"
      ],
      "text/plain": [
       "   var_1  var_2  var_3  var_4  var_5  var_6  var_7  var_8  var_9  var_10  ...  \\\n",
       "0      0      0    0.0   0.00    0.0      0      0      0      0       0  ...   \n",
       "1      0      0    0.0   3.00    0.0      0      0      0      0       0  ...   \n",
       "2      0      0    0.0   5.88    0.0      0      0      0      0       0  ...   \n",
       "3      0      0    0.0  14.10    0.0      0      0      0      0       0  ...   \n",
       "4      0      0    0.0   5.76    0.0      0      0      0      0       0  ...   \n",
       "5      0      0    0.0   8.46    0.0      0      0      0      0       0  ...   \n",
       "6      0      0    0.0   8.82    0.0      0      0      0      0       0  ...   \n",
       "7      0      0    0.0   5.94    0.0      0      0      0      0       0  ...   \n",
       "8      0      0    0.0   2.97    0.0      0      0      0      0       0  ...   \n",
       "9      0      0    0.0   0.00    0.0      0      0      0      0       0  ...   \n",
       "\n",
       "   var_292  var_293  var_294  var_295  var_296  var_297  var_298  var_299  \\\n",
       "0      0.0        0        0        0        0        0        0      0.0   \n",
       "1      0.0        0        0        0        0        0        0      0.0   \n",
       "2      0.0        0        0        3        0        0        0      0.0   \n",
       "3      0.0        0        0        0        0        0        0      0.0   \n",
       "4      0.0        0        0        0        0        0        0      0.0   \n",
       "5      0.0        0        0        0        0        0        0      0.0   \n",
       "6      0.0        0        0        0        0        0        0      0.0   \n",
       "7      0.0        0        0        0        0        0        0      0.0   \n",
       "8      0.0        0        0        0        0        0        0      0.0   \n",
       "9      0.0        0        0        0        0        0        0      0.0   \n",
       "\n",
       "      var_300  target  \n",
       "0      0.0000       0  \n",
       "1      0.0000       0  \n",
       "2  67772.7216       0  \n",
       "3      0.0000       0  \n",
       "4      0.0000       0  \n",
       "5      0.0000       0  \n",
       "6      0.0000       0  \n",
       "7      0.0000       0  \n",
       "8      0.0000       1  \n",
       "9      0.0000       0  \n",
       "\n",
       "[10 rows x 301 columns]"
      ]
     },
     "execution_count": 5,
     "metadata": {},
     "output_type": "execute_result"
    }
   ],
   "source": [
    "df.head(10)"
   ]
  },
  {
   "cell_type": "code",
   "execution_count": 6,
   "id": "67794dad",
   "metadata": {},
   "outputs": [
    {
     "data": {
      "text/plain": [
       "(50000, 301)"
      ]
     },
     "execution_count": 6,
     "metadata": {},
     "output_type": "execute_result"
    }
   ],
   "source": [
    "df.shape"
   ]
  },
  {
   "cell_type": "code",
   "execution_count": 7,
   "id": "607f2f2c",
   "metadata": {},
   "outputs": [
    {
     "data": {
      "text/plain": [
       "var_1      0\n",
       "var_2      0\n",
       "var_3      0\n",
       "var_4      0\n",
       "var_5      0\n",
       "          ..\n",
       "var_297    0\n",
       "var_298    0\n",
       "var_299    0\n",
       "var_300    0\n",
       "target     0\n",
       "Length: 301, dtype: int64"
      ]
     },
     "execution_count": 7,
     "metadata": {},
     "output_type": "execute_result"
    }
   ],
   "source": [
    "df.isnull().sum()"
   ]
  },
  {
   "cell_type": "code",
   "execution_count": 8,
   "id": "43ed50ca",
   "metadata": {},
   "outputs": [
    {
     "name": "stdout",
     "output_type": "stream",
     "text": [
      "Number of null values in  var_1 0\n",
      "Number of null values in  var_2 0\n",
      "Number of null values in  var_3 0\n",
      "Number of null values in  var_4 0\n",
      "Number of null values in  var_5 0\n",
      "Number of null values in  var_6 0\n",
      "Number of null values in  var_7 0\n",
      "Number of null values in  var_8 0\n",
      "Number of null values in  var_9 0\n",
      "Number of null values in  var_10 0\n",
      "Number of null values in  var_11 0\n",
      "Number of null values in  var_12 0\n",
      "Number of null values in  var_13 0\n",
      "Number of null values in  var_14 0\n",
      "Number of null values in  var_15 0\n",
      "Number of null values in  var_16 0\n",
      "Number of null values in  var_17 0\n",
      "Number of null values in  var_18 0\n",
      "Number of null values in  var_19 0\n",
      "Number of null values in  var_20 0\n",
      "Number of null values in  var_21 0\n",
      "Number of null values in  var_22 0\n",
      "Number of null values in  var_23 0\n",
      "Number of null values in  var_24 0\n",
      "Number of null values in  var_25 0\n",
      "Number of null values in  var_26 0\n",
      "Number of null values in  var_27 0\n",
      "Number of null values in  var_28 0\n",
      "Number of null values in  var_29 0\n",
      "Number of null values in  var_30 0\n",
      "Number of null values in  var_31 0\n",
      "Number of null values in  var_32 0\n",
      "Number of null values in  var_33 0\n",
      "Number of null values in  var_34 0\n",
      "Number of null values in  var_35 0\n",
      "Number of null values in  var_36 0\n",
      "Number of null values in  var_37 0\n",
      "Number of null values in  var_38 0\n",
      "Number of null values in  var_39 0\n",
      "Number of null values in  var_40 0\n",
      "Number of null values in  var_41 0\n",
      "Number of null values in  var_42 0\n",
      "Number of null values in  var_43 0\n",
      "Number of null values in  var_44 0\n",
      "Number of null values in  var_45 0\n",
      "Number of null values in  var_46 0\n",
      "Number of null values in  var_47 0\n",
      "Number of null values in  var_48 0\n",
      "Number of null values in  var_49 0\n",
      "Number of null values in  var_50 0\n",
      "Number of null values in  var_51 0\n",
      "Number of null values in  var_52 0\n",
      "Number of null values in  var_53 0\n",
      "Number of null values in  var_54 0\n",
      "Number of null values in  var_55 0\n",
      "Number of null values in  var_56 0\n",
      "Number of null values in  var_57 0\n",
      "Number of null values in  var_58 0\n",
      "Number of null values in  var_59 0\n",
      "Number of null values in  var_60 0\n",
      "Number of null values in  var_61 0\n",
      "Number of null values in  var_62 0\n",
      "Number of null values in  var_63 0\n",
      "Number of null values in  var_64 0\n",
      "Number of null values in  var_65 0\n",
      "Number of null values in  var_66 0\n",
      "Number of null values in  var_67 0\n",
      "Number of null values in  var_68 0\n",
      "Number of null values in  var_69 0\n",
      "Number of null values in  var_70 0\n",
      "Number of null values in  var_71 0\n",
      "Number of null values in  var_72 0\n",
      "Number of null values in  var_73 0\n",
      "Number of null values in  var_74 0\n",
      "Number of null values in  var_75 0\n",
      "Number of null values in  var_76 0\n",
      "Number of null values in  var_77 0\n",
      "Number of null values in  var_78 0\n",
      "Number of null values in  var_79 0\n",
      "Number of null values in  var_80 0\n",
      "Number of null values in  var_81 0\n",
      "Number of null values in  var_82 0\n",
      "Number of null values in  var_83 0\n",
      "Number of null values in  var_84 0\n",
      "Number of null values in  var_85 0\n",
      "Number of null values in  var_86 0\n",
      "Number of null values in  var_87 0\n",
      "Number of null values in  var_88 0\n",
      "Number of null values in  var_89 0\n",
      "Number of null values in  var_90 0\n",
      "Number of null values in  var_91 0\n",
      "Number of null values in  var_92 0\n",
      "Number of null values in  var_93 0\n",
      "Number of null values in  var_94 0\n",
      "Number of null values in  var_95 0\n",
      "Number of null values in  var_96 0\n",
      "Number of null values in  var_97 0\n",
      "Number of null values in  var_98 0\n",
      "Number of null values in  var_99 0\n",
      "Number of null values in  var_100 0\n",
      "Number of null values in  var_101 0\n",
      "Number of null values in  var_102 0\n",
      "Number of null values in  var_103 0\n",
      "Number of null values in  var_104 0\n",
      "Number of null values in  var_105 0\n",
      "Number of null values in  var_106 0\n",
      "Number of null values in  var_107 0\n",
      "Number of null values in  var_108 0\n",
      "Number of null values in  var_109 0\n",
      "Number of null values in  var_110 0\n",
      "Number of null values in  var_111 0\n",
      "Number of null values in  var_112 0\n",
      "Number of null values in  var_113 0\n",
      "Number of null values in  var_114 0\n",
      "Number of null values in  var_115 0\n",
      "Number of null values in  var_116 0\n",
      "Number of null values in  var_117 0\n",
      "Number of null values in  var_118 0\n",
      "Number of null values in  var_119 0\n",
      "Number of null values in  var_120 0\n",
      "Number of null values in  var_121 0\n",
      "Number of null values in  var_122 0\n",
      "Number of null values in  var_123 0\n",
      "Number of null values in  var_124 0\n",
      "Number of null values in  var_125 0\n",
      "Number of null values in  var_126 0\n",
      "Number of null values in  var_127 0\n",
      "Number of null values in  var_128 0\n",
      "Number of null values in  var_129 0\n",
      "Number of null values in  var_130 0\n",
      "Number of null values in  var_131 0\n",
      "Number of null values in  var_132 0\n",
      "Number of null values in  var_133 0\n",
      "Number of null values in  var_134 0\n",
      "Number of null values in  var_135 0\n",
      "Number of null values in  var_136 0\n",
      "Number of null values in  var_137 0\n",
      "Number of null values in  var_138 0\n",
      "Number of null values in  var_139 0\n",
      "Number of null values in  var_140 0\n",
      "Number of null values in  var_141 0\n",
      "Number of null values in  var_142 0\n",
      "Number of null values in  var_143 0\n",
      "Number of null values in  var_144 0\n",
      "Number of null values in  var_145 0\n",
      "Number of null values in  var_146 0\n",
      "Number of null values in  var_147 0\n",
      "Number of null values in  var_148 0\n",
      "Number of null values in  var_149 0\n",
      "Number of null values in  var_150 0\n",
      "Number of null values in  var_151 0\n",
      "Number of null values in  var_152 0\n",
      "Number of null values in  var_153 0\n",
      "Number of null values in  var_154 0\n",
      "Number of null values in  var_155 0\n",
      "Number of null values in  var_156 0\n",
      "Number of null values in  var_157 0\n",
      "Number of null values in  var_158 0\n",
      "Number of null values in  var_159 0\n",
      "Number of null values in  var_160 0\n",
      "Number of null values in  var_161 0\n",
      "Number of null values in  var_162 0\n",
      "Number of null values in  var_163 0\n",
      "Number of null values in  var_164 0\n",
      "Number of null values in  var_165 0\n",
      "Number of null values in  var_166 0\n",
      "Number of null values in  var_167 0\n",
      "Number of null values in  var_168 0\n",
      "Number of null values in  var_169 0\n",
      "Number of null values in  var_170 0\n",
      "Number of null values in  var_171 0\n",
      "Number of null values in  var_172 0\n",
      "Number of null values in  var_173 0\n",
      "Number of null values in  var_174 0\n",
      "Number of null values in  var_175 0\n",
      "Number of null values in  var_176 0\n",
      "Number of null values in  var_177 0\n",
      "Number of null values in  var_178 0\n",
      "Number of null values in  var_179 0\n",
      "Number of null values in  var_180 0\n",
      "Number of null values in  var_181 0\n",
      "Number of null values in  var_182 0\n",
      "Number of null values in  var_183 0\n",
      "Number of null values in  var_184 0\n",
      "Number of null values in  var_185 0\n",
      "Number of null values in  var_186 0\n",
      "Number of null values in  var_187 0\n",
      "Number of null values in  var_188 0\n",
      "Number of null values in  var_189 0\n",
      "Number of null values in  var_190 0\n",
      "Number of null values in  var_191 0\n",
      "Number of null values in  var_192 0\n",
      "Number of null values in  var_193 0\n",
      "Number of null values in  var_194 0\n",
      "Number of null values in  var_195 0\n",
      "Number of null values in  var_196 0\n",
      "Number of null values in  var_197 0\n",
      "Number of null values in  var_198 0\n",
      "Number of null values in  var_199 0\n",
      "Number of null values in  var_200 0\n",
      "Number of null values in  var_201 0\n",
      "Number of null values in  var_202 0\n",
      "Number of null values in  var_203 0\n",
      "Number of null values in  var_204 0\n",
      "Number of null values in  var_205 0\n",
      "Number of null values in  var_206 0\n",
      "Number of null values in  var_207 0\n",
      "Number of null values in  var_208 0\n",
      "Number of null values in  var_209 0\n",
      "Number of null values in  var_210 0\n",
      "Number of null values in  var_211 0\n",
      "Number of null values in  var_212 0\n",
      "Number of null values in  var_213 0\n",
      "Number of null values in  var_214 0\n",
      "Number of null values in  var_215 0\n",
      "Number of null values in  var_216 0\n",
      "Number of null values in  var_217 0\n",
      "Number of null values in  var_218 0\n",
      "Number of null values in  var_219 0\n",
      "Number of null values in  var_220 0\n",
      "Number of null values in  var_221 0\n",
      "Number of null values in  var_222 0\n",
      "Number of null values in  var_223 0\n",
      "Number of null values in  var_224 0\n",
      "Number of null values in  var_225 0\n",
      "Number of null values in  var_226 0\n",
      "Number of null values in  var_227 0\n",
      "Number of null values in  var_228 0\n",
      "Number of null values in  var_229 0\n",
      "Number of null values in  var_230 0\n",
      "Number of null values in  var_231 0\n",
      "Number of null values in  var_232 0\n",
      "Number of null values in  var_233 0\n",
      "Number of null values in  var_234 0\n",
      "Number of null values in  var_235 0\n",
      "Number of null values in  var_236 0\n",
      "Number of null values in  var_237 0\n",
      "Number of null values in  var_238 0\n",
      "Number of null values in  var_239 0\n",
      "Number of null values in  var_240 0\n",
      "Number of null values in  var_241 0\n",
      "Number of null values in  var_242 0\n",
      "Number of null values in  var_243 0\n",
      "Number of null values in  var_244 0\n",
      "Number of null values in  var_245 0\n",
      "Number of null values in  var_246 0\n",
      "Number of null values in  var_247 0\n",
      "Number of null values in  var_248 0\n",
      "Number of null values in  var_249 0\n",
      "Number of null values in  var_250 0\n",
      "Number of null values in  var_251 0\n",
      "Number of null values in  var_252 0\n",
      "Number of null values in  var_253 0\n",
      "Number of null values in  var_254 0\n",
      "Number of null values in  var_255 0\n",
      "Number of null values in  var_256 0\n",
      "Number of null values in  var_257 0\n",
      "Number of null values in  var_258 0\n",
      "Number of null values in  var_259 0\n",
      "Number of null values in  var_260 0\n",
      "Number of null values in  var_261 0\n",
      "Number of null values in  var_262 0\n",
      "Number of null values in  var_263 0\n",
      "Number of null values in  var_264 0\n",
      "Number of null values in  var_265 0\n",
      "Number of null values in  var_266 0\n",
      "Number of null values in  var_267 0\n",
      "Number of null values in  var_268 0\n",
      "Number of null values in  var_269 0\n",
      "Number of null values in  var_270 0\n",
      "Number of null values in  var_271 0\n",
      "Number of null values in  var_272 0\n",
      "Number of null values in  var_273 0\n",
      "Number of null values in  var_274 0\n",
      "Number of null values in  var_275 0\n",
      "Number of null values in  var_276 0\n",
      "Number of null values in  var_277 0\n",
      "Number of null values in  var_278 0\n",
      "Number of null values in  var_279 0\n",
      "Number of null values in  var_280 0\n",
      "Number of null values in  var_281 0\n",
      "Number of null values in  var_282 0\n",
      "Number of null values in  var_283 0\n",
      "Number of null values in  var_284 0\n",
      "Number of null values in  var_285 0\n",
      "Number of null values in  var_286 0\n",
      "Number of null values in  var_287 0\n",
      "Number of null values in  var_288 0\n",
      "Number of null values in  var_289 0\n",
      "Number of null values in  var_290 0\n",
      "Number of null values in  var_291 0\n",
      "Number of null values in  var_292 0\n",
      "Number of null values in  var_293 0\n",
      "Number of null values in  var_294 0\n",
      "Number of null values in  var_295 0\n",
      "Number of null values in  var_296 0\n",
      "Number of null values in  var_297 0\n",
      "Number of null values in  var_298 0\n",
      "Number of null values in  var_299 0\n",
      "Number of null values in  var_300 0\n",
      "Number of null values in  target 0\n"
     ]
    }
   ],
   "source": [
    "for i in df.columns:\n",
    "    print('Number of null values in ',i,df[i].isnull().sum())"
   ]
  },
  {
   "cell_type": "code",
   "execution_count": 9,
   "id": "dfe052ac",
   "metadata": {},
   "outputs": [],
   "source": [
    "from sklearn.feature_selection import VarianceThreshold  ## cheking the variace"
   ]
  },
  {
   "cell_type": "code",
   "execution_count": 10,
   "id": "eb333d4c",
   "metadata": {},
   "outputs": [],
   "source": [
    "var = VarianceThreshold(threshold=0.0) ## variance = 0"
   ]
  },
  {
   "cell_type": "code",
   "execution_count": 11,
   "id": "832efa9f",
   "metadata": {},
   "outputs": [],
   "source": [
    "from sklearn.model_selection import train_test_split"
   ]
  },
  {
   "cell_type": "code",
   "execution_count": 12,
   "id": "19a8ec4a",
   "metadata": {},
   "outputs": [],
   "source": [
    "df_inde = df.iloc[: ,:-1]"
   ]
  },
  {
   "cell_type": "code",
   "execution_count": 13,
   "id": "b05fa4b7",
   "metadata": {},
   "outputs": [
    {
     "data": {
      "text/plain": [
       "VarianceThreshold()"
      ]
     },
     "execution_count": 13,
     "metadata": {},
     "output_type": "execute_result"
    }
   ],
   "source": [
    "var.fit(df_inde)"
   ]
  },
  {
   "cell_type": "code",
   "execution_count": 14,
   "id": "866dbbe7",
   "metadata": {},
   "outputs": [
    {
     "data": {
      "text/plain": [
       "array([ True,  True,  True,  True,  True,  True,  True,  True,  True,\n",
       "        True,  True,  True,  True,  True,  True,  True,  True,  True,\n",
       "        True,  True,  True,  True, False,  True,  True,  True,  True,\n",
       "        True,  True,  True,  True,  True, False,  True,  True,  True,\n",
       "        True,  True,  True,  True,  True,  True,  True, False,  True,\n",
       "        True,  True,  True,  True,  True,  True,  True,  True,  True,\n",
       "        True,  True,  True,  True,  True,  True, False,  True,  True,\n",
       "        True,  True,  True,  True,  True,  True,  True,  True,  True,\n",
       "        True,  True,  True,  True,  True,  True,  True, False, False,\n",
       "        True,  True,  True,  True,  True, False,  True, False,  True,\n",
       "        True, False,  True,  True,  True,  True, False,  True, False,\n",
       "        True,  True,  True,  True,  True,  True,  True,  True,  True,\n",
       "        True,  True,  True, False, False,  True,  True,  True,  True,\n",
       "        True,  True, False,  True, False,  True,  True,  True,  True,\n",
       "       False,  True,  True,  True,  True,  True,  True,  True, False,\n",
       "        True,  True,  True,  True,  True,  True,  True,  True,  True,\n",
       "        True,  True,  True,  True,  True,  True,  True,  True,  True,\n",
       "        True,  True,  True,  True, False,  True,  True,  True,  True,\n",
       "        True,  True,  True,  True, False,  True,  True,  True, False,\n",
       "        True,  True,  True,  True,  True,  True, False,  True, False,\n",
       "        True, False,  True,  True,  True,  True,  True,  True,  True,\n",
       "        True,  True,  True,  True,  True, False, False,  True,  True,\n",
       "        True,  True, False,  True,  True,  True,  True,  True,  True,\n",
       "        True,  True,  True,  True, False,  True,  True, False,  True,\n",
       "        True,  True,  True,  True,  True,  True,  True,  True, False,\n",
       "        True, False,  True,  True,  True,  True,  True,  True,  True,\n",
       "        True,  True,  True,  True,  True,  True,  True,  True,  True,\n",
       "        True,  True,  True,  True, False,  True,  True,  True,  True,\n",
       "        True,  True,  True,  True,  True,  True,  True,  True,  True,\n",
       "        True,  True,  True,  True,  True,  True,  True,  True,  True,\n",
       "        True,  True,  True,  True,  True,  True,  True,  True,  True,\n",
       "        True,  True,  True,  True,  True,  True,  True,  True,  True,\n",
       "        True,  True,  True,  True,  True, False,  True,  True, False,\n",
       "        True,  True,  True])"
      ]
     },
     "execution_count": 14,
     "metadata": {},
     "output_type": "execute_result"
    }
   ],
   "source": [
    "var.get_support()"
   ]
  },
  {
   "cell_type": "code",
   "execution_count": 15,
   "id": "5fe8b768",
   "metadata": {},
   "outputs": [
    {
     "data": {
      "text/plain": [
       "267"
      ]
     },
     "execution_count": 15,
     "metadata": {},
     "output_type": "execute_result"
    }
   ],
   "source": [
    "sum(var.get_support())  ## 267  columns are important which means variance is not zero"
   ]
  },
  {
   "cell_type": "code",
   "execution_count": 16,
   "id": "67275033",
   "metadata": {},
   "outputs": [],
   "source": [
    "a = df_inde.columns[var.get_support()]"
   ]
  },
  {
   "cell_type": "code",
   "execution_count": 17,
   "id": "d3ea960e",
   "metadata": {},
   "outputs": [
    {
     "data": {
      "text/plain": [
       "0.011695305506113498"
      ]
     },
     "execution_count": 17,
     "metadata": {},
     "output_type": "execute_result"
    }
   ],
   "source": [
    "## just checking\n",
    "df_inde['var_1'].var()"
   ]
  },
  {
   "cell_type": "code",
   "execution_count": 18,
   "id": "a08a25e4",
   "metadata": {},
   "outputs": [],
   "source": [
    "constant = df_inde.columns[~var.get_support()]"
   ]
  },
  {
   "cell_type": "code",
   "execution_count": 19,
   "id": "ec41e7e0",
   "metadata": {},
   "outputs": [
    {
     "data": {
      "text/plain": [
       "Index(['var_23', 'var_33', 'var_44', 'var_61', 'var_80', 'var_81', 'var_87',\n",
       "       'var_89', 'var_92', 'var_97', 'var_99', 'var_112', 'var_113', 'var_120',\n",
       "       'var_122', 'var_127', 'var_135', 'var_158', 'var_167', 'var_171',\n",
       "       'var_178', 'var_180', 'var_182', 'var_195', 'var_196', 'var_201',\n",
       "       'var_212', 'var_215', 'var_225', 'var_227', 'var_248', 'var_294',\n",
       "       'var_297'],\n",
       "      dtype='object')"
      ]
     },
     "execution_count": 19,
     "metadata": {},
     "output_type": "execute_result"
    }
   ],
   "source": [
    "constant"
   ]
  },
  {
   "cell_type": "code",
   "execution_count": 20,
   "id": "83625ef5",
   "metadata": {},
   "outputs": [
    {
     "data": {
      "text/plain": [
       "33"
      ]
     },
     "execution_count": 20,
     "metadata": {},
     "output_type": "execute_result"
    }
   ],
   "source": [
    "len(constant)"
   ]
  },
  {
   "cell_type": "raw",
   "id": "9b34eac8",
   "metadata": {},
   "source": [
    "a = df.drop(['var_23', 'var_33', 'var_44', 'var_61', 'var_80', 'var_81', 'var_87',\n",
    "       'var_89', 'var_92', 'var_97', 'var_99', 'var_112', 'var_113', 'var_120',\n",
    "       'var_122', 'var_127', 'var_135', 'var_158', 'var_167', 'var_171',\n",
    "       'var_178', 'var_180', 'var_182', 'var_195', 'var_196', 'var_201',\n",
    "       'var_212', 'var_215', 'var_225', 'var_227', 'var_248', 'var_294',\n",
    "       'var_297'],\n",
    "      dtype='object'], axis = 1)"
   ]
  },
  {
   "cell_type": "code",
   "execution_count": 21,
   "id": "c05c2e51",
   "metadata": {},
   "outputs": [],
   "source": [
    "df_inde = var.transform(df_inde)"
   ]
  },
  {
   "cell_type": "code",
   "execution_count": 22,
   "id": "01eee25f",
   "metadata": {},
   "outputs": [
    {
     "data": {
      "text/plain": [
       "(50000, 267)"
      ]
     },
     "execution_count": 22,
     "metadata": {},
     "output_type": "execute_result"
    }
   ],
   "source": [
    "df_inde.shape"
   ]
  },
  {
   "cell_type": "code",
   "execution_count": 23,
   "id": "ca7e6dd3",
   "metadata": {},
   "outputs": [],
   "source": [
    "df_inde = pd.DataFrame(data = df_inde, columns =a)"
   ]
  },
  {
   "cell_type": "code",
   "execution_count": 24,
   "id": "43a6bc24",
   "metadata": {},
   "outputs": [],
   "source": [
    "df_inde['target'] = df['target']"
   ]
  },
  {
   "cell_type": "code",
   "execution_count": 25,
   "id": "f2b2c3d6",
   "metadata": {},
   "outputs": [
    {
     "data": {
      "text/plain": [
       "(50000, 268)"
      ]
     },
     "execution_count": 25,
     "metadata": {},
     "output_type": "execute_result"
    }
   ],
   "source": [
    "df_inde.shape"
   ]
  },
  {
   "cell_type": "code",
   "execution_count": 26,
   "id": "05d39d21",
   "metadata": {},
   "outputs": [
    {
     "data": {
      "text/plain": [
       "0.0"
      ]
     },
     "execution_count": 26,
     "metadata": {},
     "output_type": "execute_result"
    }
   ],
   "source": [
    "df['var_212'].var()"
   ]
  },
  {
   "cell_type": "code",
   "execution_count": 27,
   "id": "64a6115e",
   "metadata": {},
   "outputs": [
    {
     "data": {
      "text/plain": [
       "array([0], dtype=int64)"
      ]
     },
     "execution_count": 27,
     "metadata": {},
     "output_type": "execute_result"
    }
   ],
   "source": [
    "df['var_212'].unique()"
   ]
  },
  {
   "cell_type": "markdown",
   "id": "f6e2e544",
   "metadata": {},
   "source": [
    "## Quasi constant method var = 0.1"
   ]
  },
  {
   "cell_type": "code",
   "execution_count": 28,
   "id": "e90c0e41",
   "metadata": {},
   "outputs": [],
   "source": [
    "from sklearn.feature_selection import VarianceThreshold  ## cheking the variace"
   ]
  },
  {
   "cell_type": "code",
   "execution_count": 29,
   "id": "ebb61728",
   "metadata": {},
   "outputs": [],
   "source": [
    "var = VarianceThreshold(threshold = 0.1) ## variance = 0"
   ]
  },
  {
   "cell_type": "code",
   "execution_count": 30,
   "id": "acbdaf36",
   "metadata": {},
   "outputs": [],
   "source": [
    "df_inde = df_inde.iloc[:, :-1]"
   ]
  },
  {
   "cell_type": "code",
   "execution_count": 31,
   "id": "122f4b8c",
   "metadata": {},
   "outputs": [
    {
     "data": {
      "text/plain": [
       "VarianceThreshold(threshold=0.1)"
      ]
     },
     "execution_count": 31,
     "metadata": {},
     "output_type": "execute_result"
    }
   ],
   "source": [
    "var.fit(df_inde)"
   ]
  },
  {
   "cell_type": "code",
   "execution_count": 32,
   "id": "61bbb0e5",
   "metadata": {},
   "outputs": [
    {
     "data": {
      "text/plain": [
       "array([False, False,  True,  True,  True,  True, False,  True, False,\n",
       "       False,  True,  True,  True,  True,  True,  True,  True,  True,\n",
       "       False,  True,  True,  True, False, False,  True,  True, False,\n",
       "        True,  True,  True,  True,  True,  True, False,  True,  True,\n",
       "        True,  True,  True,  True, False, False,  True,  True,  True,\n",
       "        True,  True,  True, False, False, False,  True, False,  True,\n",
       "        True, False,  True,  True, False,  True,  True, False, False,\n",
       "       False, False, False, False,  True,  True,  True,  True,  True,\n",
       "        True,  True,  True,  True, False, False,  True,  True, False,\n",
       "        True,  True,  True, False, False,  True,  True,  True,  True,\n",
       "        True, False, False,  True, False,  True,  True,  True,  True,\n",
       "        True, False,  True, False, False,  True,  True, False, False,\n",
       "        True,  True,  True,  True,  True,  True,  True,  True, False,\n",
       "        True,  True, False,  True,  True,  True, False,  True,  True,\n",
       "        True,  True, False,  True,  True,  True,  True,  True,  True,\n",
       "        True,  True,  True,  True,  True, False,  True,  True, False,\n",
       "        True, False,  True,  True, False,  True, False,  True,  True,\n",
       "        True,  True,  True, False,  True,  True,  True,  True,  True,\n",
       "        True, False,  True, False,  True,  True,  True,  True, False,\n",
       "       False, False, False,  True, False,  True,  True,  True, False,\n",
       "        True,  True,  True,  True, False,  True,  True,  True,  True,\n",
       "       False, False,  True,  True,  True, False, False, False,  True,\n",
       "       False,  True,  True, False, False, False, False, False,  True,\n",
       "       False,  True,  True, False,  True,  True,  True, False,  True,\n",
       "       False, False, False, False, False,  True,  True,  True, False,\n",
       "        True,  True,  True, False,  True,  True,  True,  True,  True,\n",
       "        True, False,  True, False, False,  True,  True, False, False,\n",
       "       False,  True,  True, False,  True,  True, False, False,  True,\n",
       "       False, False,  True, False,  True, False,  True, False,  True,\n",
       "       False,  True,  True, False,  True,  True])"
      ]
     },
     "execution_count": 32,
     "metadata": {},
     "output_type": "execute_result"
    }
   ],
   "source": [
    "var.get_support()"
   ]
  },
  {
   "cell_type": "code",
   "execution_count": 33,
   "id": "f628d255",
   "metadata": {},
   "outputs": [
    {
     "data": {
      "text/plain": [
       "174"
      ]
     },
     "execution_count": 33,
     "metadata": {},
     "output_type": "execute_result"
    }
   ],
   "source": [
    "sum(var.get_support()) ## 174 columns are important which means variance is not zero"
   ]
  },
  {
   "cell_type": "code",
   "execution_count": 34,
   "id": "2dae1d26",
   "metadata": {},
   "outputs": [
    {
     "data": {
      "text/plain": [
       "Index(['var_3', 'var_4', 'var_5', 'var_6', 'var_8', 'var_11', 'var_12',\n",
       "       'var_13', 'var_14', 'var_15',\n",
       "       ...\n",
       "       'var_280', 'var_283', 'var_286', 'var_288', 'var_290', 'var_292',\n",
       "       'var_295', 'var_296', 'var_299', 'var_300'],\n",
       "      dtype='object', length=174)"
      ]
     },
     "execution_count": 34,
     "metadata": {},
     "output_type": "execute_result"
    }
   ],
   "source": [
    "a = df_inde.columns[var.get_support()]\n",
    "a"
   ]
  },
  {
   "cell_type": "code",
   "execution_count": 35,
   "id": "5bd43bc0",
   "metadata": {},
   "outputs": [
    {
     "data": {
      "text/plain": [
       "1639864.2748740753"
      ]
     },
     "execution_count": 35,
     "metadata": {},
     "output_type": "execute_result"
    }
   ],
   "source": [
    "## just cheking \n",
    "df_inde['var_3'].var()"
   ]
  },
  {
   "cell_type": "code",
   "execution_count": 36,
   "id": "3c82c15f",
   "metadata": {},
   "outputs": [
    {
     "data": {
      "text/plain": [
       "93"
      ]
     },
     "execution_count": 36,
     "metadata": {},
     "output_type": "execute_result"
    }
   ],
   "source": [
    "267 -174 ## 93 columns not important"
   ]
  },
  {
   "cell_type": "code",
   "execution_count": 37,
   "id": "49db7eb9",
   "metadata": {},
   "outputs": [],
   "source": [
    "constant = df_inde.columns[~var.get_support()]"
   ]
  },
  {
   "cell_type": "code",
   "execution_count": 38,
   "id": "87b2b9d3",
   "metadata": {},
   "outputs": [
    {
     "data": {
      "text/plain": [
       "Index(['var_1', 'var_2', 'var_7', 'var_9', 'var_10', 'var_19', 'var_24',\n",
       "       'var_25', 'var_28', 'var_36', 'var_43', 'var_45', 'var_52', 'var_53',\n",
       "       'var_54', 'var_56', 'var_59', 'var_63', 'var_66', 'var_67', 'var_68',\n",
       "       'var_69', 'var_70', 'var_71', 'var_83', 'var_84', 'var_88', 'var_94',\n",
       "       'var_95', 'var_103', 'var_104', 'var_106', 'var_114', 'var_116',\n",
       "       'var_117', 'var_121', 'var_123', 'var_133', 'var_137', 'var_141',\n",
       "       'var_146', 'var_159', 'var_162', 'var_164', 'var_168', 'var_170',\n",
       "       'var_177', 'var_187', 'var_189', 'var_194', 'var_197', 'var_198',\n",
       "       'var_199', 'var_202', 'var_206', 'var_211', 'var_218', 'var_219',\n",
       "       'var_223', 'var_224', 'var_226', 'var_229', 'var_232', 'var_233',\n",
       "       'var_234', 'var_235', 'var_236', 'var_238', 'var_241', 'var_245',\n",
       "       'var_247', 'var_249', 'var_250', 'var_251', 'var_252', 'var_256',\n",
       "       'var_260', 'var_267', 'var_269', 'var_270', 'var_273', 'var_274',\n",
       "       'var_275', 'var_278', 'var_281', 'var_282', 'var_284', 'var_285',\n",
       "       'var_287', 'var_289', 'var_291', 'var_293', 'var_298'],\n",
       "      dtype='object')"
      ]
     },
     "execution_count": 38,
     "metadata": {},
     "output_type": "execute_result"
    }
   ],
   "source": [
    "constant"
   ]
  },
  {
   "cell_type": "code",
   "execution_count": 39,
   "id": "3fdec9a2",
   "metadata": {},
   "outputs": [
    {
     "data": {
      "text/plain": [
       "False"
      ]
     },
     "execution_count": 39,
     "metadata": {},
     "output_type": "execute_result"
    }
   ],
   "source": [
    "df_inde['var_1'].var()> 0.1"
   ]
  },
  {
   "cell_type": "code",
   "execution_count": 40,
   "id": "ee29114e",
   "metadata": {},
   "outputs": [
    {
     "data": {
      "text/plain": [
       "93"
      ]
     },
     "execution_count": 40,
     "metadata": {},
     "output_type": "execute_result"
    }
   ],
   "source": [
    "len(constant)"
   ]
  },
  {
   "cell_type": "code",
   "execution_count": 41,
   "id": "a9b721f1",
   "metadata": {},
   "outputs": [],
   "source": [
    "df_inde = var.transform(df_inde)"
   ]
  },
  {
   "cell_type": "code",
   "execution_count": 42,
   "id": "5e5a8f87",
   "metadata": {},
   "outputs": [
    {
     "data": {
      "text/plain": [
       "(50000, 174)"
      ]
     },
     "execution_count": 42,
     "metadata": {},
     "output_type": "execute_result"
    }
   ],
   "source": [
    "df_inde.shape"
   ]
  },
  {
   "cell_type": "code",
   "execution_count": 43,
   "id": "92886291",
   "metadata": {},
   "outputs": [],
   "source": [
    "df_inde = pd.DataFrame(data = df_inde, columns= a)"
   ]
  },
  {
   "cell_type": "code",
   "execution_count": 44,
   "id": "88c6e29e",
   "metadata": {},
   "outputs": [
    {
     "data": {
      "text/html": [
       "<div>\n",
       "<style scoped>\n",
       "    .dataframe tbody tr th:only-of-type {\n",
       "        vertical-align: middle;\n",
       "    }\n",
       "\n",
       "    .dataframe tbody tr th {\n",
       "        vertical-align: top;\n",
       "    }\n",
       "\n",
       "    .dataframe thead th {\n",
       "        text-align: right;\n",
       "    }\n",
       "</style>\n",
       "<table border=\"1\" class=\"dataframe\">\n",
       "  <thead>\n",
       "    <tr style=\"text-align: right;\">\n",
       "      <th></th>\n",
       "      <th>var_3</th>\n",
       "      <th>var_4</th>\n",
       "      <th>var_5</th>\n",
       "      <th>var_6</th>\n",
       "      <th>var_8</th>\n",
       "      <th>var_11</th>\n",
       "      <th>var_12</th>\n",
       "      <th>var_13</th>\n",
       "      <th>var_14</th>\n",
       "      <th>var_15</th>\n",
       "      <th>...</th>\n",
       "      <th>var_280</th>\n",
       "      <th>var_283</th>\n",
       "      <th>var_286</th>\n",
       "      <th>var_288</th>\n",
       "      <th>var_290</th>\n",
       "      <th>var_292</th>\n",
       "      <th>var_295</th>\n",
       "      <th>var_296</th>\n",
       "      <th>var_299</th>\n",
       "      <th>var_300</th>\n",
       "    </tr>\n",
       "  </thead>\n",
       "  <tbody>\n",
       "    <tr>\n",
       "      <th>0</th>\n",
       "      <td>0.0</td>\n",
       "      <td>0.00</td>\n",
       "      <td>0.0</td>\n",
       "      <td>0.0</td>\n",
       "      <td>0.0</td>\n",
       "      <td>0.0</td>\n",
       "      <td>0.0</td>\n",
       "      <td>0.0</td>\n",
       "      <td>0.0</td>\n",
       "      <td>0.0</td>\n",
       "      <td>...</td>\n",
       "      <td>0.0</td>\n",
       "      <td>0.0</td>\n",
       "      <td>0.0</td>\n",
       "      <td>0.0</td>\n",
       "      <td>0.0</td>\n",
       "      <td>0.00</td>\n",
       "      <td>0.0</td>\n",
       "      <td>0.0</td>\n",
       "      <td>0.0</td>\n",
       "      <td>0.0000</td>\n",
       "    </tr>\n",
       "    <tr>\n",
       "      <th>1</th>\n",
       "      <td>0.0</td>\n",
       "      <td>3.00</td>\n",
       "      <td>0.0</td>\n",
       "      <td>0.0</td>\n",
       "      <td>0.0</td>\n",
       "      <td>0.0</td>\n",
       "      <td>0.0</td>\n",
       "      <td>0.0</td>\n",
       "      <td>0.0</td>\n",
       "      <td>3.0</td>\n",
       "      <td>...</td>\n",
       "      <td>0.0</td>\n",
       "      <td>0.0</td>\n",
       "      <td>0.0</td>\n",
       "      <td>0.0</td>\n",
       "      <td>0.0</td>\n",
       "      <td>0.00</td>\n",
       "      <td>0.0</td>\n",
       "      <td>0.0</td>\n",
       "      <td>0.0</td>\n",
       "      <td>0.0000</td>\n",
       "    </tr>\n",
       "    <tr>\n",
       "      <th>2</th>\n",
       "      <td>0.0</td>\n",
       "      <td>5.88</td>\n",
       "      <td>0.0</td>\n",
       "      <td>0.0</td>\n",
       "      <td>0.0</td>\n",
       "      <td>0.0</td>\n",
       "      <td>0.0</td>\n",
       "      <td>0.0</td>\n",
       "      <td>0.0</td>\n",
       "      <td>3.0</td>\n",
       "      <td>...</td>\n",
       "      <td>0.0</td>\n",
       "      <td>0.0</td>\n",
       "      <td>0.0</td>\n",
       "      <td>0.0</td>\n",
       "      <td>0.0</td>\n",
       "      <td>0.00</td>\n",
       "      <td>3.0</td>\n",
       "      <td>0.0</td>\n",
       "      <td>0.0</td>\n",
       "      <td>67772.7216</td>\n",
       "    </tr>\n",
       "    <tr>\n",
       "      <th>3</th>\n",
       "      <td>0.0</td>\n",
       "      <td>14.10</td>\n",
       "      <td>0.0</td>\n",
       "      <td>0.0</td>\n",
       "      <td>0.0</td>\n",
       "      <td>0.0</td>\n",
       "      <td>0.0</td>\n",
       "      <td>0.0</td>\n",
       "      <td>0.0</td>\n",
       "      <td>0.0</td>\n",
       "      <td>...</td>\n",
       "      <td>0.0</td>\n",
       "      <td>0.0</td>\n",
       "      <td>0.0</td>\n",
       "      <td>0.0</td>\n",
       "      <td>0.0</td>\n",
       "      <td>0.00</td>\n",
       "      <td>0.0</td>\n",
       "      <td>0.0</td>\n",
       "      <td>0.0</td>\n",
       "      <td>0.0000</td>\n",
       "    </tr>\n",
       "    <tr>\n",
       "      <th>4</th>\n",
       "      <td>0.0</td>\n",
       "      <td>5.76</td>\n",
       "      <td>0.0</td>\n",
       "      <td>0.0</td>\n",
       "      <td>0.0</td>\n",
       "      <td>0.0</td>\n",
       "      <td>0.0</td>\n",
       "      <td>0.0</td>\n",
       "      <td>0.0</td>\n",
       "      <td>3.0</td>\n",
       "      <td>...</td>\n",
       "      <td>0.0</td>\n",
       "      <td>0.0</td>\n",
       "      <td>0.0</td>\n",
       "      <td>0.0</td>\n",
       "      <td>0.0</td>\n",
       "      <td>0.00</td>\n",
       "      <td>0.0</td>\n",
       "      <td>0.0</td>\n",
       "      <td>0.0</td>\n",
       "      <td>0.0000</td>\n",
       "    </tr>\n",
       "    <tr>\n",
       "      <th>...</th>\n",
       "      <td>...</td>\n",
       "      <td>...</td>\n",
       "      <td>...</td>\n",
       "      <td>...</td>\n",
       "      <td>...</td>\n",
       "      <td>...</td>\n",
       "      <td>...</td>\n",
       "      <td>...</td>\n",
       "      <td>...</td>\n",
       "      <td>...</td>\n",
       "      <td>...</td>\n",
       "      <td>...</td>\n",
       "      <td>...</td>\n",
       "      <td>...</td>\n",
       "      <td>...</td>\n",
       "      <td>...</td>\n",
       "      <td>...</td>\n",
       "      <td>...</td>\n",
       "      <td>...</td>\n",
       "      <td>...</td>\n",
       "      <td>...</td>\n",
       "    </tr>\n",
       "    <tr>\n",
       "      <th>49995</th>\n",
       "      <td>0.0</td>\n",
       "      <td>2.85</td>\n",
       "      <td>0.0</td>\n",
       "      <td>0.0</td>\n",
       "      <td>0.0</td>\n",
       "      <td>0.0</td>\n",
       "      <td>0.0</td>\n",
       "      <td>0.0</td>\n",
       "      <td>0.0</td>\n",
       "      <td>3.0</td>\n",
       "      <td>...</td>\n",
       "      <td>0.0</td>\n",
       "      <td>0.0</td>\n",
       "      <td>0.0</td>\n",
       "      <td>0.0</td>\n",
       "      <td>0.0</td>\n",
       "      <td>0.00</td>\n",
       "      <td>0.0</td>\n",
       "      <td>0.0</td>\n",
       "      <td>0.0</td>\n",
       "      <td>0.0000</td>\n",
       "    </tr>\n",
       "    <tr>\n",
       "      <th>49996</th>\n",
       "      <td>0.0</td>\n",
       "      <td>2.91</td>\n",
       "      <td>0.0</td>\n",
       "      <td>0.0</td>\n",
       "      <td>0.0</td>\n",
       "      <td>0.0</td>\n",
       "      <td>0.0</td>\n",
       "      <td>0.0</td>\n",
       "      <td>0.0</td>\n",
       "      <td>3.0</td>\n",
       "      <td>...</td>\n",
       "      <td>0.0</td>\n",
       "      <td>0.0</td>\n",
       "      <td>0.0</td>\n",
       "      <td>0.0</td>\n",
       "      <td>0.0</td>\n",
       "      <td>0.00</td>\n",
       "      <td>0.0</td>\n",
       "      <td>0.0</td>\n",
       "      <td>0.0</td>\n",
       "      <td>0.0000</td>\n",
       "    </tr>\n",
       "    <tr>\n",
       "      <th>49997</th>\n",
       "      <td>0.0</td>\n",
       "      <td>8.46</td>\n",
       "      <td>0.0</td>\n",
       "      <td>0.0</td>\n",
       "      <td>0.0</td>\n",
       "      <td>0.0</td>\n",
       "      <td>0.0</td>\n",
       "      <td>0.0</td>\n",
       "      <td>0.0</td>\n",
       "      <td>3.0</td>\n",
       "      <td>...</td>\n",
       "      <td>0.0</td>\n",
       "      <td>0.0</td>\n",
       "      <td>0.0</td>\n",
       "      <td>0.0</td>\n",
       "      <td>0.0</td>\n",
       "      <td>0.00</td>\n",
       "      <td>0.0</td>\n",
       "      <td>0.0</td>\n",
       "      <td>0.0</td>\n",
       "      <td>0.0000</td>\n",
       "    </tr>\n",
       "    <tr>\n",
       "      <th>49998</th>\n",
       "      <td>0.0</td>\n",
       "      <td>2.76</td>\n",
       "      <td>0.0</td>\n",
       "      <td>0.0</td>\n",
       "      <td>0.0</td>\n",
       "      <td>0.0</td>\n",
       "      <td>0.0</td>\n",
       "      <td>0.0</td>\n",
       "      <td>0.0</td>\n",
       "      <td>0.0</td>\n",
       "      <td>...</td>\n",
       "      <td>0.0</td>\n",
       "      <td>0.0</td>\n",
       "      <td>0.0</td>\n",
       "      <td>0.0</td>\n",
       "      <td>0.0</td>\n",
       "      <td>0.00</td>\n",
       "      <td>0.0</td>\n",
       "      <td>0.0</td>\n",
       "      <td>0.0</td>\n",
       "      <td>0.0000</td>\n",
       "    </tr>\n",
       "    <tr>\n",
       "      <th>49999</th>\n",
       "      <td>0.0</td>\n",
       "      <td>5.64</td>\n",
       "      <td>0.0</td>\n",
       "      <td>0.0</td>\n",
       "      <td>0.0</td>\n",
       "      <td>0.0</td>\n",
       "      <td>0.0</td>\n",
       "      <td>0.0</td>\n",
       "      <td>0.0</td>\n",
       "      <td>3.0</td>\n",
       "      <td>...</td>\n",
       "      <td>0.0</td>\n",
       "      <td>0.0</td>\n",
       "      <td>0.0</td>\n",
       "      <td>0.0</td>\n",
       "      <td>0.0</td>\n",
       "      <td>2.85</td>\n",
       "      <td>0.0</td>\n",
       "      <td>0.0</td>\n",
       "      <td>0.0</td>\n",
       "      <td>0.0000</td>\n",
       "    </tr>\n",
       "  </tbody>\n",
       "</table>\n",
       "<p>50000 rows × 174 columns</p>\n",
       "</div>"
      ],
      "text/plain": [
       "       var_3  var_4  var_5  var_6  var_8  var_11  var_12  var_13  var_14  \\\n",
       "0        0.0   0.00    0.0    0.0    0.0     0.0     0.0     0.0     0.0   \n",
       "1        0.0   3.00    0.0    0.0    0.0     0.0     0.0     0.0     0.0   \n",
       "2        0.0   5.88    0.0    0.0    0.0     0.0     0.0     0.0     0.0   \n",
       "3        0.0  14.10    0.0    0.0    0.0     0.0     0.0     0.0     0.0   \n",
       "4        0.0   5.76    0.0    0.0    0.0     0.0     0.0     0.0     0.0   \n",
       "...      ...    ...    ...    ...    ...     ...     ...     ...     ...   \n",
       "49995    0.0   2.85    0.0    0.0    0.0     0.0     0.0     0.0     0.0   \n",
       "49996    0.0   2.91    0.0    0.0    0.0     0.0     0.0     0.0     0.0   \n",
       "49997    0.0   8.46    0.0    0.0    0.0     0.0     0.0     0.0     0.0   \n",
       "49998    0.0   2.76    0.0    0.0    0.0     0.0     0.0     0.0     0.0   \n",
       "49999    0.0   5.64    0.0    0.0    0.0     0.0     0.0     0.0     0.0   \n",
       "\n",
       "       var_15  ...  var_280  var_283  var_286  var_288  var_290  var_292  \\\n",
       "0         0.0  ...      0.0      0.0      0.0      0.0      0.0     0.00   \n",
       "1         3.0  ...      0.0      0.0      0.0      0.0      0.0     0.00   \n",
       "2         3.0  ...      0.0      0.0      0.0      0.0      0.0     0.00   \n",
       "3         0.0  ...      0.0      0.0      0.0      0.0      0.0     0.00   \n",
       "4         3.0  ...      0.0      0.0      0.0      0.0      0.0     0.00   \n",
       "...       ...  ...      ...      ...      ...      ...      ...      ...   \n",
       "49995     3.0  ...      0.0      0.0      0.0      0.0      0.0     0.00   \n",
       "49996     3.0  ...      0.0      0.0      0.0      0.0      0.0     0.00   \n",
       "49997     3.0  ...      0.0      0.0      0.0      0.0      0.0     0.00   \n",
       "49998     0.0  ...      0.0      0.0      0.0      0.0      0.0     0.00   \n",
       "49999     3.0  ...      0.0      0.0      0.0      0.0      0.0     2.85   \n",
       "\n",
       "       var_295  var_296  var_299     var_300  \n",
       "0          0.0      0.0      0.0      0.0000  \n",
       "1          0.0      0.0      0.0      0.0000  \n",
       "2          3.0      0.0      0.0  67772.7216  \n",
       "3          0.0      0.0      0.0      0.0000  \n",
       "4          0.0      0.0      0.0      0.0000  \n",
       "...        ...      ...      ...         ...  \n",
       "49995      0.0      0.0      0.0      0.0000  \n",
       "49996      0.0      0.0      0.0      0.0000  \n",
       "49997      0.0      0.0      0.0      0.0000  \n",
       "49998      0.0      0.0      0.0      0.0000  \n",
       "49999      0.0      0.0      0.0      0.0000  \n",
       "\n",
       "[50000 rows x 174 columns]"
      ]
     },
     "execution_count": 44,
     "metadata": {},
     "output_type": "execute_result"
    }
   ],
   "source": [
    "df_inde"
   ]
  },
  {
   "cell_type": "code",
   "execution_count": 45,
   "id": "aabb1a8e",
   "metadata": {},
   "outputs": [],
   "source": [
    "df_inde['target'] = df ['target']"
   ]
  },
  {
   "cell_type": "code",
   "execution_count": 46,
   "id": "8f6998f8",
   "metadata": {},
   "outputs": [
    {
     "data": {
      "text/plain": [
       "(50000, 175)"
      ]
     },
     "execution_count": 46,
     "metadata": {},
     "output_type": "execute_result"
    }
   ],
   "source": [
    "df_inde.shape"
   ]
  },
  {
   "cell_type": "code",
   "execution_count": 47,
   "id": "b184faec",
   "metadata": {},
   "outputs": [
    {
     "data": {
      "text/html": [
       "<div>\n",
       "<style scoped>\n",
       "    .dataframe tbody tr th:only-of-type {\n",
       "        vertical-align: middle;\n",
       "    }\n",
       "\n",
       "    .dataframe tbody tr th {\n",
       "        vertical-align: top;\n",
       "    }\n",
       "\n",
       "    .dataframe thead th {\n",
       "        text-align: right;\n",
       "    }\n",
       "</style>\n",
       "<table border=\"1\" class=\"dataframe\">\n",
       "  <thead>\n",
       "    <tr style=\"text-align: right;\">\n",
       "      <th></th>\n",
       "      <th>var_3</th>\n",
       "      <th>var_4</th>\n",
       "      <th>var_5</th>\n",
       "      <th>var_6</th>\n",
       "      <th>var_8</th>\n",
       "      <th>var_11</th>\n",
       "      <th>var_12</th>\n",
       "      <th>var_13</th>\n",
       "      <th>var_14</th>\n",
       "      <th>var_15</th>\n",
       "      <th>...</th>\n",
       "      <th>var_283</th>\n",
       "      <th>var_286</th>\n",
       "      <th>var_288</th>\n",
       "      <th>var_290</th>\n",
       "      <th>var_292</th>\n",
       "      <th>var_295</th>\n",
       "      <th>var_296</th>\n",
       "      <th>var_299</th>\n",
       "      <th>var_300</th>\n",
       "      <th>target</th>\n",
       "    </tr>\n",
       "  </thead>\n",
       "  <tbody>\n",
       "    <tr>\n",
       "      <th>0</th>\n",
       "      <td>0.0</td>\n",
       "      <td>0.00</td>\n",
       "      <td>0.0</td>\n",
       "      <td>0.0</td>\n",
       "      <td>0.0</td>\n",
       "      <td>0.0</td>\n",
       "      <td>0.0</td>\n",
       "      <td>0.0</td>\n",
       "      <td>0.0</td>\n",
       "      <td>0.0</td>\n",
       "      <td>...</td>\n",
       "      <td>0.0</td>\n",
       "      <td>0.0</td>\n",
       "      <td>0.0</td>\n",
       "      <td>0.0</td>\n",
       "      <td>0.0</td>\n",
       "      <td>0.0</td>\n",
       "      <td>0.0</td>\n",
       "      <td>0.0</td>\n",
       "      <td>0.0000</td>\n",
       "      <td>0</td>\n",
       "    </tr>\n",
       "    <tr>\n",
       "      <th>1</th>\n",
       "      <td>0.0</td>\n",
       "      <td>3.00</td>\n",
       "      <td>0.0</td>\n",
       "      <td>0.0</td>\n",
       "      <td>0.0</td>\n",
       "      <td>0.0</td>\n",
       "      <td>0.0</td>\n",
       "      <td>0.0</td>\n",
       "      <td>0.0</td>\n",
       "      <td>3.0</td>\n",
       "      <td>...</td>\n",
       "      <td>0.0</td>\n",
       "      <td>0.0</td>\n",
       "      <td>0.0</td>\n",
       "      <td>0.0</td>\n",
       "      <td>0.0</td>\n",
       "      <td>0.0</td>\n",
       "      <td>0.0</td>\n",
       "      <td>0.0</td>\n",
       "      <td>0.0000</td>\n",
       "      <td>0</td>\n",
       "    </tr>\n",
       "    <tr>\n",
       "      <th>2</th>\n",
       "      <td>0.0</td>\n",
       "      <td>5.88</td>\n",
       "      <td>0.0</td>\n",
       "      <td>0.0</td>\n",
       "      <td>0.0</td>\n",
       "      <td>0.0</td>\n",
       "      <td>0.0</td>\n",
       "      <td>0.0</td>\n",
       "      <td>0.0</td>\n",
       "      <td>3.0</td>\n",
       "      <td>...</td>\n",
       "      <td>0.0</td>\n",
       "      <td>0.0</td>\n",
       "      <td>0.0</td>\n",
       "      <td>0.0</td>\n",
       "      <td>0.0</td>\n",
       "      <td>3.0</td>\n",
       "      <td>0.0</td>\n",
       "      <td>0.0</td>\n",
       "      <td>67772.7216</td>\n",
       "      <td>0</td>\n",
       "    </tr>\n",
       "    <tr>\n",
       "      <th>3</th>\n",
       "      <td>0.0</td>\n",
       "      <td>14.10</td>\n",
       "      <td>0.0</td>\n",
       "      <td>0.0</td>\n",
       "      <td>0.0</td>\n",
       "      <td>0.0</td>\n",
       "      <td>0.0</td>\n",
       "      <td>0.0</td>\n",
       "      <td>0.0</td>\n",
       "      <td>0.0</td>\n",
       "      <td>...</td>\n",
       "      <td>0.0</td>\n",
       "      <td>0.0</td>\n",
       "      <td>0.0</td>\n",
       "      <td>0.0</td>\n",
       "      <td>0.0</td>\n",
       "      <td>0.0</td>\n",
       "      <td>0.0</td>\n",
       "      <td>0.0</td>\n",
       "      <td>0.0000</td>\n",
       "      <td>0</td>\n",
       "    </tr>\n",
       "    <tr>\n",
       "      <th>4</th>\n",
       "      <td>0.0</td>\n",
       "      <td>5.76</td>\n",
       "      <td>0.0</td>\n",
       "      <td>0.0</td>\n",
       "      <td>0.0</td>\n",
       "      <td>0.0</td>\n",
       "      <td>0.0</td>\n",
       "      <td>0.0</td>\n",
       "      <td>0.0</td>\n",
       "      <td>3.0</td>\n",
       "      <td>...</td>\n",
       "      <td>0.0</td>\n",
       "      <td>0.0</td>\n",
       "      <td>0.0</td>\n",
       "      <td>0.0</td>\n",
       "      <td>0.0</td>\n",
       "      <td>0.0</td>\n",
       "      <td>0.0</td>\n",
       "      <td>0.0</td>\n",
       "      <td>0.0000</td>\n",
       "      <td>0</td>\n",
       "    </tr>\n",
       "  </tbody>\n",
       "</table>\n",
       "<p>5 rows × 175 columns</p>\n",
       "</div>"
      ],
      "text/plain": [
       "   var_3  var_4  var_5  var_6  var_8  var_11  var_12  var_13  var_14  var_15  \\\n",
       "0    0.0   0.00    0.0    0.0    0.0     0.0     0.0     0.0     0.0     0.0   \n",
       "1    0.0   3.00    0.0    0.0    0.0     0.0     0.0     0.0     0.0     3.0   \n",
       "2    0.0   5.88    0.0    0.0    0.0     0.0     0.0     0.0     0.0     3.0   \n",
       "3    0.0  14.10    0.0    0.0    0.0     0.0     0.0     0.0     0.0     0.0   \n",
       "4    0.0   5.76    0.0    0.0    0.0     0.0     0.0     0.0     0.0     3.0   \n",
       "\n",
       "   ...  var_283  var_286  var_288  var_290  var_292  var_295  var_296  \\\n",
       "0  ...      0.0      0.0      0.0      0.0      0.0      0.0      0.0   \n",
       "1  ...      0.0      0.0      0.0      0.0      0.0      0.0      0.0   \n",
       "2  ...      0.0      0.0      0.0      0.0      0.0      3.0      0.0   \n",
       "3  ...      0.0      0.0      0.0      0.0      0.0      0.0      0.0   \n",
       "4  ...      0.0      0.0      0.0      0.0      0.0      0.0      0.0   \n",
       "\n",
       "   var_299     var_300  target  \n",
       "0      0.0      0.0000       0  \n",
       "1      0.0      0.0000       0  \n",
       "2      0.0  67772.7216       0  \n",
       "3      0.0      0.0000       0  \n",
       "4      0.0      0.0000       0  \n",
       "\n",
       "[5 rows x 175 columns]"
      ]
     },
     "execution_count": 47,
     "metadata": {},
     "output_type": "execute_result"
    }
   ],
   "source": [
    "df_inde.head()"
   ]
  },
  {
   "cell_type": "markdown",
   "id": "7d3f0eb1",
   "metadata": {},
   "source": [
    "## duplicate removals"
   ]
  },
  {
   "cell_type": "markdown",
   "id": "3bbbb8e4",
   "metadata": {},
   "source": [
    "-- feature - engine framework"
   ]
  },
  {
   "cell_type": "raw",
   "id": "97ad91de",
   "metadata": {},
   "source": [
    "- command>> conda install -c conda- forge feature_engine"
   ]
  },
  {
   "cell_type": "code",
   "execution_count": 48,
   "id": "79b88361",
   "metadata": {},
   "outputs": [
    {
     "name": "stdout",
     "output_type": "stream",
     "text": [
      "Requirement already satisfied: feature-engine in c:\\users\\ranji\\anaconda3\\lib\\site-packages (1.5.2)\n",
      "Requirement already satisfied: scikit-learn>=1.0.0 in c:\\users\\ranji\\anaconda3\\lib\\site-packages (from feature-engine) (1.0.2)\n",
      "Requirement already satisfied: numpy>=1.18.2 in c:\\users\\ranji\\anaconda3\\lib\\site-packages (from feature-engine) (1.21.5)\n",
      "Requirement already satisfied: pandas>=1.0.3 in c:\\users\\ranji\\anaconda3\\lib\\site-packages (from feature-engine) (1.4.2)\n",
      "Requirement already satisfied: scipy>=1.4.1 in c:\\users\\ranji\\anaconda3\\lib\\site-packages (from feature-engine) (1.7.3)\n",
      "Requirement already satisfied: statsmodels>=0.11.1 in c:\\users\\ranji\\anaconda3\\lib\\site-packages (from feature-engine) (0.13.2)\n",
      "Requirement already satisfied: python-dateutil>=2.8.1 in c:\\users\\ranji\\anaconda3\\lib\\site-packages (from pandas>=1.0.3->feature-engine) (2.8.2)\n",
      "Requirement already satisfied: pytz>=2020.1 in c:\\users\\ranji\\anaconda3\\lib\\site-packages (from pandas>=1.0.3->feature-engine) (2021.3)\n",
      "Requirement already satisfied: six>=1.5 in c:\\users\\ranji\\anaconda3\\lib\\site-packages (from python-dateutil>=2.8.1->pandas>=1.0.3->feature-engine) (1.16.0)\n",
      "Requirement already satisfied: threadpoolctl>=2.0.0 in c:\\users\\ranji\\anaconda3\\lib\\site-packages (from scikit-learn>=1.0.0->feature-engine) (2.2.0)\n",
      "Requirement already satisfied: joblib>=0.11 in c:\\users\\ranji\\anaconda3\\lib\\site-packages (from scikit-learn>=1.0.0->feature-engine) (1.1.0)\n",
      "Requirement already satisfied: patsy>=0.5.2 in c:\\users\\ranji\\anaconda3\\lib\\site-packages (from statsmodels>=0.11.1->feature-engine) (0.5.2)\n",
      "Requirement already satisfied: packaging>=21.3 in c:\\users\\ranji\\anaconda3\\lib\\site-packages (from statsmodels>=0.11.1->feature-engine) (21.3)\n",
      "Requirement already satisfied: pyparsing!=3.0.5,>=2.0.2 in c:\\users\\ranji\\anaconda3\\lib\\site-packages (from packaging>=21.3->statsmodels>=0.11.1->feature-engine) (3.0.4)\n"
     ]
    }
   ],
   "source": [
    "!pip install feature-engine"
   ]
  },
  {
   "cell_type": "code",
   "execution_count": 49,
   "id": "0c9f915d",
   "metadata": {},
   "outputs": [],
   "source": [
    "import feature_engine"
   ]
  },
  {
   "cell_type": "code",
   "execution_count": 50,
   "id": "7943207e",
   "metadata": {},
   "outputs": [],
   "source": [
    "from feature_engine.selection import DropDuplicateFeatures"
   ]
  },
  {
   "cell_type": "code",
   "execution_count": 51,
   "id": "9f007ce0",
   "metadata": {},
   "outputs": [],
   "source": [
    "reg = DropDuplicateFeatures()"
   ]
  },
  {
   "cell_type": "code",
   "execution_count": 52,
   "id": "afd781c2",
   "metadata": {},
   "outputs": [
    {
     "data": {
      "text/plain": [
       "DropDuplicateFeatures()"
      ]
     },
     "execution_count": 52,
     "metadata": {},
     "output_type": "execute_result"
    }
   ],
   "source": [
    "reg.fit(df_inde)"
   ]
  },
  {
   "cell_type": "code",
   "execution_count": 53,
   "id": "add413dd",
   "metadata": {},
   "outputs": [
    {
     "data": {
      "text/plain": [
       "{'var_148', 'var_151', 'var_183', 'var_216', 'var_239', 'var_263', 'var_296'}"
      ]
     },
     "execution_count": 53,
     "metadata": {},
     "output_type": "execute_result"
    }
   ],
   "source": [
    "reg.features_to_drop_"
   ]
  },
  {
   "cell_type": "code",
   "execution_count": 54,
   "id": "44b46bf0",
   "metadata": {},
   "outputs": [
    {
     "data": {
      "text/plain": [
       "0        True\n",
       "1        True\n",
       "2        True\n",
       "3        True\n",
       "4        True\n",
       "         ... \n",
       "49995    True\n",
       "49996    True\n",
       "49997    True\n",
       "49998    True\n",
       "49999    True\n",
       "Name: var_148, Length: 50000, dtype: bool"
      ]
     },
     "execution_count": 54,
     "metadata": {},
     "output_type": "execute_result"
    }
   ],
   "source": [
    "df_inde['var_148'] == df_inde['var_148']"
   ]
  },
  {
   "cell_type": "code",
   "execution_count": 55,
   "id": "653701ff",
   "metadata": {},
   "outputs": [],
   "source": [
    "df_inde = reg.transform(df_inde)"
   ]
  },
  {
   "cell_type": "code",
   "execution_count": 56,
   "id": "006f8b52",
   "metadata": {},
   "outputs": [
    {
     "data": {
      "text/html": [
       "<div>\n",
       "<style scoped>\n",
       "    .dataframe tbody tr th:only-of-type {\n",
       "        vertical-align: middle;\n",
       "    }\n",
       "\n",
       "    .dataframe tbody tr th {\n",
       "        vertical-align: top;\n",
       "    }\n",
       "\n",
       "    .dataframe thead th {\n",
       "        text-align: right;\n",
       "    }\n",
       "</style>\n",
       "<table border=\"1\" class=\"dataframe\">\n",
       "  <thead>\n",
       "    <tr style=\"text-align: right;\">\n",
       "      <th></th>\n",
       "      <th>var_3</th>\n",
       "      <th>var_4</th>\n",
       "      <th>var_5</th>\n",
       "      <th>var_6</th>\n",
       "      <th>var_8</th>\n",
       "      <th>var_11</th>\n",
       "      <th>var_12</th>\n",
       "      <th>var_13</th>\n",
       "      <th>var_14</th>\n",
       "      <th>var_15</th>\n",
       "      <th>...</th>\n",
       "      <th>var_280</th>\n",
       "      <th>var_283</th>\n",
       "      <th>var_286</th>\n",
       "      <th>var_288</th>\n",
       "      <th>var_290</th>\n",
       "      <th>var_292</th>\n",
       "      <th>var_295</th>\n",
       "      <th>var_299</th>\n",
       "      <th>var_300</th>\n",
       "      <th>target</th>\n",
       "    </tr>\n",
       "  </thead>\n",
       "  <tbody>\n",
       "    <tr>\n",
       "      <th>0</th>\n",
       "      <td>0.0</td>\n",
       "      <td>0.00</td>\n",
       "      <td>0.0</td>\n",
       "      <td>0.0</td>\n",
       "      <td>0.0</td>\n",
       "      <td>0.0</td>\n",
       "      <td>0.0</td>\n",
       "      <td>0.0</td>\n",
       "      <td>0.0</td>\n",
       "      <td>0.0</td>\n",
       "      <td>...</td>\n",
       "      <td>0.0</td>\n",
       "      <td>0.0</td>\n",
       "      <td>0.0</td>\n",
       "      <td>0.0</td>\n",
       "      <td>0.0</td>\n",
       "      <td>0.0</td>\n",
       "      <td>0.0</td>\n",
       "      <td>0.0</td>\n",
       "      <td>0.0000</td>\n",
       "      <td>0</td>\n",
       "    </tr>\n",
       "    <tr>\n",
       "      <th>1</th>\n",
       "      <td>0.0</td>\n",
       "      <td>3.00</td>\n",
       "      <td>0.0</td>\n",
       "      <td>0.0</td>\n",
       "      <td>0.0</td>\n",
       "      <td>0.0</td>\n",
       "      <td>0.0</td>\n",
       "      <td>0.0</td>\n",
       "      <td>0.0</td>\n",
       "      <td>3.0</td>\n",
       "      <td>...</td>\n",
       "      <td>0.0</td>\n",
       "      <td>0.0</td>\n",
       "      <td>0.0</td>\n",
       "      <td>0.0</td>\n",
       "      <td>0.0</td>\n",
       "      <td>0.0</td>\n",
       "      <td>0.0</td>\n",
       "      <td>0.0</td>\n",
       "      <td>0.0000</td>\n",
       "      <td>0</td>\n",
       "    </tr>\n",
       "    <tr>\n",
       "      <th>2</th>\n",
       "      <td>0.0</td>\n",
       "      <td>5.88</td>\n",
       "      <td>0.0</td>\n",
       "      <td>0.0</td>\n",
       "      <td>0.0</td>\n",
       "      <td>0.0</td>\n",
       "      <td>0.0</td>\n",
       "      <td>0.0</td>\n",
       "      <td>0.0</td>\n",
       "      <td>3.0</td>\n",
       "      <td>...</td>\n",
       "      <td>0.0</td>\n",
       "      <td>0.0</td>\n",
       "      <td>0.0</td>\n",
       "      <td>0.0</td>\n",
       "      <td>0.0</td>\n",
       "      <td>0.0</td>\n",
       "      <td>3.0</td>\n",
       "      <td>0.0</td>\n",
       "      <td>67772.7216</td>\n",
       "      <td>0</td>\n",
       "    </tr>\n",
       "    <tr>\n",
       "      <th>3</th>\n",
       "      <td>0.0</td>\n",
       "      <td>14.10</td>\n",
       "      <td>0.0</td>\n",
       "      <td>0.0</td>\n",
       "      <td>0.0</td>\n",
       "      <td>0.0</td>\n",
       "      <td>0.0</td>\n",
       "      <td>0.0</td>\n",
       "      <td>0.0</td>\n",
       "      <td>0.0</td>\n",
       "      <td>...</td>\n",
       "      <td>0.0</td>\n",
       "      <td>0.0</td>\n",
       "      <td>0.0</td>\n",
       "      <td>0.0</td>\n",
       "      <td>0.0</td>\n",
       "      <td>0.0</td>\n",
       "      <td>0.0</td>\n",
       "      <td>0.0</td>\n",
       "      <td>0.0000</td>\n",
       "      <td>0</td>\n",
       "    </tr>\n",
       "    <tr>\n",
       "      <th>4</th>\n",
       "      <td>0.0</td>\n",
       "      <td>5.76</td>\n",
       "      <td>0.0</td>\n",
       "      <td>0.0</td>\n",
       "      <td>0.0</td>\n",
       "      <td>0.0</td>\n",
       "      <td>0.0</td>\n",
       "      <td>0.0</td>\n",
       "      <td>0.0</td>\n",
       "      <td>3.0</td>\n",
       "      <td>...</td>\n",
       "      <td>0.0</td>\n",
       "      <td>0.0</td>\n",
       "      <td>0.0</td>\n",
       "      <td>0.0</td>\n",
       "      <td>0.0</td>\n",
       "      <td>0.0</td>\n",
       "      <td>0.0</td>\n",
       "      <td>0.0</td>\n",
       "      <td>0.0000</td>\n",
       "      <td>0</td>\n",
       "    </tr>\n",
       "    <tr>\n",
       "      <th>5</th>\n",
       "      <td>0.0</td>\n",
       "      <td>8.46</td>\n",
       "      <td>0.0</td>\n",
       "      <td>0.0</td>\n",
       "      <td>0.0</td>\n",
       "      <td>0.0</td>\n",
       "      <td>0.0</td>\n",
       "      <td>0.0</td>\n",
       "      <td>0.0</td>\n",
       "      <td>3.0</td>\n",
       "      <td>...</td>\n",
       "      <td>0.0</td>\n",
       "      <td>0.0</td>\n",
       "      <td>0.0</td>\n",
       "      <td>0.0</td>\n",
       "      <td>0.0</td>\n",
       "      <td>0.0</td>\n",
       "      <td>0.0</td>\n",
       "      <td>0.0</td>\n",
       "      <td>0.0000</td>\n",
       "      <td>0</td>\n",
       "    </tr>\n",
       "    <tr>\n",
       "      <th>6</th>\n",
       "      <td>0.0</td>\n",
       "      <td>8.82</td>\n",
       "      <td>0.0</td>\n",
       "      <td>0.0</td>\n",
       "      <td>0.0</td>\n",
       "      <td>0.0</td>\n",
       "      <td>0.0</td>\n",
       "      <td>0.0</td>\n",
       "      <td>0.0</td>\n",
       "      <td>3.0</td>\n",
       "      <td>...</td>\n",
       "      <td>0.0</td>\n",
       "      <td>0.0</td>\n",
       "      <td>0.0</td>\n",
       "      <td>0.0</td>\n",
       "      <td>0.0</td>\n",
       "      <td>0.0</td>\n",
       "      <td>0.0</td>\n",
       "      <td>0.0</td>\n",
       "      <td>0.0000</td>\n",
       "      <td>0</td>\n",
       "    </tr>\n",
       "    <tr>\n",
       "      <th>7</th>\n",
       "      <td>0.0</td>\n",
       "      <td>5.94</td>\n",
       "      <td>0.0</td>\n",
       "      <td>0.0</td>\n",
       "      <td>0.0</td>\n",
       "      <td>0.0</td>\n",
       "      <td>0.0</td>\n",
       "      <td>0.0</td>\n",
       "      <td>0.0</td>\n",
       "      <td>3.0</td>\n",
       "      <td>...</td>\n",
       "      <td>0.0</td>\n",
       "      <td>0.0</td>\n",
       "      <td>0.0</td>\n",
       "      <td>0.0</td>\n",
       "      <td>0.0</td>\n",
       "      <td>0.0</td>\n",
       "      <td>0.0</td>\n",
       "      <td>0.0</td>\n",
       "      <td>0.0000</td>\n",
       "      <td>0</td>\n",
       "    </tr>\n",
       "    <tr>\n",
       "      <th>8</th>\n",
       "      <td>0.0</td>\n",
       "      <td>2.97</td>\n",
       "      <td>0.0</td>\n",
       "      <td>0.0</td>\n",
       "      <td>0.0</td>\n",
       "      <td>0.0</td>\n",
       "      <td>0.0</td>\n",
       "      <td>0.0</td>\n",
       "      <td>0.0</td>\n",
       "      <td>0.0</td>\n",
       "      <td>...</td>\n",
       "      <td>0.0</td>\n",
       "      <td>0.0</td>\n",
       "      <td>0.0</td>\n",
       "      <td>0.0</td>\n",
       "      <td>0.0</td>\n",
       "      <td>0.0</td>\n",
       "      <td>0.0</td>\n",
       "      <td>0.0</td>\n",
       "      <td>0.0000</td>\n",
       "      <td>1</td>\n",
       "    </tr>\n",
       "    <tr>\n",
       "      <th>9</th>\n",
       "      <td>0.0</td>\n",
       "      <td>0.00</td>\n",
       "      <td>0.0</td>\n",
       "      <td>0.0</td>\n",
       "      <td>0.0</td>\n",
       "      <td>0.0</td>\n",
       "      <td>0.0</td>\n",
       "      <td>0.0</td>\n",
       "      <td>0.0</td>\n",
       "      <td>0.0</td>\n",
       "      <td>...</td>\n",
       "      <td>0.0</td>\n",
       "      <td>0.0</td>\n",
       "      <td>0.0</td>\n",
       "      <td>0.0</td>\n",
       "      <td>0.0</td>\n",
       "      <td>0.0</td>\n",
       "      <td>0.0</td>\n",
       "      <td>0.0</td>\n",
       "      <td>0.0000</td>\n",
       "      <td>0</td>\n",
       "    </tr>\n",
       "  </tbody>\n",
       "</table>\n",
       "<p>10 rows × 168 columns</p>\n",
       "</div>"
      ],
      "text/plain": [
       "   var_3  var_4  var_5  var_6  var_8  var_11  var_12  var_13  var_14  var_15  \\\n",
       "0    0.0   0.00    0.0    0.0    0.0     0.0     0.0     0.0     0.0     0.0   \n",
       "1    0.0   3.00    0.0    0.0    0.0     0.0     0.0     0.0     0.0     3.0   \n",
       "2    0.0   5.88    0.0    0.0    0.0     0.0     0.0     0.0     0.0     3.0   \n",
       "3    0.0  14.10    0.0    0.0    0.0     0.0     0.0     0.0     0.0     0.0   \n",
       "4    0.0   5.76    0.0    0.0    0.0     0.0     0.0     0.0     0.0     3.0   \n",
       "5    0.0   8.46    0.0    0.0    0.0     0.0     0.0     0.0     0.0     3.0   \n",
       "6    0.0   8.82    0.0    0.0    0.0     0.0     0.0     0.0     0.0     3.0   \n",
       "7    0.0   5.94    0.0    0.0    0.0     0.0     0.0     0.0     0.0     3.0   \n",
       "8    0.0   2.97    0.0    0.0    0.0     0.0     0.0     0.0     0.0     0.0   \n",
       "9    0.0   0.00    0.0    0.0    0.0     0.0     0.0     0.0     0.0     0.0   \n",
       "\n",
       "   ...  var_280  var_283  var_286  var_288  var_290  var_292  var_295  \\\n",
       "0  ...      0.0      0.0      0.0      0.0      0.0      0.0      0.0   \n",
       "1  ...      0.0      0.0      0.0      0.0      0.0      0.0      0.0   \n",
       "2  ...      0.0      0.0      0.0      0.0      0.0      0.0      3.0   \n",
       "3  ...      0.0      0.0      0.0      0.0      0.0      0.0      0.0   \n",
       "4  ...      0.0      0.0      0.0      0.0      0.0      0.0      0.0   \n",
       "5  ...      0.0      0.0      0.0      0.0      0.0      0.0      0.0   \n",
       "6  ...      0.0      0.0      0.0      0.0      0.0      0.0      0.0   \n",
       "7  ...      0.0      0.0      0.0      0.0      0.0      0.0      0.0   \n",
       "8  ...      0.0      0.0      0.0      0.0      0.0      0.0      0.0   \n",
       "9  ...      0.0      0.0      0.0      0.0      0.0      0.0      0.0   \n",
       "\n",
       "   var_299     var_300  target  \n",
       "0      0.0      0.0000       0  \n",
       "1      0.0      0.0000       0  \n",
       "2      0.0  67772.7216       0  \n",
       "3      0.0      0.0000       0  \n",
       "4      0.0      0.0000       0  \n",
       "5      0.0      0.0000       0  \n",
       "6      0.0      0.0000       0  \n",
       "7      0.0      0.0000       0  \n",
       "8      0.0      0.0000       1  \n",
       "9      0.0      0.0000       0  \n",
       "\n",
       "[10 rows x 168 columns]"
      ]
     },
     "execution_count": 56,
     "metadata": {},
     "output_type": "execute_result"
    }
   ],
   "source": [
    "df_inde.head(10)"
   ]
  },
  {
   "cell_type": "markdown",
   "id": "e5cd5484",
   "metadata": {},
   "source": [
    "300 --> 267 --> 174 --.167"
   ]
  },
  {
   "cell_type": "code",
   "execution_count": 57,
   "id": "01836777",
   "metadata": {
    "scrolled": true
   },
   "outputs": [],
   "source": [
    "from feature_engine.selection import DropCorrelatedFeatures"
   ]
  },
  {
   "cell_type": "code",
   "execution_count": 58,
   "id": "da2eb923",
   "metadata": {},
   "outputs": [],
   "source": [
    "reg = DropCorrelatedFeatures(threshold=0.85, method='pearson')"
   ]
  },
  {
   "cell_type": "code",
   "execution_count": 59,
   "id": "b0f95e57",
   "metadata": {},
   "outputs": [
    {
     "data": {
      "text/plain": [
       "DropCorrelatedFeatures(threshold=0.85)"
      ]
     },
     "execution_count": 59,
     "metadata": {},
     "output_type": "execute_result"
    }
   ],
   "source": [
    "reg.fit(df_inde)"
   ]
  },
  {
   "cell_type": "code",
   "execution_count": 60,
   "id": "6402bb5c",
   "metadata": {},
   "outputs": [
    {
     "data": {
      "text/plain": [
       "{'var_100',\n",
       " 'var_101',\n",
       " 'var_105',\n",
       " 'var_107',\n",
       " 'var_125',\n",
       " 'var_129',\n",
       " 'var_130',\n",
       " 'var_132',\n",
       " 'var_139',\n",
       " 'var_14',\n",
       " 'var_140',\n",
       " 'var_143',\n",
       " 'var_145',\n",
       " 'var_153',\n",
       " 'var_155',\n",
       " 'var_161',\n",
       " 'var_163',\n",
       " 'var_165',\n",
       " 'var_166',\n",
       " 'var_172',\n",
       " 'var_175',\n",
       " 'var_176',\n",
       " 'var_179',\n",
       " 'var_186',\n",
       " 'var_190',\n",
       " 'var_191',\n",
       " 'var_192',\n",
       " 'var_203',\n",
       " 'var_207',\n",
       " 'var_210',\n",
       " 'var_213',\n",
       " 'var_214',\n",
       " 'var_217',\n",
       " 'var_222',\n",
       " 'var_230',\n",
       " 'var_237',\n",
       " 'var_244',\n",
       " 'var_253',\n",
       " 'var_254',\n",
       " 'var_255',\n",
       " 'var_257',\n",
       " 'var_259',\n",
       " 'var_261',\n",
       " 'var_262',\n",
       " 'var_272',\n",
       " 'var_277',\n",
       " 'var_279',\n",
       " 'var_280',\n",
       " 'var_283',\n",
       " 'var_286',\n",
       " 'var_290',\n",
       " 'var_295',\n",
       " 'var_299',\n",
       " 'var_300',\n",
       " 'var_40',\n",
       " 'var_62',\n",
       " 'var_64',\n",
       " 'var_73',\n",
       " 'var_86'}"
      ]
     },
     "execution_count": 60,
     "metadata": {},
     "output_type": "execute_result"
    }
   ],
   "source": [
    "reg.features_to_drop_"
   ]
  },
  {
   "cell_type": "code",
   "execution_count": 61,
   "id": "ce64c896",
   "metadata": {},
   "outputs": [],
   "source": [
    "df_inde = reg.transform(df_inde)"
   ]
  },
  {
   "cell_type": "code",
   "execution_count": 62,
   "id": "3baa3cb3",
   "metadata": {},
   "outputs": [
    {
     "data": {
      "text/html": [
       "<div>\n",
       "<style scoped>\n",
       "    .dataframe tbody tr th:only-of-type {\n",
       "        vertical-align: middle;\n",
       "    }\n",
       "\n",
       "    .dataframe tbody tr th {\n",
       "        vertical-align: top;\n",
       "    }\n",
       "\n",
       "    .dataframe thead th {\n",
       "        text-align: right;\n",
       "    }\n",
       "</style>\n",
       "<table border=\"1\" class=\"dataframe\">\n",
       "  <thead>\n",
       "    <tr style=\"text-align: right;\">\n",
       "      <th></th>\n",
       "      <th>var_3</th>\n",
       "      <th>var_4</th>\n",
       "      <th>var_5</th>\n",
       "      <th>var_6</th>\n",
       "      <th>var_8</th>\n",
       "      <th>var_11</th>\n",
       "      <th>var_12</th>\n",
       "      <th>var_13</th>\n",
       "      <th>var_15</th>\n",
       "      <th>var_16</th>\n",
       "      <th>...</th>\n",
       "      <th>var_258</th>\n",
       "      <th>var_264</th>\n",
       "      <th>var_265</th>\n",
       "      <th>var_266</th>\n",
       "      <th>var_268</th>\n",
       "      <th>var_271</th>\n",
       "      <th>var_276</th>\n",
       "      <th>var_288</th>\n",
       "      <th>var_292</th>\n",
       "      <th>target</th>\n",
       "    </tr>\n",
       "  </thead>\n",
       "  <tbody>\n",
       "    <tr>\n",
       "      <th>0</th>\n",
       "      <td>0.0</td>\n",
       "      <td>0.00</td>\n",
       "      <td>0.0</td>\n",
       "      <td>0.0</td>\n",
       "      <td>0.0</td>\n",
       "      <td>0.0</td>\n",
       "      <td>0.0</td>\n",
       "      <td>0.0</td>\n",
       "      <td>0.0</td>\n",
       "      <td>0.0</td>\n",
       "      <td>...</td>\n",
       "      <td>0.0</td>\n",
       "      <td>0.0</td>\n",
       "      <td>0.0</td>\n",
       "      <td>0.0000</td>\n",
       "      <td>0.0000</td>\n",
       "      <td>0.0</td>\n",
       "      <td>0.0</td>\n",
       "      <td>0.0</td>\n",
       "      <td>0.0</td>\n",
       "      <td>0</td>\n",
       "    </tr>\n",
       "    <tr>\n",
       "      <th>1</th>\n",
       "      <td>0.0</td>\n",
       "      <td>3.00</td>\n",
       "      <td>0.0</td>\n",
       "      <td>0.0</td>\n",
       "      <td>0.0</td>\n",
       "      <td>0.0</td>\n",
       "      <td>0.0</td>\n",
       "      <td>0.0</td>\n",
       "      <td>3.0</td>\n",
       "      <td>0.0</td>\n",
       "      <td>...</td>\n",
       "      <td>0.0</td>\n",
       "      <td>0.0</td>\n",
       "      <td>0.0</td>\n",
       "      <td>0.0000</td>\n",
       "      <td>0.0000</td>\n",
       "      <td>0.0</td>\n",
       "      <td>0.0</td>\n",
       "      <td>0.0</td>\n",
       "      <td>0.0</td>\n",
       "      <td>0</td>\n",
       "    </tr>\n",
       "    <tr>\n",
       "      <th>2</th>\n",
       "      <td>0.0</td>\n",
       "      <td>5.88</td>\n",
       "      <td>0.0</td>\n",
       "      <td>0.0</td>\n",
       "      <td>0.0</td>\n",
       "      <td>0.0</td>\n",
       "      <td>0.0</td>\n",
       "      <td>0.0</td>\n",
       "      <td>3.0</td>\n",
       "      <td>0.0</td>\n",
       "      <td>...</td>\n",
       "      <td>0.0</td>\n",
       "      <td>0.0</td>\n",
       "      <td>0.0</td>\n",
       "      <td>0.0000</td>\n",
       "      <td>0.0000</td>\n",
       "      <td>0.0</td>\n",
       "      <td>0.0</td>\n",
       "      <td>0.0</td>\n",
       "      <td>0.0</td>\n",
       "      <td>0</td>\n",
       "    </tr>\n",
       "    <tr>\n",
       "      <th>3</th>\n",
       "      <td>0.0</td>\n",
       "      <td>14.10</td>\n",
       "      <td>0.0</td>\n",
       "      <td>0.0</td>\n",
       "      <td>0.0</td>\n",
       "      <td>0.0</td>\n",
       "      <td>0.0</td>\n",
       "      <td>0.0</td>\n",
       "      <td>0.0</td>\n",
       "      <td>0.0</td>\n",
       "      <td>...</td>\n",
       "      <td>0.0</td>\n",
       "      <td>0.0</td>\n",
       "      <td>0.0</td>\n",
       "      <td>450.4200</td>\n",
       "      <td>90.8868</td>\n",
       "      <td>0.0</td>\n",
       "      <td>0.0</td>\n",
       "      <td>0.0</td>\n",
       "      <td>0.0</td>\n",
       "      <td>0</td>\n",
       "    </tr>\n",
       "    <tr>\n",
       "      <th>4</th>\n",
       "      <td>0.0</td>\n",
       "      <td>5.76</td>\n",
       "      <td>0.0</td>\n",
       "      <td>0.0</td>\n",
       "      <td>0.0</td>\n",
       "      <td>0.0</td>\n",
       "      <td>0.0</td>\n",
       "      <td>0.0</td>\n",
       "      <td>3.0</td>\n",
       "      <td>0.0</td>\n",
       "      <td>...</td>\n",
       "      <td>0.0</td>\n",
       "      <td>0.0</td>\n",
       "      <td>0.0</td>\n",
       "      <td>0.0000</td>\n",
       "      <td>0.0000</td>\n",
       "      <td>0.0</td>\n",
       "      <td>0.0</td>\n",
       "      <td>0.0</td>\n",
       "      <td>0.0</td>\n",
       "      <td>0</td>\n",
       "    </tr>\n",
       "    <tr>\n",
       "      <th>5</th>\n",
       "      <td>0.0</td>\n",
       "      <td>8.46</td>\n",
       "      <td>0.0</td>\n",
       "      <td>0.0</td>\n",
       "      <td>0.0</td>\n",
       "      <td>0.0</td>\n",
       "      <td>0.0</td>\n",
       "      <td>0.0</td>\n",
       "      <td>3.0</td>\n",
       "      <td>0.0</td>\n",
       "      <td>...</td>\n",
       "      <td>0.0</td>\n",
       "      <td>0.0</td>\n",
       "      <td>0.0</td>\n",
       "      <td>0.0000</td>\n",
       "      <td>0.0000</td>\n",
       "      <td>0.0</td>\n",
       "      <td>0.0</td>\n",
       "      <td>0.0</td>\n",
       "      <td>0.0</td>\n",
       "      <td>0</td>\n",
       "    </tr>\n",
       "    <tr>\n",
       "      <th>6</th>\n",
       "      <td>0.0</td>\n",
       "      <td>8.82</td>\n",
       "      <td>0.0</td>\n",
       "      <td>0.0</td>\n",
       "      <td>0.0</td>\n",
       "      <td>0.0</td>\n",
       "      <td>0.0</td>\n",
       "      <td>0.0</td>\n",
       "      <td>3.0</td>\n",
       "      <td>0.0</td>\n",
       "      <td>...</td>\n",
       "      <td>0.0</td>\n",
       "      <td>0.0</td>\n",
       "      <td>0.0</td>\n",
       "      <td>24.6078</td>\n",
       "      <td>0.0000</td>\n",
       "      <td>0.0</td>\n",
       "      <td>0.0</td>\n",
       "      <td>0.0</td>\n",
       "      <td>0.0</td>\n",
       "      <td>0</td>\n",
       "    </tr>\n",
       "    <tr>\n",
       "      <th>7</th>\n",
       "      <td>0.0</td>\n",
       "      <td>5.94</td>\n",
       "      <td>0.0</td>\n",
       "      <td>0.0</td>\n",
       "      <td>0.0</td>\n",
       "      <td>0.0</td>\n",
       "      <td>0.0</td>\n",
       "      <td>0.0</td>\n",
       "      <td>3.0</td>\n",
       "      <td>0.0</td>\n",
       "      <td>...</td>\n",
       "      <td>0.0</td>\n",
       "      <td>0.0</td>\n",
       "      <td>0.0</td>\n",
       "      <td>176.9313</td>\n",
       "      <td>0.0000</td>\n",
       "      <td>0.0</td>\n",
       "      <td>0.0</td>\n",
       "      <td>0.0</td>\n",
       "      <td>0.0</td>\n",
       "      <td>0</td>\n",
       "    </tr>\n",
       "    <tr>\n",
       "      <th>8</th>\n",
       "      <td>0.0</td>\n",
       "      <td>2.97</td>\n",
       "      <td>0.0</td>\n",
       "      <td>0.0</td>\n",
       "      <td>0.0</td>\n",
       "      <td>0.0</td>\n",
       "      <td>0.0</td>\n",
       "      <td>0.0</td>\n",
       "      <td>0.0</td>\n",
       "      <td>0.0</td>\n",
       "      <td>...</td>\n",
       "      <td>0.0</td>\n",
       "      <td>0.0</td>\n",
       "      <td>0.0</td>\n",
       "      <td>0.0000</td>\n",
       "      <td>0.0000</td>\n",
       "      <td>0.0</td>\n",
       "      <td>0.0</td>\n",
       "      <td>0.0</td>\n",
       "      <td>0.0</td>\n",
       "      <td>1</td>\n",
       "    </tr>\n",
       "    <tr>\n",
       "      <th>9</th>\n",
       "      <td>0.0</td>\n",
       "      <td>0.00</td>\n",
       "      <td>0.0</td>\n",
       "      <td>0.0</td>\n",
       "      <td>0.0</td>\n",
       "      <td>0.0</td>\n",
       "      <td>0.0</td>\n",
       "      <td>0.0</td>\n",
       "      <td>0.0</td>\n",
       "      <td>0.0</td>\n",
       "      <td>...</td>\n",
       "      <td>0.0</td>\n",
       "      <td>0.0</td>\n",
       "      <td>0.0</td>\n",
       "      <td>0.0000</td>\n",
       "      <td>0.0000</td>\n",
       "      <td>0.0</td>\n",
       "      <td>0.0</td>\n",
       "      <td>0.0</td>\n",
       "      <td>0.0</td>\n",
       "      <td>0</td>\n",
       "    </tr>\n",
       "  </tbody>\n",
       "</table>\n",
       "<p>10 rows × 109 columns</p>\n",
       "</div>"
      ],
      "text/plain": [
       "   var_3  var_4  var_5  var_6  var_8  var_11  var_12  var_13  var_15  var_16  \\\n",
       "0    0.0   0.00    0.0    0.0    0.0     0.0     0.0     0.0     0.0     0.0   \n",
       "1    0.0   3.00    0.0    0.0    0.0     0.0     0.0     0.0     3.0     0.0   \n",
       "2    0.0   5.88    0.0    0.0    0.0     0.0     0.0     0.0     3.0     0.0   \n",
       "3    0.0  14.10    0.0    0.0    0.0     0.0     0.0     0.0     0.0     0.0   \n",
       "4    0.0   5.76    0.0    0.0    0.0     0.0     0.0     0.0     3.0     0.0   \n",
       "5    0.0   8.46    0.0    0.0    0.0     0.0     0.0     0.0     3.0     0.0   \n",
       "6    0.0   8.82    0.0    0.0    0.0     0.0     0.0     0.0     3.0     0.0   \n",
       "7    0.0   5.94    0.0    0.0    0.0     0.0     0.0     0.0     3.0     0.0   \n",
       "8    0.0   2.97    0.0    0.0    0.0     0.0     0.0     0.0     0.0     0.0   \n",
       "9    0.0   0.00    0.0    0.0    0.0     0.0     0.0     0.0     0.0     0.0   \n",
       "\n",
       "   ...  var_258  var_264  var_265   var_266  var_268  var_271  var_276  \\\n",
       "0  ...      0.0      0.0      0.0    0.0000   0.0000      0.0      0.0   \n",
       "1  ...      0.0      0.0      0.0    0.0000   0.0000      0.0      0.0   \n",
       "2  ...      0.0      0.0      0.0    0.0000   0.0000      0.0      0.0   \n",
       "3  ...      0.0      0.0      0.0  450.4200  90.8868      0.0      0.0   \n",
       "4  ...      0.0      0.0      0.0    0.0000   0.0000      0.0      0.0   \n",
       "5  ...      0.0      0.0      0.0    0.0000   0.0000      0.0      0.0   \n",
       "6  ...      0.0      0.0      0.0   24.6078   0.0000      0.0      0.0   \n",
       "7  ...      0.0      0.0      0.0  176.9313   0.0000      0.0      0.0   \n",
       "8  ...      0.0      0.0      0.0    0.0000   0.0000      0.0      0.0   \n",
       "9  ...      0.0      0.0      0.0    0.0000   0.0000      0.0      0.0   \n",
       "\n",
       "   var_288  var_292  target  \n",
       "0      0.0      0.0       0  \n",
       "1      0.0      0.0       0  \n",
       "2      0.0      0.0       0  \n",
       "3      0.0      0.0       0  \n",
       "4      0.0      0.0       0  \n",
       "5      0.0      0.0       0  \n",
       "6      0.0      0.0       0  \n",
       "7      0.0      0.0       0  \n",
       "8      0.0      0.0       1  \n",
       "9      0.0      0.0       0  \n",
       "\n",
       "[10 rows x 109 columns]"
      ]
     },
     "execution_count": 62,
     "metadata": {},
     "output_type": "execute_result"
    }
   ],
   "source": [
    "df_inde.head(10)"
   ]
  },
  {
   "cell_type": "markdown",
   "id": "86e82c92",
   "metadata": {},
   "source": [
    "300 --> 267-->174--> 168--> correlation -->108"
   ]
  },
  {
   "cell_type": "markdown",
   "id": "2cff6599",
   "metadata": {},
   "source": [
    "## mutual information gain technique"
   ]
  },
  {
   "cell_type": "markdown",
   "id": "4f6e8313",
   "metadata": {},
   "source": [
    "--mutual information gain uses dependent variable to select the best features"
   ]
  },
  {
   "cell_type": "code",
   "execution_count": 63,
   "id": "5c9528ff",
   "metadata": {},
   "outputs": [
    {
     "data": {
      "text/plain": [
       "array([0, 1], dtype=int64)"
      ]
     },
     "execution_count": 63,
     "metadata": {},
     "output_type": "execute_result"
    }
   ],
   "source": [
    "df_inde['target'].unique()"
   ]
  },
  {
   "cell_type": "code",
   "execution_count": 64,
   "id": "01e54769",
   "metadata": {},
   "outputs": [],
   "source": [
    "from sklearn.feature_selection import mutual_info_classif,mutual_info_regression"
   ]
  },
  {
   "cell_type": "code",
   "execution_count": 65,
   "id": "17c0d9fc",
   "metadata": {},
   "outputs": [],
   "source": [
    "x = df.iloc[:, :-1] # independent\n",
    "y = df.iloc[:, -1] ## dependent"
   ]
  },
  {
   "cell_type": "code",
   "execution_count": 66,
   "id": "b035cb80",
   "metadata": {},
   "outputs": [],
   "source": [
    "reg = mutual_info_classif(x,y)"
   ]
  },
  {
   "cell_type": "code",
   "execution_count": 67,
   "id": "e9818bf8",
   "metadata": {},
   "outputs": [
    {
     "data": {
      "text/plain": [
       "array([0.00000000e+00, 4.92061690e-04, 8.17949404e-04, 1.01529576e-02,\n",
       "       6.27822059e-04, 0.00000000e+00, 7.26593088e-04, 9.12286109e-04,\n",
       "       0.00000000e+00, 0.00000000e+00, 0.00000000e+00, 0.00000000e+00,\n",
       "       0.00000000e+00, 0.00000000e+00, 1.54905070e-02, 0.00000000e+00,\n",
       "       6.93982195e-04, 1.56069974e-04, 1.06802048e-03, 0.00000000e+00,\n",
       "       1.10730836e-02, 0.00000000e+00, 0.00000000e+00, 0.00000000e+00,\n",
       "       0.00000000e+00, 1.46002361e-04, 9.24439210e-04, 1.56948962e-03,\n",
       "       2.74127052e-03, 9.76509929e-04, 9.04744072e-03, 0.00000000e+00,\n",
       "       0.00000000e+00, 0.00000000e+00, 1.30872920e-02, 0.00000000e+00,\n",
       "       5.83337330e-04, 1.83842537e-03, 0.00000000e+00, 0.00000000e+00,\n",
       "       1.33695126e-04, 6.87931497e-04, 0.00000000e+00, 8.17780980e-04,\n",
       "       0.00000000e+00, 2.13344224e-03, 3.36742476e-04, 1.84754072e-04,\n",
       "       1.04405356e-02, 0.00000000e+00, 5.11538754e-04, 1.53037948e-03,\n",
       "       0.00000000e+00, 0.00000000e+00, 1.13683290e-02, 1.13390471e-03,\n",
       "       0.00000000e+00, 1.00988638e-03, 4.43973937e-04, 1.20089969e-03,\n",
       "       0.00000000e+00, 1.00165483e-02, 0.00000000e+00, 2.06131230e-03,\n",
       "       0.00000000e+00, 0.00000000e+00, 0.00000000e+00, 0.00000000e+00,\n",
       "       2.15308602e-03, 9.47971168e-03, 0.00000000e+00, 0.00000000e+00,\n",
       "       0.00000000e+00, 7.40823785e-03, 9.58574147e-03, 8.57412558e-03,\n",
       "       0.00000000e+00, 8.70577227e-04, 0.00000000e+00, 0.00000000e+00,\n",
       "       0.00000000e+00, 6.54051847e-04, 0.00000000e+00, 0.00000000e+00,\n",
       "       0.00000000e+00, 1.01339228e-03, 0.00000000e+00, 7.64431752e-04,\n",
       "       7.81405314e-05, 0.00000000e+00, 2.07633484e-04, 0.00000000e+00,\n",
       "       6.42207007e-05, 1.25934713e-03, 1.82988763e-04, 0.00000000e+00,\n",
       "       2.55751459e-04, 1.23605689e-03, 5.59809558e-04, 0.00000000e+00,\n",
       "       1.51668801e-03, 0.00000000e+00, 6.57435165e-04, 5.18227941e-04,\n",
       "       8.45871974e-04, 0.00000000e+00, 7.91323971e-03, 2.78487398e-04,\n",
       "       0.00000000e+00, 1.18643281e-02, 2.70852465e-04, 1.40548402e-03,\n",
       "       0.00000000e+00, 3.67758409e-04, 0.00000000e+00, 0.00000000e+00,\n",
       "       2.08348721e-04, 8.95196399e-04, 9.82208095e-04, 1.32055547e-03,\n",
       "       0.00000000e+00, 0.00000000e+00, 9.13045218e-04, 0.00000000e+00,\n",
       "       0.00000000e+00, 5.91468188e-04, 0.00000000e+00, 0.00000000e+00,\n",
       "       0.00000000e+00, 1.94773025e-04, 1.30667127e-03, 1.65173038e-02,\n",
       "       0.00000000e+00, 9.26790456e-05, 0.00000000e+00, 6.57021941e-04,\n",
       "       0.00000000e+00, 0.00000000e+00, 6.74801257e-04, 0.00000000e+00,\n",
       "       1.28727958e-03, 0.00000000e+00, 0.00000000e+00, 0.00000000e+00,\n",
       "       0.00000000e+00, 1.98719112e-03, 0.00000000e+00, 1.13003853e-03,\n",
       "       5.41254756e-04, 1.55853340e-04, 1.28547186e-03, 1.65349434e-02,\n",
       "       0.00000000e+00, 2.47996266e-04, 9.93736855e-04, 0.00000000e+00,\n",
       "       1.15259181e-03, 4.20324533e-04, 7.48517938e-04, 1.26517588e-03,\n",
       "       8.70754097e-04, 1.03958067e-03, 4.91747475e-04, 3.79221135e-04,\n",
       "       1.34138129e-03, 9.16072526e-04, 5.70672028e-04, 0.00000000e+00,\n",
       "       2.60393205e-04, 1.58834556e-04, 0.00000000e+00, 0.00000000e+00,\n",
       "       2.93600891e-04, 1.18662892e-04, 1.03647022e-02, 0.00000000e+00,\n",
       "       1.88767288e-03, 0.00000000e+00, 8.63862562e-03, 9.58664699e-05,\n",
       "       5.22238168e-04, 6.17857997e-04, 4.70709491e-04, 0.00000000e+00,\n",
       "       2.45393603e-05, 2.30406396e-04, 2.75090253e-04, 0.00000000e+00,\n",
       "       0.00000000e+00, 5.79354637e-04, 2.61818509e-04, 1.93051892e-03,\n",
       "       1.23277918e-03, 6.33034812e-04, 0.00000000e+00, 3.55943270e-04,\n",
       "       0.00000000e+00, 1.15106999e-03, 0.00000000e+00, 8.30852407e-04,\n",
       "       1.91442870e-03, 0.00000000e+00, 0.00000000e+00, 1.04858949e-03,\n",
       "       1.32616961e-03, 0.00000000e+00, 5.55546643e-05, 1.09640252e-03,\n",
       "       9.11627941e-03, 0.00000000e+00, 0.00000000e+00, 0.00000000e+00,\n",
       "       0.00000000e+00, 9.57904239e-04, 0.00000000e+00, 0.00000000e+00,\n",
       "       1.46610116e-04, 1.03618682e-05, 0.00000000e+00, 0.00000000e+00,\n",
       "       0.00000000e+00, 1.16189314e-02, 4.13301408e-04, 0.00000000e+00,\n",
       "       2.36436474e-04, 3.77746960e-04, 5.84865933e-05, 9.91738438e-04,\n",
       "       5.33461994e-04, 1.52933730e-02, 1.15009503e-02, 6.87306079e-04,\n",
       "       1.65424062e-04, 0.00000000e+00, 7.89183198e-04, 8.10982292e-04,\n",
       "       2.63917496e-05, 1.35233049e-03, 0.00000000e+00, 1.62528964e-04,\n",
       "       1.18714154e-03, 7.85319079e-04, 0.00000000e+00, 1.25193308e-03,\n",
       "       0.00000000e+00, 0.00000000e+00, 0.00000000e+00, 0.00000000e+00,\n",
       "       3.04578173e-04, 1.18035365e-03, 0.00000000e+00, 1.15139737e-03,\n",
       "       4.60894674e-04, 6.61643051e-04, 2.50348057e-04, 5.08429223e-04,\n",
       "       2.73114767e-04, 7.78030743e-04, 3.38824037e-04, 6.99218721e-04,\n",
       "       3.13662588e-04, 1.44161797e-02, 7.02378740e-04, 9.70103705e-04,\n",
       "       1.17524056e-04, 0.00000000e+00, 4.75424094e-04, 7.79313134e-04,\n",
       "       0.00000000e+00, 2.18114111e-03, 0.00000000e+00, 7.58480883e-05,\n",
       "       0.00000000e+00, 0.00000000e+00, 5.54797003e-04, 6.02092685e-04,\n",
       "       0.00000000e+00, 7.14007651e-04, 0.00000000e+00, 0.00000000e+00,\n",
       "       8.37107460e-05, 0.00000000e+00, 3.71424731e-04, 4.03204553e-04,\n",
       "       0.00000000e+00, 1.56716630e-04, 2.86838994e-04, 0.00000000e+00,\n",
       "       1.06283902e-04, 0.00000000e+00, 3.86699865e-04, 5.11457584e-04,\n",
       "       1.04528135e-03, 0.00000000e+00, 6.20728216e-04, 1.14017243e-03,\n",
       "       1.03160862e-04, 4.28741727e-04, 1.11025866e-04, 1.32290672e-03])"
      ]
     },
     "execution_count": 67,
     "metadata": {},
     "output_type": "execute_result"
    }
   ],
   "source": [
    "reg"
   ]
  },
  {
   "cell_type": "code",
   "execution_count": 68,
   "id": "abb16b78",
   "metadata": {},
   "outputs": [
    {
     "data": {
      "image/png": "[encoded data removed]",
      "text/plain": [
       "<Figure size 1440x504 with 1 Axes>"
      ]
     },
     "metadata": {
      "needs_background": "light"
     },
     "output_type": "display_data"
    }
   ],
   "source": [
    "sol = pd.Series(reg)\n",
    "sol.index = x.columns\n",
    "sol.sort_values(ascending = True).plot.bar(color = 'g', figsize=(20,7) )\n",
    "plt.xlabel('column names')\n",
    "plt.ylabel('value generated by MIC')\n",
    "plt.show()\n"
   ]
  },
  {
   "cell_type": "code",
   "execution_count": 69,
   "id": "fb551de8",
   "metadata": {},
   "outputs": [],
   "source": [
    "## using select best algorithms"
   ]
  },
  {
   "cell_type": "code",
   "execution_count": 70,
   "id": "d42b1836",
   "metadata": {},
   "outputs": [],
   "source": [
    "from sklearn.feature_selection import SelectKBest"
   ]
  },
  {
   "cell_type": "code",
   "execution_count": 71,
   "id": "abd2dcd8",
   "metadata": {},
   "outputs": [],
   "source": [
    "sel = SelectKBest(mutual_info_classif,k=50).fit(x,y)"
   ]
  },
  {
   "cell_type": "markdown",
   "id": "7ecb7f62",
   "metadata": {},
   "source": [
    "-There should be no null values"
   ]
  },
  {
   "cell_type": "code",
   "execution_count": 72,
   "id": "fce3193b",
   "metadata": {},
   "outputs": [
    {
     "data": {
      "text/plain": [
       "array([False, False, False,  True,  True, False, False, False,  True,\n",
       "       False, False, False, False, False,  True, False, False,  True,\n",
       "       False, False,  True, False, False, False, False, False, False,\n",
       "       False,  True,  True,  True, False, False, False,  True, False,\n",
       "       False, False, False, False, False, False, False,  True, False,\n",
       "        True, False, False,  True, False, False,  True, False, False,\n",
       "        True, False, False,  True, False, False, False,  True, False,\n",
       "        True, False, False, False, False, False,  True, False, False,\n",
       "       False,  True,  True,  True, False, False, False, False, False,\n",
       "       False, False, False, False, False, False, False, False, False,\n",
       "        True, False, False, False, False, False, False, False, False,\n",
       "       False, False, False, False, False, False, False,  True, False,\n",
       "       False,  True,  True,  True, False,  True, False, False, False,\n",
       "        True, False, False, False, False, False, False, False,  True,\n",
       "       False, False, False, False, False,  True, False,  True, False,\n",
       "       False, False, False, False, False, False, False, False, False,\n",
       "       False,  True, False, False, False, False, False,  True, False,\n",
       "       False, False, False, False, False, False,  True,  True, False,\n",
       "        True, False, False, False, False, False, False,  True, False,\n",
       "       False, False, False,  True, False, False,  True,  True, False,\n",
       "       False, False, False, False, False, False, False, False, False,\n",
       "       False, False, False, False, False, False, False, False, False,\n",
       "       False, False, False, False, False, False,  True, False, False,\n",
       "       False,  True, False, False, False, False, False, False, False,\n",
       "       False, False,  True, False, False,  True, False, False, False,\n",
       "       False, False, False, False,  True,  True, False, False, False,\n",
       "       False, False, False, False, False, False, False, False, False,\n",
       "       False, False, False, False, False, False, False, False, False,\n",
       "       False, False, False, False, False, False,  True, False, False,\n",
       "        True, False, False, False, False, False, False, False, False,\n",
       "       False, False, False, False, False, False, False, False, False,\n",
       "       False, False, False, False,  True, False, False, False, False,\n",
       "       False, False, False, False, False, False, False, False, False,\n",
       "       False, False, False])"
      ]
     },
     "execution_count": 72,
     "metadata": {},
     "output_type": "execute_result"
    }
   ],
   "source": [
    "sel.get_support()"
   ]
  },
  {
   "cell_type": "code",
   "execution_count": 73,
   "id": "c527df76",
   "metadata": {},
   "outputs": [
    {
     "data": {
      "text/plain": [
       "Index(['var_4', 'var_5', 'var_9', 'var_15', 'var_18', 'var_21', 'var_29',\n",
       "       'var_30', 'var_31', 'var_35', 'var_44', 'var_46', 'var_49', 'var_52',\n",
       "       'var_55', 'var_58', 'var_62', 'var_64', 'var_70', 'var_74', 'var_75',\n",
       "       'var_76', 'var_91', 'var_107', 'var_110', 'var_111', 'var_112',\n",
       "       'var_114', 'var_118', 'var_126', 'var_132', 'var_134', 'var_146',\n",
       "       'var_152', 'var_160', 'var_161', 'var_163', 'var_170', 'var_175',\n",
       "       'var_178', 'var_179', 'var_205', 'var_209', 'var_219', 'var_222',\n",
       "       'var_230', 'var_231', 'var_259', 'var_262', 'var_284'],\n",
       "      dtype='object')"
      ]
     },
     "execution_count": 73,
     "metadata": {},
     "output_type": "execute_result"
    }
   ],
   "source": [
    "x.columns[sel.get_support()]"
   ]
  },
  {
   "cell_type": "code",
   "execution_count": 74,
   "id": "747c991b",
   "metadata": {},
   "outputs": [],
   "source": [
    "a = x.columns[sel.get_support()]"
   ]
  },
  {
   "cell_type": "code",
   "execution_count": 75,
   "id": "90c84b47",
   "metadata": {},
   "outputs": [],
   "source": [
    "df_inde = sel.transform(x)"
   ]
  },
  {
   "cell_type": "code",
   "execution_count": 76,
   "id": "9ef907d7",
   "metadata": {},
   "outputs": [],
   "source": [
    "df_inde = pd.DataFrame(data = df_inde, columns=a)"
   ]
  },
  {
   "cell_type": "code",
   "execution_count": 77,
   "id": "2cb99ea9",
   "metadata": {},
   "outputs": [
    {
     "data": {
      "text/html": [
       "<div>\n",
       "<style scoped>\n",
       "    .dataframe tbody tr th:only-of-type {\n",
       "        vertical-align: middle;\n",
       "    }\n",
       "\n",
       "    .dataframe tbody tr th {\n",
       "        vertical-align: top;\n",
       "    }\n",
       "\n",
       "    .dataframe thead th {\n",
       "        text-align: right;\n",
       "    }\n",
       "</style>\n",
       "<table border=\"1\" class=\"dataframe\">\n",
       "  <thead>\n",
       "    <tr style=\"text-align: right;\">\n",
       "      <th></th>\n",
       "      <th>var_4</th>\n",
       "      <th>var_5</th>\n",
       "      <th>var_9</th>\n",
       "      <th>var_15</th>\n",
       "      <th>var_18</th>\n",
       "      <th>var_21</th>\n",
       "      <th>var_29</th>\n",
       "      <th>var_30</th>\n",
       "      <th>var_31</th>\n",
       "      <th>var_35</th>\n",
       "      <th>...</th>\n",
       "      <th>var_179</th>\n",
       "      <th>var_205</th>\n",
       "      <th>var_209</th>\n",
       "      <th>var_219</th>\n",
       "      <th>var_222</th>\n",
       "      <th>var_230</th>\n",
       "      <th>var_231</th>\n",
       "      <th>var_259</th>\n",
       "      <th>var_262</th>\n",
       "      <th>var_284</th>\n",
       "    </tr>\n",
       "  </thead>\n",
       "  <tbody>\n",
       "    <tr>\n",
       "      <th>0</th>\n",
       "      <td>0.00</td>\n",
       "      <td>0.0</td>\n",
       "      <td>0.0</td>\n",
       "      <td>0.0</td>\n",
       "      <td>0.00</td>\n",
       "      <td>0.0000</td>\n",
       "      <td>1.98</td>\n",
       "      <td>0.0000</td>\n",
       "      <td>3.0</td>\n",
       "      <td>0.0000</td>\n",
       "      <td>...</td>\n",
       "      <td>1.0</td>\n",
       "      <td>0.0000</td>\n",
       "      <td>3.0</td>\n",
       "      <td>0.0</td>\n",
       "      <td>0.0000</td>\n",
       "      <td>0.0</td>\n",
       "      <td>0.0000</td>\n",
       "      <td>0.0</td>\n",
       "      <td>0.0</td>\n",
       "      <td>0.0</td>\n",
       "    </tr>\n",
       "    <tr>\n",
       "      <th>1</th>\n",
       "      <td>3.00</td>\n",
       "      <td>0.0</td>\n",
       "      <td>0.0</td>\n",
       "      <td>3.0</td>\n",
       "      <td>0.00</td>\n",
       "      <td>2.7300</td>\n",
       "      <td>1.92</td>\n",
       "      <td>0.0000</td>\n",
       "      <td>0.0</td>\n",
       "      <td>2.9100</td>\n",
       "      <td>...</td>\n",
       "      <td>0.0</td>\n",
       "      <td>0.0000</td>\n",
       "      <td>3.0</td>\n",
       "      <td>0.0</td>\n",
       "      <td>2.7600</td>\n",
       "      <td>3.0</td>\n",
       "      <td>2.4990</td>\n",
       "      <td>0.0</td>\n",
       "      <td>1.0</td>\n",
       "      <td>0.0</td>\n",
       "    </tr>\n",
       "    <tr>\n",
       "      <th>2</th>\n",
       "      <td>5.88</td>\n",
       "      <td>0.0</td>\n",
       "      <td>0.0</td>\n",
       "      <td>3.0</td>\n",
       "      <td>0.00</td>\n",
       "      <td>19.8990</td>\n",
       "      <td>1.94</td>\n",
       "      <td>69867.6741</td>\n",
       "      <td>3.0</td>\n",
       "      <td>71397.5526</td>\n",
       "      <td>...</td>\n",
       "      <td>1.0</td>\n",
       "      <td>0.0000</td>\n",
       "      <td>3.0</td>\n",
       "      <td>0.0</td>\n",
       "      <td>71397.5526</td>\n",
       "      <td>6.0</td>\n",
       "      <td>48492.8784</td>\n",
       "      <td>3.0</td>\n",
       "      <td>2.0</td>\n",
       "      <td>1.0</td>\n",
       "    </tr>\n",
       "    <tr>\n",
       "      <th>3</th>\n",
       "      <td>14.10</td>\n",
       "      <td>0.0</td>\n",
       "      <td>0.0</td>\n",
       "      <td>0.0</td>\n",
       "      <td>988.47</td>\n",
       "      <td>0.0000</td>\n",
       "      <td>7.44</td>\n",
       "      <td>0.0000</td>\n",
       "      <td>6.0</td>\n",
       "      <td>19.0164</td>\n",
       "      <td>...</td>\n",
       "      <td>1.0</td>\n",
       "      <td>723.7575</td>\n",
       "      <td>0.0</td>\n",
       "      <td>0.0</td>\n",
       "      <td>19.2231</td>\n",
       "      <td>3.0</td>\n",
       "      <td>0.0000</td>\n",
       "      <td>0.0</td>\n",
       "      <td>4.0</td>\n",
       "      <td>0.0</td>\n",
       "    </tr>\n",
       "    <tr>\n",
       "      <th>4</th>\n",
       "      <td>5.76</td>\n",
       "      <td>0.0</td>\n",
       "      <td>0.0</td>\n",
       "      <td>3.0</td>\n",
       "      <td>0.00</td>\n",
       "      <td>5981.1741</td>\n",
       "      <td>1.94</td>\n",
       "      <td>0.0000</td>\n",
       "      <td>3.0</td>\n",
       "      <td>6285.6000</td>\n",
       "      <td>...</td>\n",
       "      <td>1.0</td>\n",
       "      <td>0.0000</td>\n",
       "      <td>3.0</td>\n",
       "      <td>0.0</td>\n",
       "      <td>5958.2250</td>\n",
       "      <td>3.0</td>\n",
       "      <td>1949.4783</td>\n",
       "      <td>0.0</td>\n",
       "      <td>2.0</td>\n",
       "      <td>0.0</td>\n",
       "    </tr>\n",
       "  </tbody>\n",
       "</table>\n",
       "<p>5 rows × 50 columns</p>\n",
       "</div>"
      ],
      "text/plain": [
       "   var_4  var_5  var_9  var_15  var_18     var_21  var_29      var_30  var_31  \\\n",
       "0   0.00    0.0    0.0     0.0    0.00     0.0000    1.98      0.0000     3.0   \n",
       "1   3.00    0.0    0.0     3.0    0.00     2.7300    1.92      0.0000     0.0   \n",
       "2   5.88    0.0    0.0     3.0    0.00    19.8990    1.94  69867.6741     3.0   \n",
       "3  14.10    0.0    0.0     0.0  988.47     0.0000    7.44      0.0000     6.0   \n",
       "4   5.76    0.0    0.0     3.0    0.00  5981.1741    1.94      0.0000     3.0   \n",
       "\n",
       "       var_35  ...  var_179   var_205  var_209  var_219     var_222  var_230  \\\n",
       "0      0.0000  ...      1.0    0.0000      3.0      0.0      0.0000      0.0   \n",
       "1      2.9100  ...      0.0    0.0000      3.0      0.0      2.7600      3.0   \n",
       "2  71397.5526  ...      1.0    0.0000      3.0      0.0  71397.5526      6.0   \n",
       "3     19.0164  ...      1.0  723.7575      0.0      0.0     19.2231      3.0   \n",
       "4   6285.6000  ...      1.0    0.0000      3.0      0.0   5958.2250      3.0   \n",
       "\n",
       "      var_231  var_259  var_262  var_284  \n",
       "0      0.0000      0.0      0.0      0.0  \n",
       "1      2.4990      0.0      1.0      0.0  \n",
       "2  48492.8784      3.0      2.0      1.0  \n",
       "3      0.0000      0.0      4.0      0.0  \n",
       "4   1949.4783      0.0      2.0      0.0  \n",
       "\n",
       "[5 rows x 50 columns]"
      ]
     },
     "execution_count": 77,
     "metadata": {},
     "output_type": "execute_result"
    }
   ],
   "source": [
    "df_inde.head()"
   ]
  },
  {
   "cell_type": "code",
   "execution_count": 78,
   "id": "9df5a042",
   "metadata": {},
   "outputs": [],
   "source": [
    "df_inde['target'] = df['target']"
   ]
  },
  {
   "cell_type": "code",
   "execution_count": 79,
   "id": "caf6cb50",
   "metadata": {},
   "outputs": [
    {
     "data": {
      "text/html": [
       "<div>\n",
       "<style scoped>\n",
       "    .dataframe tbody tr th:only-of-type {\n",
       "        vertical-align: middle;\n",
       "    }\n",
       "\n",
       "    .dataframe tbody tr th {\n",
       "        vertical-align: top;\n",
       "    }\n",
       "\n",
       "    .dataframe thead th {\n",
       "        text-align: right;\n",
       "    }\n",
       "</style>\n",
       "<table border=\"1\" class=\"dataframe\">\n",
       "  <thead>\n",
       "    <tr style=\"text-align: right;\">\n",
       "      <th></th>\n",
       "      <th>var_4</th>\n",
       "      <th>var_5</th>\n",
       "      <th>var_9</th>\n",
       "      <th>var_15</th>\n",
       "      <th>var_18</th>\n",
       "      <th>var_21</th>\n",
       "      <th>var_29</th>\n",
       "      <th>var_30</th>\n",
       "      <th>var_31</th>\n",
       "      <th>var_35</th>\n",
       "      <th>...</th>\n",
       "      <th>var_205</th>\n",
       "      <th>var_209</th>\n",
       "      <th>var_219</th>\n",
       "      <th>var_222</th>\n",
       "      <th>var_230</th>\n",
       "      <th>var_231</th>\n",
       "      <th>var_259</th>\n",
       "      <th>var_262</th>\n",
       "      <th>var_284</th>\n",
       "      <th>target</th>\n",
       "    </tr>\n",
       "  </thead>\n",
       "  <tbody>\n",
       "    <tr>\n",
       "      <th>0</th>\n",
       "      <td>0.00</td>\n",
       "      <td>0.0</td>\n",
       "      <td>0.0</td>\n",
       "      <td>0.0</td>\n",
       "      <td>0.00</td>\n",
       "      <td>0.0000</td>\n",
       "      <td>1.98</td>\n",
       "      <td>0.0000</td>\n",
       "      <td>3.0</td>\n",
       "      <td>0.0000</td>\n",
       "      <td>...</td>\n",
       "      <td>0.0000</td>\n",
       "      <td>3.0</td>\n",
       "      <td>0.0</td>\n",
       "      <td>0.0000</td>\n",
       "      <td>0.0</td>\n",
       "      <td>0.0000</td>\n",
       "      <td>0.0</td>\n",
       "      <td>0.0</td>\n",
       "      <td>0.0</td>\n",
       "      <td>0</td>\n",
       "    </tr>\n",
       "    <tr>\n",
       "      <th>1</th>\n",
       "      <td>3.00</td>\n",
       "      <td>0.0</td>\n",
       "      <td>0.0</td>\n",
       "      <td>3.0</td>\n",
       "      <td>0.00</td>\n",
       "      <td>2.7300</td>\n",
       "      <td>1.92</td>\n",
       "      <td>0.0000</td>\n",
       "      <td>0.0</td>\n",
       "      <td>2.9100</td>\n",
       "      <td>...</td>\n",
       "      <td>0.0000</td>\n",
       "      <td>3.0</td>\n",
       "      <td>0.0</td>\n",
       "      <td>2.7600</td>\n",
       "      <td>3.0</td>\n",
       "      <td>2.4990</td>\n",
       "      <td>0.0</td>\n",
       "      <td>1.0</td>\n",
       "      <td>0.0</td>\n",
       "      <td>0</td>\n",
       "    </tr>\n",
       "    <tr>\n",
       "      <th>2</th>\n",
       "      <td>5.88</td>\n",
       "      <td>0.0</td>\n",
       "      <td>0.0</td>\n",
       "      <td>3.0</td>\n",
       "      <td>0.00</td>\n",
       "      <td>19.8990</td>\n",
       "      <td>1.94</td>\n",
       "      <td>69867.6741</td>\n",
       "      <td>3.0</td>\n",
       "      <td>71397.5526</td>\n",
       "      <td>...</td>\n",
       "      <td>0.0000</td>\n",
       "      <td>3.0</td>\n",
       "      <td>0.0</td>\n",
       "      <td>71397.5526</td>\n",
       "      <td>6.0</td>\n",
       "      <td>48492.8784</td>\n",
       "      <td>3.0</td>\n",
       "      <td>2.0</td>\n",
       "      <td>1.0</td>\n",
       "      <td>0</td>\n",
       "    </tr>\n",
       "    <tr>\n",
       "      <th>3</th>\n",
       "      <td>14.10</td>\n",
       "      <td>0.0</td>\n",
       "      <td>0.0</td>\n",
       "      <td>0.0</td>\n",
       "      <td>988.47</td>\n",
       "      <td>0.0000</td>\n",
       "      <td>7.44</td>\n",
       "      <td>0.0000</td>\n",
       "      <td>6.0</td>\n",
       "      <td>19.0164</td>\n",
       "      <td>...</td>\n",
       "      <td>723.7575</td>\n",
       "      <td>0.0</td>\n",
       "      <td>0.0</td>\n",
       "      <td>19.2231</td>\n",
       "      <td>3.0</td>\n",
       "      <td>0.0000</td>\n",
       "      <td>0.0</td>\n",
       "      <td>4.0</td>\n",
       "      <td>0.0</td>\n",
       "      <td>0</td>\n",
       "    </tr>\n",
       "    <tr>\n",
       "      <th>4</th>\n",
       "      <td>5.76</td>\n",
       "      <td>0.0</td>\n",
       "      <td>0.0</td>\n",
       "      <td>3.0</td>\n",
       "      <td>0.00</td>\n",
       "      <td>5981.1741</td>\n",
       "      <td>1.94</td>\n",
       "      <td>0.0000</td>\n",
       "      <td>3.0</td>\n",
       "      <td>6285.6000</td>\n",
       "      <td>...</td>\n",
       "      <td>0.0000</td>\n",
       "      <td>3.0</td>\n",
       "      <td>0.0</td>\n",
       "      <td>5958.2250</td>\n",
       "      <td>3.0</td>\n",
       "      <td>1949.4783</td>\n",
       "      <td>0.0</td>\n",
       "      <td>2.0</td>\n",
       "      <td>0.0</td>\n",
       "      <td>0</td>\n",
       "    </tr>\n",
       "  </tbody>\n",
       "</table>\n",
       "<p>5 rows × 51 columns</p>\n",
       "</div>"
      ],
      "text/plain": [
       "   var_4  var_5  var_9  var_15  var_18     var_21  var_29      var_30  var_31  \\\n",
       "0   0.00    0.0    0.0     0.0    0.00     0.0000    1.98      0.0000     3.0   \n",
       "1   3.00    0.0    0.0     3.0    0.00     2.7300    1.92      0.0000     0.0   \n",
       "2   5.88    0.0    0.0     3.0    0.00    19.8990    1.94  69867.6741     3.0   \n",
       "3  14.10    0.0    0.0     0.0  988.47     0.0000    7.44      0.0000     6.0   \n",
       "4   5.76    0.0    0.0     3.0    0.00  5981.1741    1.94      0.0000     3.0   \n",
       "\n",
       "       var_35  ...   var_205  var_209  var_219     var_222  var_230  \\\n",
       "0      0.0000  ...    0.0000      3.0      0.0      0.0000      0.0   \n",
       "1      2.9100  ...    0.0000      3.0      0.0      2.7600      3.0   \n",
       "2  71397.5526  ...    0.0000      3.0      0.0  71397.5526      6.0   \n",
       "3     19.0164  ...  723.7575      0.0      0.0     19.2231      3.0   \n",
       "4   6285.6000  ...    0.0000      3.0      0.0   5958.2250      3.0   \n",
       "\n",
       "      var_231  var_259  var_262  var_284  target  \n",
       "0      0.0000      0.0      0.0      0.0       0  \n",
       "1      2.4990      0.0      1.0      0.0       0  \n",
       "2  48492.8784      3.0      2.0      1.0       0  \n",
       "3      0.0000      0.0      4.0      0.0       0  \n",
       "4   1949.4783      0.0      2.0      0.0       0  \n",
       "\n",
       "[5 rows x 51 columns]"
      ]
     },
     "execution_count": 79,
     "metadata": {},
     "output_type": "execute_result"
    }
   ],
   "source": [
    "df_inde.head()"
   ]
  },
  {
   "cell_type": "markdown",
   "id": "501ce50d",
   "metadata": {},
   "source": [
    "300 --> 267 -->174 --> 167--> 108--> 50"
   ]
  },
  {
   "cell_type": "markdown",
   "id": "ee664edb",
   "metadata": {},
   "source": [
    "--Lasso Regression"
   ]
  },
  {
   "cell_type": "code",
   "execution_count": 80,
   "id": "07e8dfa8",
   "metadata": {},
   "outputs": [],
   "source": [
    "from sklearn.linear_model import Lasso , LogisticRegression"
   ]
  },
  {
   "cell_type": "code",
   "execution_count": 81,
   "id": "d4c895ca",
   "metadata": {},
   "outputs": [],
   "source": [
    "from sklearn.feature_selection import SelectFromModel"
   ]
  },
  {
   "cell_type": "markdown",
   "id": "bdc0502d",
   "metadata": {},
   "source": [
    "- Lasso formula = cost function + lambda * |slope| --> slope values has\n",
    "chance to each close to zero ,the features which moves to completely zero\n",
    "then we can remove that colunm\n",
    "-cost function = mse, RMSE , ARMSE\n"
   ]
  },
  {
   "cell_type": "code",
   "execution_count": 82,
   "id": "25614e98",
   "metadata": {},
   "outputs": [],
   "source": [
    "sc = SelectFromModel(LogisticRegression(C = 0.5,penalty ='l1',solver ='liblinear',random_state=42))"
   ]
  },
  {
   "cell_type": "code",
   "execution_count": 83,
   "id": "e2b5c5dd",
   "metadata": {},
   "outputs": [],
   "source": [
    "x = df_inde.iloc[:, :-1]\n",
    "y = df_inde.iloc[:, -1]"
   ]
  },
  {
   "cell_type": "code",
   "execution_count": 84,
   "id": "3a71988f",
   "metadata": {},
   "outputs": [
    {
     "data": {
      "text/plain": [
       "SelectFromModel(estimator=LogisticRegression(C=0.5, penalty='l1',\n",
       "                                             random_state=42,\n",
       "                                             solver='liblinear'))"
      ]
     },
     "execution_count": 84,
     "metadata": {},
     "output_type": "execute_result"
    }
   ],
   "source": [
    "sc.fit(x, y)"
   ]
  },
  {
   "cell_type": "code",
   "execution_count": 85,
   "id": "c9bb9fdc",
   "metadata": {},
   "outputs": [
    {
     "data": {
      "text/plain": [
       "array([ True, False, False,  True,  True,  True, False, False,  True,\n",
       "        True, False, False,  True, False,  True,  True,  True,  True,\n",
       "        True,  True,  True,  True,  True,  True,  True, False, False,\n",
       "        True,  True,  True,  True,  True,  True,  True,  True,  True,\n",
       "       False, False,  True, False, False,  True,  True,  True, False,\n",
       "        True,  True,  True,  True,  True])"
      ]
     },
     "execution_count": 85,
     "metadata": {},
     "output_type": "execute_result"
    }
   ],
   "source": [
    "sc.get_support ()"
   ]
  },
  {
   "cell_type": "code",
   "execution_count": 86,
   "id": "6a8d2ad1",
   "metadata": {},
   "outputs": [],
   "source": [
    "a = x.columns[sc.get_support()]"
   ]
  },
  {
   "cell_type": "code",
   "execution_count": 87,
   "id": "b90ce968",
   "metadata": {},
   "outputs": [
    {
     "data": {
      "text/plain": [
       "Index(['var_4', 'var_15', 'var_18', 'var_21', 'var_31', 'var_35', 'var_49',\n",
       "       'var_55', 'var_58', 'var_62', 'var_64', 'var_70', 'var_74', 'var_75',\n",
       "       'var_76', 'var_91', 'var_107', 'var_110', 'var_114', 'var_118',\n",
       "       'var_126', 'var_132', 'var_134', 'var_146', 'var_152', 'var_160',\n",
       "       'var_161', 'var_175', 'var_205', 'var_209', 'var_219', 'var_230',\n",
       "       'var_231', 'var_259', 'var_262', 'var_284'],\n",
       "      dtype='object')"
      ]
     },
     "execution_count": 87,
     "metadata": {},
     "output_type": "execute_result"
    }
   ],
   "source": [
    "a"
   ]
  },
  {
   "cell_type": "code",
   "execution_count": 88,
   "id": "0ea11572",
   "metadata": {},
   "outputs": [
    {
     "data": {
      "text/plain": [
       "36"
      ]
     },
     "execution_count": 88,
     "metadata": {},
     "output_type": "execute_result"
    }
   ],
   "source": [
    "len(a)"
   ]
  },
  {
   "cell_type": "code",
   "execution_count": 89,
   "id": "5336dfc2",
   "metadata": {},
   "outputs": [],
   "source": [
    "df_inde= sc.transform(x)"
   ]
  },
  {
   "cell_type": "code",
   "execution_count": 90,
   "id": "bfa237eb",
   "metadata": {},
   "outputs": [
    {
     "data": {
      "text/plain": [
       "(50000, 36)"
      ]
     },
     "execution_count": 90,
     "metadata": {},
     "output_type": "execute_result"
    }
   ],
   "source": [
    "df_inde.shape"
   ]
  },
  {
   "cell_type": "code",
   "execution_count": 91,
   "id": "93ee6acb",
   "metadata": {},
   "outputs": [],
   "source": [
    "df_inde = pd.DataFrame(data = df_inde, columns= a)"
   ]
  },
  {
   "cell_type": "code",
   "execution_count": 92,
   "id": "593a75f3",
   "metadata": {},
   "outputs": [
    {
     "data": {
      "text/html": [
       "<div>\n",
       "<style scoped>\n",
       "    .dataframe tbody tr th:only-of-type {\n",
       "        vertical-align: middle;\n",
       "    }\n",
       "\n",
       "    .dataframe tbody tr th {\n",
       "        vertical-align: top;\n",
       "    }\n",
       "\n",
       "    .dataframe thead th {\n",
       "        text-align: right;\n",
       "    }\n",
       "</style>\n",
       "<table border=\"1\" class=\"dataframe\">\n",
       "  <thead>\n",
       "    <tr style=\"text-align: right;\">\n",
       "      <th></th>\n",
       "      <th>var_4</th>\n",
       "      <th>var_15</th>\n",
       "      <th>var_18</th>\n",
       "      <th>var_21</th>\n",
       "      <th>var_31</th>\n",
       "      <th>var_35</th>\n",
       "      <th>var_49</th>\n",
       "      <th>var_55</th>\n",
       "      <th>var_58</th>\n",
       "      <th>var_62</th>\n",
       "      <th>...</th>\n",
       "      <th>var_161</th>\n",
       "      <th>var_175</th>\n",
       "      <th>var_205</th>\n",
       "      <th>var_209</th>\n",
       "      <th>var_219</th>\n",
       "      <th>var_230</th>\n",
       "      <th>var_231</th>\n",
       "      <th>var_259</th>\n",
       "      <th>var_262</th>\n",
       "      <th>var_284</th>\n",
       "    </tr>\n",
       "  </thead>\n",
       "  <tbody>\n",
       "    <tr>\n",
       "      <th>0</th>\n",
       "      <td>0.00</td>\n",
       "      <td>0.0</td>\n",
       "      <td>0.00</td>\n",
       "      <td>0.0000</td>\n",
       "      <td>3.0</td>\n",
       "      <td>0.0000</td>\n",
       "      <td>99.0</td>\n",
       "      <td>0.0000</td>\n",
       "      <td>0.0</td>\n",
       "      <td>3.0</td>\n",
       "      <td>...</td>\n",
       "      <td>0.00</td>\n",
       "      <td>1.0</td>\n",
       "      <td>0.0000</td>\n",
       "      <td>3.0</td>\n",
       "      <td>0.0</td>\n",
       "      <td>0.0</td>\n",
       "      <td>0.0000</td>\n",
       "      <td>0.0</td>\n",
       "      <td>0.0</td>\n",
       "      <td>0.0</td>\n",
       "    </tr>\n",
       "    <tr>\n",
       "      <th>1</th>\n",
       "      <td>3.00</td>\n",
       "      <td>3.0</td>\n",
       "      <td>0.00</td>\n",
       "      <td>2.7300</td>\n",
       "      <td>0.0</td>\n",
       "      <td>2.9100</td>\n",
       "      <td>2.0</td>\n",
       "      <td>2.6226</td>\n",
       "      <td>0.0</td>\n",
       "      <td>0.0</td>\n",
       "      <td>...</td>\n",
       "      <td>0.00</td>\n",
       "      <td>0.0</td>\n",
       "      <td>0.0000</td>\n",
       "      <td>3.0</td>\n",
       "      <td>0.0</td>\n",
       "      <td>3.0</td>\n",
       "      <td>2.4990</td>\n",
       "      <td>0.0</td>\n",
       "      <td>1.0</td>\n",
       "      <td>0.0</td>\n",
       "    </tr>\n",
       "    <tr>\n",
       "      <th>2</th>\n",
       "      <td>5.88</td>\n",
       "      <td>3.0</td>\n",
       "      <td>0.00</td>\n",
       "      <td>19.8990</td>\n",
       "      <td>3.0</td>\n",
       "      <td>71397.5526</td>\n",
       "      <td>2.0</td>\n",
       "      <td>22874.0550</td>\n",
       "      <td>3.0</td>\n",
       "      <td>3.0</td>\n",
       "      <td>...</td>\n",
       "      <td>2.82</td>\n",
       "      <td>1.0</td>\n",
       "      <td>0.0000</td>\n",
       "      <td>3.0</td>\n",
       "      <td>0.0</td>\n",
       "      <td>6.0</td>\n",
       "      <td>48492.8784</td>\n",
       "      <td>3.0</td>\n",
       "      <td>2.0</td>\n",
       "      <td>1.0</td>\n",
       "    </tr>\n",
       "    <tr>\n",
       "      <th>3</th>\n",
       "      <td>14.10</td>\n",
       "      <td>0.0</td>\n",
       "      <td>988.47</td>\n",
       "      <td>0.0000</td>\n",
       "      <td>6.0</td>\n",
       "      <td>19.0164</td>\n",
       "      <td>2.0</td>\n",
       "      <td>0.0000</td>\n",
       "      <td>0.0</td>\n",
       "      <td>6.0</td>\n",
       "      <td>...</td>\n",
       "      <td>5.52</td>\n",
       "      <td>1.0</td>\n",
       "      <td>723.7575</td>\n",
       "      <td>0.0</td>\n",
       "      <td>0.0</td>\n",
       "      <td>3.0</td>\n",
       "      <td>0.0000</td>\n",
       "      <td>0.0</td>\n",
       "      <td>4.0</td>\n",
       "      <td>0.0</td>\n",
       "    </tr>\n",
       "    <tr>\n",
       "      <th>4</th>\n",
       "      <td>5.76</td>\n",
       "      <td>3.0</td>\n",
       "      <td>0.00</td>\n",
       "      <td>5981.1741</td>\n",
       "      <td>3.0</td>\n",
       "      <td>6285.6000</td>\n",
       "      <td>1.0</td>\n",
       "      <td>4074.2619</td>\n",
       "      <td>0.0</td>\n",
       "      <td>3.0</td>\n",
       "      <td>...</td>\n",
       "      <td>0.00</td>\n",
       "      <td>1.0</td>\n",
       "      <td>0.0000</td>\n",
       "      <td>3.0</td>\n",
       "      <td>0.0</td>\n",
       "      <td>3.0</td>\n",
       "      <td>1949.4783</td>\n",
       "      <td>0.0</td>\n",
       "      <td>2.0</td>\n",
       "      <td>0.0</td>\n",
       "    </tr>\n",
       "  </tbody>\n",
       "</table>\n",
       "<p>5 rows × 36 columns</p>\n",
       "</div>"
      ],
      "text/plain": [
       "   var_4  var_15  var_18     var_21  var_31      var_35  var_49      var_55  \\\n",
       "0   0.00     0.0    0.00     0.0000     3.0      0.0000    99.0      0.0000   \n",
       "1   3.00     3.0    0.00     2.7300     0.0      2.9100     2.0      2.6226   \n",
       "2   5.88     3.0    0.00    19.8990     3.0  71397.5526     2.0  22874.0550   \n",
       "3  14.10     0.0  988.47     0.0000     6.0     19.0164     2.0      0.0000   \n",
       "4   5.76     3.0    0.00  5981.1741     3.0   6285.6000     1.0   4074.2619   \n",
       "\n",
       "   var_58  var_62  ...  var_161  var_175   var_205  var_209  var_219  var_230  \\\n",
       "0     0.0     3.0  ...     0.00      1.0    0.0000      3.0      0.0      0.0   \n",
       "1     0.0     0.0  ...     0.00      0.0    0.0000      3.0      0.0      3.0   \n",
       "2     3.0     3.0  ...     2.82      1.0    0.0000      3.0      0.0      6.0   \n",
       "3     0.0     6.0  ...     5.52      1.0  723.7575      0.0      0.0      3.0   \n",
       "4     0.0     3.0  ...     0.00      1.0    0.0000      3.0      0.0      3.0   \n",
       "\n",
       "      var_231  var_259  var_262  var_284  \n",
       "0      0.0000      0.0      0.0      0.0  \n",
       "1      2.4990      0.0      1.0      0.0  \n",
       "2  48492.8784      3.0      2.0      1.0  \n",
       "3      0.0000      0.0      4.0      0.0  \n",
       "4   1949.4783      0.0      2.0      0.0  \n",
       "\n",
       "[5 rows x 36 columns]"
      ]
     },
     "execution_count": 92,
     "metadata": {},
     "output_type": "execute_result"
    }
   ],
   "source": [
    "df_inde.head()"
   ]
  },
  {
   "cell_type": "code",
   "execution_count": 93,
   "id": "b84491b8",
   "metadata": {},
   "outputs": [],
   "source": [
    "df_inde['target'] =df['target']"
   ]
  },
  {
   "cell_type": "code",
   "execution_count": 94,
   "id": "3fabe053",
   "metadata": {},
   "outputs": [
    {
     "data": {
      "text/html": [
       "<div>\n",
       "<style scoped>\n",
       "    .dataframe tbody tr th:only-of-type {\n",
       "        vertical-align: middle;\n",
       "    }\n",
       "\n",
       "    .dataframe tbody tr th {\n",
       "        vertical-align: top;\n",
       "    }\n",
       "\n",
       "    .dataframe thead th {\n",
       "        text-align: right;\n",
       "    }\n",
       "</style>\n",
       "<table border=\"1\" class=\"dataframe\">\n",
       "  <thead>\n",
       "    <tr style=\"text-align: right;\">\n",
       "      <th></th>\n",
       "      <th>var_4</th>\n",
       "      <th>var_15</th>\n",
       "      <th>var_18</th>\n",
       "      <th>var_21</th>\n",
       "      <th>var_31</th>\n",
       "      <th>var_35</th>\n",
       "      <th>var_49</th>\n",
       "      <th>var_55</th>\n",
       "      <th>var_58</th>\n",
       "      <th>var_62</th>\n",
       "      <th>...</th>\n",
       "      <th>var_175</th>\n",
       "      <th>var_205</th>\n",
       "      <th>var_209</th>\n",
       "      <th>var_219</th>\n",
       "      <th>var_230</th>\n",
       "      <th>var_231</th>\n",
       "      <th>var_259</th>\n",
       "      <th>var_262</th>\n",
       "      <th>var_284</th>\n",
       "      <th>target</th>\n",
       "    </tr>\n",
       "  </thead>\n",
       "  <tbody>\n",
       "    <tr>\n",
       "      <th>0</th>\n",
       "      <td>0.00</td>\n",
       "      <td>0.0</td>\n",
       "      <td>0.00</td>\n",
       "      <td>0.0000</td>\n",
       "      <td>3.0</td>\n",
       "      <td>0.0000</td>\n",
       "      <td>99.0</td>\n",
       "      <td>0.0000</td>\n",
       "      <td>0.0</td>\n",
       "      <td>3.0</td>\n",
       "      <td>...</td>\n",
       "      <td>1.0</td>\n",
       "      <td>0.0000</td>\n",
       "      <td>3.0</td>\n",
       "      <td>0.0</td>\n",
       "      <td>0.0</td>\n",
       "      <td>0.0000</td>\n",
       "      <td>0.0</td>\n",
       "      <td>0.0</td>\n",
       "      <td>0.0</td>\n",
       "      <td>0</td>\n",
       "    </tr>\n",
       "    <tr>\n",
       "      <th>1</th>\n",
       "      <td>3.00</td>\n",
       "      <td>3.0</td>\n",
       "      <td>0.00</td>\n",
       "      <td>2.7300</td>\n",
       "      <td>0.0</td>\n",
       "      <td>2.9100</td>\n",
       "      <td>2.0</td>\n",
       "      <td>2.6226</td>\n",
       "      <td>0.0</td>\n",
       "      <td>0.0</td>\n",
       "      <td>...</td>\n",
       "      <td>0.0</td>\n",
       "      <td>0.0000</td>\n",
       "      <td>3.0</td>\n",
       "      <td>0.0</td>\n",
       "      <td>3.0</td>\n",
       "      <td>2.4990</td>\n",
       "      <td>0.0</td>\n",
       "      <td>1.0</td>\n",
       "      <td>0.0</td>\n",
       "      <td>0</td>\n",
       "    </tr>\n",
       "    <tr>\n",
       "      <th>2</th>\n",
       "      <td>5.88</td>\n",
       "      <td>3.0</td>\n",
       "      <td>0.00</td>\n",
       "      <td>19.8990</td>\n",
       "      <td>3.0</td>\n",
       "      <td>71397.5526</td>\n",
       "      <td>2.0</td>\n",
       "      <td>22874.0550</td>\n",
       "      <td>3.0</td>\n",
       "      <td>3.0</td>\n",
       "      <td>...</td>\n",
       "      <td>1.0</td>\n",
       "      <td>0.0000</td>\n",
       "      <td>3.0</td>\n",
       "      <td>0.0</td>\n",
       "      <td>6.0</td>\n",
       "      <td>48492.8784</td>\n",
       "      <td>3.0</td>\n",
       "      <td>2.0</td>\n",
       "      <td>1.0</td>\n",
       "      <td>0</td>\n",
       "    </tr>\n",
       "    <tr>\n",
       "      <th>3</th>\n",
       "      <td>14.10</td>\n",
       "      <td>0.0</td>\n",
       "      <td>988.47</td>\n",
       "      <td>0.0000</td>\n",
       "      <td>6.0</td>\n",
       "      <td>19.0164</td>\n",
       "      <td>2.0</td>\n",
       "      <td>0.0000</td>\n",
       "      <td>0.0</td>\n",
       "      <td>6.0</td>\n",
       "      <td>...</td>\n",
       "      <td>1.0</td>\n",
       "      <td>723.7575</td>\n",
       "      <td>0.0</td>\n",
       "      <td>0.0</td>\n",
       "      <td>3.0</td>\n",
       "      <td>0.0000</td>\n",
       "      <td>0.0</td>\n",
       "      <td>4.0</td>\n",
       "      <td>0.0</td>\n",
       "      <td>0</td>\n",
       "    </tr>\n",
       "    <tr>\n",
       "      <th>4</th>\n",
       "      <td>5.76</td>\n",
       "      <td>3.0</td>\n",
       "      <td>0.00</td>\n",
       "      <td>5981.1741</td>\n",
       "      <td>3.0</td>\n",
       "      <td>6285.6000</td>\n",
       "      <td>1.0</td>\n",
       "      <td>4074.2619</td>\n",
       "      <td>0.0</td>\n",
       "      <td>3.0</td>\n",
       "      <td>...</td>\n",
       "      <td>1.0</td>\n",
       "      <td>0.0000</td>\n",
       "      <td>3.0</td>\n",
       "      <td>0.0</td>\n",
       "      <td>3.0</td>\n",
       "      <td>1949.4783</td>\n",
       "      <td>0.0</td>\n",
       "      <td>2.0</td>\n",
       "      <td>0.0</td>\n",
       "      <td>0</td>\n",
       "    </tr>\n",
       "  </tbody>\n",
       "</table>\n",
       "<p>5 rows × 37 columns</p>\n",
       "</div>"
      ],
      "text/plain": [
       "   var_4  var_15  var_18     var_21  var_31      var_35  var_49      var_55  \\\n",
       "0   0.00     0.0    0.00     0.0000     3.0      0.0000    99.0      0.0000   \n",
       "1   3.00     3.0    0.00     2.7300     0.0      2.9100     2.0      2.6226   \n",
       "2   5.88     3.0    0.00    19.8990     3.0  71397.5526     2.0  22874.0550   \n",
       "3  14.10     0.0  988.47     0.0000     6.0     19.0164     2.0      0.0000   \n",
       "4   5.76     3.0    0.00  5981.1741     3.0   6285.6000     1.0   4074.2619   \n",
       "\n",
       "   var_58  var_62  ...  var_175   var_205  var_209  var_219  var_230  \\\n",
       "0     0.0     3.0  ...      1.0    0.0000      3.0      0.0      0.0   \n",
       "1     0.0     0.0  ...      0.0    0.0000      3.0      0.0      3.0   \n",
       "2     3.0     3.0  ...      1.0    0.0000      3.0      0.0      6.0   \n",
       "3     0.0     6.0  ...      1.0  723.7575      0.0      0.0      3.0   \n",
       "4     0.0     3.0  ...      1.0    0.0000      3.0      0.0      3.0   \n",
       "\n",
       "      var_231  var_259  var_262  var_284  target  \n",
       "0      0.0000      0.0      0.0      0.0       0  \n",
       "1      2.4990      0.0      1.0      0.0       0  \n",
       "2  48492.8784      3.0      2.0      1.0       0  \n",
       "3      0.0000      0.0      4.0      0.0       0  \n",
       "4   1949.4783      0.0      2.0      0.0       0  \n",
       "\n",
       "[5 rows x 37 columns]"
      ]
     },
     "execution_count": 94,
     "metadata": {},
     "output_type": "execute_result"
    }
   ],
   "source": [
    "df_inde.head()"
   ]
  },
  {
   "cell_type": "code",
   "execution_count": 95,
   "id": "f8dd2613",
   "metadata": {},
   "outputs": [
    {
     "data": {
      "text/plain": [
       "(50000, 37)"
      ]
     },
     "execution_count": 95,
     "metadata": {},
     "output_type": "execute_result"
    }
   ],
   "source": [
    "df_inde.shape"
   ]
  },
  {
   "cell_type": "markdown",
   "id": "9c26a64e",
   "metadata": {},
   "source": [
    "## random forest for feature selection"
   ]
  },
  {
   "cell_type": "code",
   "execution_count": 96,
   "id": "8fa80161",
   "metadata": {},
   "outputs": [],
   "source": [
    "from sklearn.ensemble import RandomForestClassifier"
   ]
  },
  {
   "cell_type": "code",
   "execution_count": 97,
   "id": "10a2ec71",
   "metadata": {},
   "outputs": [],
   "source": [
    "x =df_inde.iloc[: ,:-1]\n",
    "y= df_inde.iloc[:, -1]"
   ]
  },
  {
   "cell_type": "code",
   "execution_count": 98,
   "id": "39e00dd1",
   "metadata": {},
   "outputs": [
    {
     "data": {
      "text/plain": [
       "SelectFromModel(estimator=RandomForestClassifier(n_estimators=10,\n",
       "                                                 random_state=42))"
      ]
     },
     "execution_count": 98,
     "metadata": {},
     "output_type": "execute_result"
    }
   ],
   "source": [
    "sc = SelectFromModel(RandomForestClassifier(n_estimators = 10, random_state=42))\n",
    "sc.fit(x,y)"
   ]
  },
  {
   "cell_type": "code",
   "execution_count": 99,
   "id": "f9f6945c",
   "metadata": {},
   "outputs": [
    {
     "data": {
      "text/plain": [
       "array([ True, False, False,  True, False,  True, False,  True, False,\n",
       "       False, False, False, False,  True,  True,  True, False,  True,\n",
       "       False, False, False, False, False, False, False, False,  True,\n",
       "       False, False, False, False, False,  True, False, False, False])"
      ]
     },
     "execution_count": 99,
     "metadata": {},
     "output_type": "execute_result"
    }
   ],
   "source": [
    "sc.get_support()"
   ]
  },
  {
   "cell_type": "code",
   "execution_count": 100,
   "id": "87851ce3",
   "metadata": {},
   "outputs": [
    {
     "name": "stdout",
     "output_type": "stream",
     "text": [
      "Index(['var_4', 'var_21', 'var_35', 'var_55', 'var_75', 'var_76', 'var_91',\n",
      "       'var_110', 'var_161', 'var_231'],\n",
      "      dtype='object')\n"
     ]
    }
   ],
   "source": [
    "a = x.columns[sc.get_support()]\n",
    "print(a)"
   ]
  },
  {
   "cell_type": "code",
   "execution_count": 101,
   "id": "684568e5",
   "metadata": {},
   "outputs": [
    {
     "data": {
      "text/plain": [
       "10"
      ]
     },
     "execution_count": 101,
     "metadata": {},
     "output_type": "execute_result"
    }
   ],
   "source": [
    "len(a)"
   ]
  },
  {
   "cell_type": "code",
   "execution_count": 102,
   "id": "a7e81e20",
   "metadata": {},
   "outputs": [],
   "source": [
    "a = x.columns[~sc.get_support()]"
   ]
  },
  {
   "cell_type": "code",
   "execution_count": 103,
   "id": "81ed43fe",
   "metadata": {},
   "outputs": [
    {
     "data": {
      "text/plain": [
       "Index(['var_15', 'var_18', 'var_31', 'var_49', 'var_58', 'var_62', 'var_64',\n",
       "       'var_70', 'var_74', 'var_107', 'var_114', 'var_118', 'var_126',\n",
       "       'var_132', 'var_134', 'var_146', 'var_152', 'var_160', 'var_175',\n",
       "       'var_205', 'var_209', 'var_219', 'var_230', 'var_259', 'var_262',\n",
       "       'var_284'],\n",
       "      dtype='object')"
      ]
     },
     "execution_count": 103,
     "metadata": {},
     "output_type": "execute_result"
    }
   ],
   "source": [
    "a"
   ]
  },
  {
   "cell_type": "code",
   "execution_count": 104,
   "id": "862450b6",
   "metadata": {},
   "outputs": [],
   "source": [
    "df_inde =sc.transform(x)"
   ]
  },
  {
   "cell_type": "code",
   "execution_count": 105,
   "id": "41e86c3f",
   "metadata": {},
   "outputs": [
    {
     "data": {
      "text/plain": [
       "array([[0.00000000e+00, 0.00000000e+00, 0.00000000e+00, ...,\n",
       "        2.82000000e+01, 0.00000000e+00, 0.00000000e+00],\n",
       "       [3.00000000e+00, 2.73000000e+00, 2.91000000e+00, ...,\n",
       "        4.21400000e+01, 0.00000000e+00, 2.49900000e+00],\n",
       "       [5.88000000e+00, 1.98990000e+01, 7.13975526e+04, ...,\n",
       "        3.58900000e+01, 2.82000000e+00, 4.84928784e+04],\n",
       "       ...,\n",
       "       [8.46000000e+00, 2.14840500e+03, 3.24767160e+03, ...,\n",
       "        2.57600000e+01, 2.53800000e+01, 2.73000000e+01],\n",
       "       [2.76000000e+00, 0.00000000e+00, 1.10435880e+03, ...,\n",
       "        4.80000000e+00, 0.00000000e+00, 0.00000000e+00],\n",
       "       [5.64000000e+00, 2.58782160e+03, 2.41264980e+03, ...,\n",
       "        3.42000000e+01, 8.19000000e+00, 1.66210800e+02]])"
      ]
     },
     "execution_count": 105,
     "metadata": {},
     "output_type": "execute_result"
    }
   ],
   "source": [
    "df_inde"
   ]
  },
  {
   "cell_type": "code",
   "execution_count": null,
   "id": "cf95d641",
   "metadata": {},
   "outputs": [],
   "source": []
  }
 ],
 "metadata": {
  "kernelspec": {
   "display_name": "Python 3 (ipykernel)",
   "language": "python",
   "name": "python3"
  },
  "language_info": {
   "codemirror_mode": {
    "name": "ipython",
    "version": 3
   },
   "file_extension": ".py",
   "mimetype": "text/x-python",
   "name": "python",
   "nbconvert_exporter": "python",
   "pygments_lexer": "ipython3",
   "version": "3.9.12"
  }
 },
 "nbformat": 4,
 "nbformat_minor": 5
}
